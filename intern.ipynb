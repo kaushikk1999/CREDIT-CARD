{
 "cells": [
  {
   "cell_type": "markdown",
   "id": "ee8a481f-aaae-415e-a6d9-b3b82d007c8d",
   "metadata": {},
   "source": [
    "# Importing the libraries"
   ]
  },
  {
   "cell_type": "code",
   "execution_count": 1,
   "id": "e4fd1ce5-7021-4182-9e09-6cac5b0869fe",
   "metadata": {},
   "outputs": [],
   "source": [
    "\n",
    "import pandas as pd\n",
    "import numpy as np\n",
    "\n",
    "import matplotlib.pyplot as plt\n",
    "%matplotlib inline\n",
    "import seaborn as sns\n",
    "\n",
    "import warnings\n",
    "warnings.filterwarnings('ignore')"
   ]
  },
  {
   "cell_type": "code",
   "execution_count": 13,
   "id": "51316ff5-0f9d-47af-90aa-018fa6aa21dc",
   "metadata": {},
   "outputs": [],
   "source": [
    "df= pd.read_csv(r'C:\\Users\\yokau\\Downloads\\Fraud.csv')"
   ]
  },
  {
   "cell_type": "markdown",
   "id": "1e4ea8a8-e1a9-4440-be3c-212ded00080d",
   "metadata": {},
   "source": [
    "#### Shape"
   ]
  },
  {
   "cell_type": "code",
   "execution_count": 4,
   "id": "59241059-65e9-4a0a-8025-cc3088c5029a",
   "metadata": {},
   "outputs": [
    {
     "data": {
      "text/plain": [
       "(6362620, 11)"
      ]
     },
     "execution_count": 4,
     "metadata": {},
     "output_type": "execute_result"
    }
   ],
   "source": [
    "df.shape"
   ]
  },
  {
   "cell_type": "markdown",
   "id": "f0b3e422-3f84-4a6f-af2e-85d57cd335f4",
   "metadata": {},
   "source": [
    "#### Handling Null values"
   ]
  },
  {
   "cell_type": "code",
   "execution_count": 5,
   "id": "7976dcb3-7d1f-4e2a-b879-991d3dc747f2",
   "metadata": {},
   "outputs": [
    {
     "data": {
      "text/plain": [
       "Series([], dtype: int64)"
      ]
     },
     "execution_count": 5,
     "metadata": {},
     "output_type": "execute_result"
    }
   ],
   "source": [
    "# nv = null values\n",
    "nv_df = df.isnull().sum()\n",
    "nv_df = nv_df[nv_df>0]\n",
    "nv_df"
   ]
  },
  {
   "cell_type": "markdown",
   "id": "a82ccafb-d828-4b4f-8973-390f363c3460",
   "metadata": {},
   "source": [
    "#### Checking Duplicates"
   ]
  },
  {
   "cell_type": "code",
   "execution_count": 6,
   "id": "a6a85286-0974-4485-8e21-168c6d55fa39",
   "metadata": {},
   "outputs": [
    {
     "name": "stdout",
     "output_type": "stream",
     "text": [
      "0\n"
     ]
    }
   ],
   "source": [
    "print(df.duplicated().sum())"
   ]
  },
  {
   "cell_type": "markdown",
   "id": "58765691-eb7c-4290-a07d-dd5fa56be495",
   "metadata": {},
   "source": [
    "####  Checking the datatypes"
   ]
  },
  {
   "cell_type": "code",
   "execution_count": 7,
   "id": "2a3188c5-b5e1-488f-8ca9-b9311a4686eb",
   "metadata": {},
   "outputs": [
    {
     "data": {
      "text/plain": [
       "step                int64\n",
       "type               object\n",
       "amount            float64\n",
       "nameOrig           object\n",
       "oldbalanceOrg     float64\n",
       "newbalanceOrig    float64\n",
       "nameDest           object\n",
       "oldbalanceDest    float64\n",
       "newbalanceDest    float64\n",
       "isFraud             int64\n",
       "isFlaggedFraud      int64\n",
       "dtype: object"
      ]
     },
     "execution_count": 7,
     "metadata": {},
     "output_type": "execute_result"
    }
   ],
   "source": [
    "df.dtypes"
   ]
  },
  {
   "cell_type": "markdown",
   "id": "e0156c25-5b56-4c0b-8b71-2ad7a4fa57b7",
   "metadata": {},
   "source": [
    "# seeing the statistics summary"
   ]
  },
  {
   "cell_type": "code",
   "execution_count": 7,
   "id": "979c2907-b484-4e03-ae90-e00d99cf08a8",
   "metadata": {},
   "outputs": [
    {
     "data": {
      "text/html": [
       "<div><div id=88ed50b1-e7e5-4071-a542-e1d0de6dcf07 style=\"display:none; background-color:#9D6CFF; color:white; width:200px; height:30px; padding-left:5px; border-radius:4px; flex-direction:row; justify-content:space-around; align-items:center;\" onmouseover=\"this.style.backgroundColor='#BA9BF8'\" onmouseout=\"this.style.backgroundColor='#9D6CFF'\" onclick=\"window.commands?.execute('create-mitosheet-from-dataframe-output');\">See Full Dataframe in Mito</div> <script> if (window.commands?.hasCommand('create-mitosheet-from-dataframe-output')) document.getElementById('88ed50b1-e7e5-4071-a542-e1d0de6dcf07').style.display = 'flex' </script> <table border=\"1\" class=\"dataframe\">\n",
       "  <thead>\n",
       "    <tr style=\"text-align: right;\">\n",
       "      <th></th>\n",
       "      <th>step</th>\n",
       "      <th>amount</th>\n",
       "      <th>oldbalanceOrg</th>\n",
       "      <th>newbalanceOrig</th>\n",
       "      <th>oldbalanceDest</th>\n",
       "      <th>newbalanceDest</th>\n",
       "      <th>isFraud</th>\n",
       "      <th>isFlaggedFraud</th>\n",
       "    </tr>\n",
       "  </thead>\n",
       "  <tbody>\n",
       "    <tr>\n",
       "      <th>count</th>\n",
       "      <td>6.362620e+06</td>\n",
       "      <td>6.362620e+06</td>\n",
       "      <td>6.362620e+06</td>\n",
       "      <td>6.362620e+06</td>\n",
       "      <td>6.362620e+06</td>\n",
       "      <td>6.362620e+06</td>\n",
       "      <td>6.362620e+06</td>\n",
       "      <td>6.362620e+06</td>\n",
       "    </tr>\n",
       "    <tr>\n",
       "      <th>mean</th>\n",
       "      <td>2.433972e+02</td>\n",
       "      <td>1.798619e+05</td>\n",
       "      <td>8.338831e+05</td>\n",
       "      <td>8.551137e+05</td>\n",
       "      <td>1.100702e+06</td>\n",
       "      <td>1.224996e+06</td>\n",
       "      <td>1.290820e-03</td>\n",
       "      <td>2.514687e-06</td>\n",
       "    </tr>\n",
       "    <tr>\n",
       "      <th>std</th>\n",
       "      <td>1.423320e+02</td>\n",
       "      <td>6.038582e+05</td>\n",
       "      <td>2.888243e+06</td>\n",
       "      <td>2.924049e+06</td>\n",
       "      <td>3.399180e+06</td>\n",
       "      <td>3.674129e+06</td>\n",
       "      <td>3.590480e-02</td>\n",
       "      <td>1.585775e-03</td>\n",
       "    </tr>\n",
       "    <tr>\n",
       "      <th>min</th>\n",
       "      <td>1.000000e+00</td>\n",
       "      <td>0.000000e+00</td>\n",
       "      <td>0.000000e+00</td>\n",
       "      <td>0.000000e+00</td>\n",
       "      <td>0.000000e+00</td>\n",
       "      <td>0.000000e+00</td>\n",
       "      <td>0.000000e+00</td>\n",
       "      <td>0.000000e+00</td>\n",
       "    </tr>\n",
       "    <tr>\n",
       "      <th>25%</th>\n",
       "      <td>1.560000e+02</td>\n",
       "      <td>1.338957e+04</td>\n",
       "      <td>0.000000e+00</td>\n",
       "      <td>0.000000e+00</td>\n",
       "      <td>0.000000e+00</td>\n",
       "      <td>0.000000e+00</td>\n",
       "      <td>0.000000e+00</td>\n",
       "      <td>0.000000e+00</td>\n",
       "    </tr>\n",
       "    <tr>\n",
       "      <th>50%</th>\n",
       "      <td>2.390000e+02</td>\n",
       "      <td>7.487194e+04</td>\n",
       "      <td>1.420800e+04</td>\n",
       "      <td>0.000000e+00</td>\n",
       "      <td>1.327057e+05</td>\n",
       "      <td>2.146614e+05</td>\n",
       "      <td>0.000000e+00</td>\n",
       "      <td>0.000000e+00</td>\n",
       "    </tr>\n",
       "    <tr>\n",
       "      <th>75%</th>\n",
       "      <td>3.350000e+02</td>\n",
       "      <td>2.087215e+05</td>\n",
       "      <td>1.073152e+05</td>\n",
       "      <td>1.442584e+05</td>\n",
       "      <td>9.430367e+05</td>\n",
       "      <td>1.111909e+06</td>\n",
       "      <td>0.000000e+00</td>\n",
       "      <td>0.000000e+00</td>\n",
       "    </tr>\n",
       "    <tr>\n",
       "      <th>max</th>\n",
       "      <td>7.430000e+02</td>\n",
       "      <td>9.244552e+07</td>\n",
       "      <td>5.958504e+07</td>\n",
       "      <td>4.958504e+07</td>\n",
       "      <td>3.560159e+08</td>\n",
       "      <td>3.561793e+08</td>\n",
       "      <td>1.000000e+00</td>\n",
       "      <td>1.000000e+00</td>\n",
       "    </tr>\n",
       "  </tbody>\n",
       "</table></div>"
      ],
      "text/plain": [
       "               step        amount  oldbalanceOrg  newbalanceOrig  \\\n",
       "count  6.362620e+06  6.362620e+06   6.362620e+06    6.362620e+06   \n",
       "mean   2.433972e+02  1.798619e+05   8.338831e+05    8.551137e+05   \n",
       "std    1.423320e+02  6.038582e+05   2.888243e+06    2.924049e+06   \n",
       "min    1.000000e+00  0.000000e+00   0.000000e+00    0.000000e+00   \n",
       "25%    1.560000e+02  1.338957e+04   0.000000e+00    0.000000e+00   \n",
       "50%    2.390000e+02  7.487194e+04   1.420800e+04    0.000000e+00   \n",
       "75%    3.350000e+02  2.087215e+05   1.073152e+05    1.442584e+05   \n",
       "max    7.430000e+02  9.244552e+07   5.958504e+07    4.958504e+07   \n",
       "\n",
       "       oldbalanceDest  newbalanceDest       isFraud  isFlaggedFraud  \n",
       "count    6.362620e+06    6.362620e+06  6.362620e+06    6.362620e+06  \n",
       "mean     1.100702e+06    1.224996e+06  1.290820e-03    2.514687e-06  \n",
       "std      3.399180e+06    3.674129e+06  3.590480e-02    1.585775e-03  \n",
       "min      0.000000e+00    0.000000e+00  0.000000e+00    0.000000e+00  \n",
       "25%      0.000000e+00    0.000000e+00  0.000000e+00    0.000000e+00  \n",
       "50%      1.327057e+05    2.146614e+05  0.000000e+00    0.000000e+00  \n",
       "75%      9.430367e+05    1.111909e+06  0.000000e+00    0.000000e+00  \n",
       "max      3.560159e+08    3.561793e+08  1.000000e+00    1.000000e+00  "
      ]
     },
     "execution_count": 7,
     "metadata": {},
     "output_type": "execute_result"
    }
   ],
   "source": [
    "df.describe()"
   ]
  },
  {
   "cell_type": "code",
   "execution_count": 8,
   "id": "195694b4-7910-44c9-afb0-8f0c50a5a5ec",
   "metadata": {},
   "outputs": [
    {
     "data": {
      "text/plain": [
       "Index(['step', 'type', 'amount', 'nameOrig', 'oldbalanceOrg', 'newbalanceOrig',\n",
       "       'nameDest', 'oldbalanceDest', 'newbalanceDest', 'isFraud',\n",
       "       'isFlaggedFraud'],\n",
       "      dtype='object')"
      ]
     },
     "execution_count": 8,
     "metadata": {},
     "output_type": "execute_result"
    }
   ],
   "source": [
    "df.columns"
   ]
  },
  {
   "cell_type": "markdown",
   "id": "5324e9eb-f247-46c7-8bdb-612e5725a704",
   "metadata": {},
   "source": [
    "# eda "
   ]
  },
  {
   "cell_type": "code",
   "execution_count": 9,
   "id": "d062d704-d4da-4d69-abd2-1b8f6eee04d4",
   "metadata": {},
   "outputs": [
    {
     "data": {
      "text/plain": [
       "0    6354407\n",
       "1       8213\n",
       "Name: isFraud, dtype: int64"
      ]
     },
     "execution_count": 9,
     "metadata": {},
     "output_type": "execute_result"
    }
   ],
   "source": [
    "# counting value isFlaggedFraud\n",
    "\n",
    "ff = df['isFraud'].value_counts()\n",
    "ff"
   ]
  },
  {
   "cell_type": "code",
   "execution_count": 10,
   "id": "26856750-ba16-45d4-b12d-4f4e34c2c2e6",
   "metadata": {},
   "outputs": [
    {
     "data": {
      "image/png": "[encoded data removed]",
      "text/plain": [
       "<Figure size 640x480 with 1 Axes>"
      ]
     },
     "metadata": {},
     "output_type": "display_data"
    }
   ],
   "source": [
    "sns.countplot(x='isFraud', data=df)\n",
    "plt.title('Number of fraud vs non-fraud transcations')\n",
    "plt.show()"
   ]
  },
  {
   "cell_type": "markdown",
   "id": "966a3236-69c0-4963-926f-6201fcf9d868",
   "metadata": {},
   "source": [
    "# seeing how much money was there in account"
   ]
  },
  {
   "cell_type": "code",
   "execution_count": 1,
   "id": "e4777363-d2b6-41a6-9721-d7efd53fd19a",
   "metadata": {},
   "outputs": [
    {
     "ename": "NameError",
     "evalue": "name 'df' is not defined",
     "output_type": "error",
     "traceback": [
      "\u001b[1;31m---------------------------------------------------------------------------\u001b[0m",
      "\u001b[1;31mNameError\u001b[0m                                 Traceback (most recent call last)",
      "Cell \u001b[1;32mIn[1], line 4\u001b[0m\n\u001b[0;32m      1\u001b[0m \u001b[38;5;28;01mimport\u001b[39;00m \u001b[38;5;21;01mplotly\u001b[39;00m\u001b[38;5;21;01m.\u001b[39;00m\u001b[38;5;21;01mexpress\u001b[39;00m \u001b[38;5;28;01mas\u001b[39;00m \u001b[38;5;21;01mpx\u001b[39;00m\n\u001b[0;32m      3\u001b[0m \u001b[38;5;66;03m# Filter the dataframe so that it does not crash the browser\u001b[39;00m\n\u001b[1;32m----> 4\u001b[0m Fraud_filtered \u001b[38;5;241m=\u001b[39m \u001b[43mdf\u001b[49m\u001b[38;5;241m.\u001b[39mhead(\u001b[38;5;241m1000\u001b[39m)\n\u001b[0;32m      6\u001b[0m \u001b[38;5;66;03m# Construct the graph and style it. Further customize your graph by editing this code.\u001b[39;00m\n\u001b[0;32m      7\u001b[0m \u001b[38;5;66;03m# See Plotly Documentation for help: https://plotly.com/python/plotly-express/\u001b[39;00m\n\u001b[0;32m      8\u001b[0m fig \u001b[38;5;241m=\u001b[39m px\u001b[38;5;241m.\u001b[39mbar(Fraud_filtered, y\u001b[38;5;241m=\u001b[39m\u001b[38;5;124m'\u001b[39m\u001b[38;5;124moldbalanceDest\u001b[39m\u001b[38;5;124m'\u001b[39m)\n",
      "\u001b[1;31mNameError\u001b[0m: name 'df' is not defined"
     ]
    }
   ],
   "source": [
    "import plotly.express as px\n",
    "\n",
    "# Filter the dataframe so that it does not crash the browser\n",
    "Fraud_filtered = df.head(1000)\n",
    "\n",
    "# Construct the graph and style it. Further customize your graph by editing this code.\n",
    "# See Plotly Documentation for help: https://plotly.com/python/plotly-express/\n",
    "fig = px.bar(Fraud_filtered, y='oldbalanceDest')\n",
    "fig.update_layout(\n",
    "    title='seeing the old balance Dest', \n",
    "    xaxis = dict(\n",
    "        showgrid=True, \n",
    "        rangeslider = dict(\n",
    "            visible=True, \n",
    "            thickness=0.05\n",
    "        )\n",
    "    ), \n",
    "    yaxis = dict(\n",
    "        showgrid=True\n",
    "    ), \n",
    "    legend = dict(\n",
    "        orientation='v'\n",
    "    ), \n",
    "    barmode='group', \n",
    "    paper_bgcolor='#FFFFFF'\n",
    ")\n",
    "fig.show(renderer=\"iframe\")"
   ]
  },
  {
   "cell_type": "markdown",
   "id": "d50d593c-0f62-4706-ad6f-1128a9b99067",
   "metadata": {},
   "source": [
    "# seeing by which means the money is taken out from the account most"
   ]
  },
  {
   "cell_type": "code",
   "execution_count": 12,
   "id": "19803e51-fd5d-482f-b0cf-15f788190c29",
   "metadata": {},
   "outputs": [
    {
     "data": {
      "text/html": [
       "<iframe\n",
       "    scrolling=\"no\"\n",
       "    width=\"100%\"\n",
       "    height=\"545px\"\n",
       "    src=\"iframe_figures/figure_12.html\"\n",
       "    frameborder=\"0\"\n",
       "    allowfullscreen\n",
       "></iframe>\n"
      ]
     },
     "metadata": {},
     "output_type": "display_data"
    }
   ],
   "source": [
    "import plotly.express as px\n",
    "\n",
    "# Filter the dataframe so that it does not crash the browser\n",
    "Fraud_filtered = df.head(1000)\n",
    "\n",
    "# Construct the graph and style it. Further customize your graph by editing this code.\n",
    "# See Plotly Documentation for help: https://plotly.com/python/plotly-express/\n",
    "fig = px.bar(Fraud_filtered, x='type', y='amount')\n",
    "fig.update_layout(\n",
    "    title='seeing how mostly money is taken out', \n",
    "    xaxis = dict(\n",
    "        showgrid=True, \n",
    "        rangeslider = dict(\n",
    "            visible=True, \n",
    "            thickness=0.05\n",
    "        )\n",
    "    ), \n",
    "    yaxis = dict(\n",
    "        showgrid=True\n",
    "    ), \n",
    "    legend = dict(\n",
    "        orientation='v'\n",
    "    ), \n",
    "    barmode='group', \n",
    "    paper_bgcolor='#FFFFFF'\n",
    ")\n",
    "fig.show(renderer=\"iframe\")"
   ]
  },
  {
   "cell_type": "raw",
   "id": "f5ec2150-48d1-443f-890c-1cc3b9a3f4b9",
   "metadata": {},
   "source": [
    "seeing the plot I  can say that mostly money is taken out by transfer following it by  cash out"
   ]
  },
  {
   "cell_type": "markdown",
   "id": "4e0c2574-3848-4a63-9a52-a530c936f6f7",
   "metadata": {},
   "source": [
    "# seeing at which time  money is taken out "
   ]
  },
  {
   "cell_type": "code",
   "execution_count": 13,
   "id": "aac94d21-e320-4a55-971f-ad662841ee1c",
   "metadata": {},
   "outputs": [
    {
     "data": {
      "text/html": [
       "<iframe\n",
       "    scrolling=\"no\"\n",
       "    width=\"100%\"\n",
       "    height=\"545px\"\n",
       "    src=\"iframe_figures/figure_13.html\"\n",
       "    frameborder=\"0\"\n",
       "    allowfullscreen\n",
       "></iframe>\n"
      ]
     },
     "metadata": {},
     "output_type": "display_data"
    }
   ],
   "source": [
    "import plotly.express as px\n",
    "\n",
    "# Filter the dataframe so that it does not crash the browser\n",
    "Fraud_filtered = df.head(1000)\n",
    "\n",
    "# Construct the graph and style it. Further customize your graph by editing this code.\n",
    "# See Plotly Documentation for help: https://plotly.com/python/plotly-express/\n",
    "fig = px.bar(Fraud_filtered, x='type', y='amount', color='step')\n",
    "fig.update_layout(\n",
    "    title='seeing how much amount of money is taken out at what time of day', \n",
    "    xaxis = dict(\n",
    "        showgrid=True, \n",
    "        rangeslider = dict(\n",
    "            visible=True, \n",
    "            thickness=0.05\n",
    "        )\n",
    "    ), \n",
    "    yaxis = dict(\n",
    "        showgrid=True\n",
    "    ), \n",
    "    legend = dict(\n",
    "        orientation='v'\n",
    "    ), \n",
    "    barmode='group', \n",
    "    paper_bgcolor='#FFFFFF'\n",
    ")\n",
    "fig.show(renderer=\"iframe\")"
   ]
  },
  {
   "cell_type": "markdown",
   "id": "5d2ed0d1-7957-4f28-b196-59ee9d8a5ad4",
   "metadata": {},
   "source": [
    "# comparing old balance with new after fruad transaction"
   ]
  },
  {
   "cell_type": "code",
   "execution_count": 14,
   "id": "fbd8c118-d879-49f5-b4ff-7541abbc84e0",
   "metadata": {},
   "outputs": [
    {
     "data": {
      "text/html": [
       "<iframe\n",
       "    scrolling=\"no\"\n",
       "    width=\"100%\"\n",
       "    height=\"545px\"\n",
       "    src=\"iframe_figures/figure_14.html\"\n",
       "    frameborder=\"0\"\n",
       "    allowfullscreen\n",
       "></iframe>\n"
      ]
     },
     "metadata": {},
     "output_type": "display_data"
    }
   ],
   "source": [
    "import plotly.express as px\n",
    "\n",
    "# Filter the dataframe so that it does not crash the browser\n",
    "Fraud_filtered = df.head(1000)\n",
    "\n",
    "# Construct the graph and style it. Further customize your graph by editing this code.\n",
    "# See Plotly Documentation for help: https://plotly.com/python/plotly-express/\n",
    "fig = px.histogram(Fraud_filtered, x='oldbalanceOrg', y='newbalanceOrig', histfunc='count')\n",
    "fig.update_layout(\n",
    "    title='comparing the old balance and the newbalance', \n",
    "    xaxis = dict(\n",
    "        showgrid=True, \n",
    "        rangeslider = dict(\n",
    "            visible=True, \n",
    "            thickness=0.05\n",
    "        )\n",
    "    ), \n",
    "    yaxis = dict(\n",
    "        showgrid=True\n",
    "    ), \n",
    "    legend = dict(\n",
    "        orientation='v'\n",
    "    ), \n",
    "    barmode='group', \n",
    "    paper_bgcolor='#FFFFFF'\n",
    ")\n",
    "fig.show(renderer=\"iframe\")"
   ]
  },
  {
   "cell_type": "code",
   "execution_count": 15,
   "id": "bbe174c6-6130-4755-8827-c703a2985c5f",
   "metadata": {},
   "outputs": [
    {
     "data": {
      "text/html": [
       "<iframe\n",
       "    scrolling=\"no\"\n",
       "    width=\"100%\"\n",
       "    height=\"545px\"\n",
       "    src=\"iframe_figures/figure_15.html\"\n",
       "    frameborder=\"0\"\n",
       "    allowfullscreen\n",
       "></iframe>\n"
      ]
     },
     "metadata": {},
     "output_type": "display_data"
    }
   ],
   "source": [
    "import plotly.express as px\n",
    "\n",
    "# Filter the dataframe so that it does not crash the browser\n",
    "Fraud_filtered = df.head(1000)\n",
    "\n",
    "# Construct the graph and style it. Further customize your graph by editing this code.\n",
    "# See Plotly Documentation for help: https://plotly.com/python/plotly-express/\n",
    "fig = px.histogram(Fraud_filtered, x='oldbalanceOrg', y='newbalanceOrig', color='type', histfunc='count')\n",
    "fig.update_layout(\n",
    "    title='seeing how much was the old balance and new balance after how money was taken out', \n",
    "    xaxis = dict(\n",
    "        showgrid=True, \n",
    "        rangeslider = dict(\n",
    "            visible=True, \n",
    "            thickness=0.05\n",
    "        )\n",
    "    ), \n",
    "    yaxis = dict(\n",
    "        showgrid=True\n",
    "    ), \n",
    "    legend = dict(\n",
    "        orientation='v'\n",
    "    ), \n",
    "    barmode='group', \n",
    "    paper_bgcolor='#FFFFFF'\n",
    ")\n",
    "fig.show(renderer=\"iframe\")"
   ]
  },
  {
   "cell_type": "raw",
   "id": "ce3513c3-497d-45b3-863c-5b18ae61ce9b",
   "metadata": {},
   "source": [
    "mostly the account is emptyed after the transaction"
   ]
  },
  {
   "cell_type": "code",
   "execution_count": 16,
   "id": "71f756d2-05b5-432d-a76f-36b8a9bbb92f",
   "metadata": {},
   "outputs": [
    {
     "data": {
      "text/html": [
       "<iframe\n",
       "    scrolling=\"no\"\n",
       "    width=\"100%\"\n",
       "    height=\"545px\"\n",
       "    src=\"iframe_figures/figure_16.html\"\n",
       "    frameborder=\"0\"\n",
       "    allowfullscreen\n",
       "></iframe>\n"
      ]
     },
     "metadata": {},
     "output_type": "display_data"
    }
   ],
   "source": [
    "import plotly.express as px\n",
    "\n",
    "# Filter the dataframe so that it does not crash the browser\n",
    "Fraud_filtered = df.head(1000)\n",
    "\n",
    "# Construct the graph and style it. Further customize your graph by editing this code.\n",
    "# See Plotly Documentation for help: https://plotly.com/python/plotly-express/\n",
    "fig = px.scatter(Fraud_filtered, x='step', y='amount', color='isFraud')\n",
    "fig.update_layout(\n",
    "    title='seeing which time of day which were the fraud transaction is done', \n",
    "    xaxis = dict(\n",
    "        showgrid=True, \n",
    "        rangeslider = dict(\n",
    "            visible=True, \n",
    "            thickness=0.05\n",
    "        )\n",
    "    ), \n",
    "    yaxis = dict(\n",
    "        showgrid=True\n",
    "    ), \n",
    "    legend = dict(\n",
    "        orientation='v'\n",
    "    ), \n",
    "    paper_bgcolor='#FFFFFF'\n",
    ")\n",
    "fig.show(renderer=\"iframe\")"
   ]
  },
  {
   "cell_type": "code",
   "execution_count": 17,
   "id": "6005dc59-dd6b-452e-8e18-84d9b3c7d44b",
   "metadata": {},
   "outputs": [
    {
     "data": {
      "text/html": [
       "<iframe\n",
       "    scrolling=\"no\"\n",
       "    width=\"100%\"\n",
       "    height=\"545px\"\n",
       "    src=\"iframe_figures/figure_17.html\"\n",
       "    frameborder=\"0\"\n",
       "    allowfullscreen\n",
       "></iframe>\n"
      ]
     },
     "metadata": {},
     "output_type": "display_data"
    }
   ],
   "source": [
    "import plotly.express as px\n",
    "\n",
    "# Filter the dataframe so that it does not crash the browser\n",
    "Fraud_filtered = df.head(1000)\n",
    "\n",
    "# Construct the graph and style it. Further customize your graph by editing this code.\n",
    "# See Plotly Documentation for help: https://plotly.com/python/plotly-express/\n",
    "fig = px.bar(Fraud_filtered, x='type', y='isFraud', color='isFraud')\n",
    "fig.update_layout(\n",
    "    title='seeing by  which means fraud transaction is done', \n",
    "    xaxis = dict(\n",
    "        showgrid=True, \n",
    "        rangeslider = dict(\n",
    "            visible=True, \n",
    "            thickness=0.05\n",
    "        )\n",
    "    ), \n",
    "    yaxis = dict(\n",
    "        showgrid=True\n",
    "    ), \n",
    "    legend = dict(\n",
    "        orientation='v'\n",
    "    ), \n",
    "    barmode='group', \n",
    "    paper_bgcolor='#FFFFFF'\n",
    ")\n",
    "fig.show(renderer=\"iframe\")"
   ]
  },
  {
   "cell_type": "code",
   "execution_count": 18,
   "id": "619337eb-50e9-4010-9d59-f176e4866134",
   "metadata": {},
   "outputs": [
    {
     "data": {
      "text/html": [
       "<iframe\n",
       "    scrolling=\"no\"\n",
       "    width=\"100%\"\n",
       "    height=\"545px\"\n",
       "    src=\"iframe_figures/figure_18.html\"\n",
       "    frameborder=\"0\"\n",
       "    allowfullscreen\n",
       "></iframe>\n"
      ]
     },
     "metadata": {},
     "output_type": "display_data"
    }
   ],
   "source": [
    "import plotly.express as px\n",
    "\n",
    "# Filter the dataframe so that it does not crash the browser\n",
    "Fraud_filtered = df.head(1000)\n",
    "\n",
    "# Construct the graph and style it. Further customize your graph by editing this code.\n",
    "# See Plotly Documentation for help: https://plotly.com/python/plotly-express/\n",
    "fig = px.bar(Fraud_filtered, x='isFraud', y='amount', color='isFraud')\n",
    "fig.update_layout(\n",
    "    title='seeing how much amount  is fraudulent', \n",
    "    xaxis = dict(\n",
    "        showgrid=True, \n",
    "        rangeslider = dict(\n",
    "            visible=True, \n",
    "            thickness=0.05\n",
    "        )\n",
    "    ), \n",
    "    yaxis = dict(\n",
    "        showgrid=True\n",
    "    ), \n",
    "    legend = dict(\n",
    "        orientation='v'\n",
    "    ), \n",
    "    barmode='group', \n",
    "    paper_bgcolor='#FFFFFF'\n",
    ")\n",
    "fig.show(renderer=\"iframe\")"
   ]
  },
  {
   "cell_type": "code",
   "execution_count": 19,
   "id": "16fcdb4b-7067-4a65-ab5f-0e60f9f26db9",
   "metadata": {},
   "outputs": [
    {
     "data": {
      "text/html": [
       "<iframe\n",
       "    scrolling=\"no\"\n",
       "    width=\"100%\"\n",
       "    height=\"545px\"\n",
       "    src=\"iframe_figures/figure_19.html\"\n",
       "    frameborder=\"0\"\n",
       "    allowfullscreen\n",
       "></iframe>\n"
      ]
     },
     "metadata": {},
     "output_type": "display_data"
    }
   ],
   "source": [
    "import plotly.express as px\n",
    "\n",
    "# Filter the dataframe so that it does not crash the browser\n",
    "Fraud_filtered = df.head(1000)\n",
    "\n",
    "# Construct the graph and style it. Further customize your graph by editing this code.\n",
    "# See Plotly Documentation for help: https://plotly.com/python/plotly-express/\n",
    "fig = px.histogram(Fraud_filtered, x='isFlaggedFraud', y='isFraud', color='isFraud', histfunc='count')\n",
    "fig.update_layout(\n",
    "    title='counting  the common in isFlaggedFraud and  isFraud transaction ', \n",
    "    xaxis = dict(\n",
    "        showgrid=True, \n",
    "        rangeslider = dict(\n",
    "            visible=True, \n",
    "            thickness=0.05\n",
    "        )\n",
    "    ), \n",
    "    yaxis = dict(\n",
    "        showgrid=True\n",
    "    ), \n",
    "    legend = dict(\n",
    "        orientation='v'\n",
    "    ), \n",
    "    barmode='group', \n",
    "    paper_bgcolor='#FFFFFF'\n",
    ")\n",
    "fig.show(renderer=\"iframe\")"
   ]
  },
  {
   "cell_type": "markdown",
   "id": "f1a694ef-a5ba-4ca0-a041-4deeafffe193",
   "metadata": {},
   "source": [
    "# correlation"
   ]
  },
  {
   "cell_type": "code",
   "execution_count": 9,
   "id": "a3abdd3a-db97-4598-ab9c-bd5852d9dacf",
   "metadata": {},
   "outputs": [
    {
     "data": {
      "image/png": "[encoded data removed]",
      "text/plain": [
       "<Figure size 2000x2000 with 2 Axes>"
      ]
     },
     "metadata": {},
     "output_type": "display_data"
    }
   ],
   "source": [
    "corrmat=df.corr()\n",
    "top_corr_features=corrmat.index\n",
    "plt.figure(figsize=(20,20))\n",
    "g=sns.heatmap(df[top_corr_features].corr(),annot=True,cmap='RdYlGn')"
   ]
  },
  {
   "cell_type": "code",
   "execution_count": null,
   "id": "9b204d33-2b93-4695-8704-701344a42b04",
   "metadata": {},
   "outputs": [],
   "source": [
    "sns.pairplot(df)"
   ]
  },
  {
   "cell_type": "markdown",
   "id": "6ab33f76-b973-445b-8db5-d24eebde3efc",
   "metadata": {},
   "source": [
    "# dropping columns not needed for data preprocessing\n"
   ]
  },
  {
   "cell_type": "code",
   "execution_count": 14,
   "id": "52cfc4ce-24a3-4e82-8e7e-785c50105de8",
   "metadata": {},
   "outputs": [],
   "source": [
    "df.drop(['nameOrig', 'nameDest','step' ], axis=1 ,inplace=True)"
   ]
  },
  {
   "cell_type": "markdown",
   "id": "8d3c52b8-14be-4ea8-a44e-63a0d9383e41",
   "metadata": {},
   "source": [
    "# applying pd dummies for df"
   ]
  },
  {
   "cell_type": "code",
   "execution_count": 15,
   "id": "2e29e464-d098-4464-96a6-43ebfefd62c5",
   "metadata": {},
   "outputs": [],
   "source": [
    "df=pd.get_dummies(df,drop_first=True)"
   ]
  },
  {
   "cell_type": "code",
   "execution_count": 23,
   "id": "dc0ec02d-d372-4fc9-adb6-d17f7f1fe6d0",
   "metadata": {},
   "outputs": [
    {
     "data": {
      "text/html": [
       "<div><div id=b6340aa0-aadb-461b-8703-0cf12b11165a style=\"display:none; background-color:#9D6CFF; color:white; width:200px; height:30px; padding-left:5px; border-radius:4px; flex-direction:row; justify-content:space-around; align-items:center;\" onmouseover=\"this.style.backgroundColor='#BA9BF8'\" onmouseout=\"this.style.backgroundColor='#9D6CFF'\" onclick=\"window.commands?.execute('create-mitosheet-from-dataframe-output');\">See Full Dataframe in Mito</div> <script> if (window.commands?.hasCommand('create-mitosheet-from-dataframe-output')) document.getElementById('b6340aa0-aadb-461b-8703-0cf12b11165a').style.display = 'flex' </script> <table border=\"1\" class=\"dataframe\">\n",
       "  <thead>\n",
       "    <tr style=\"text-align: right;\">\n",
       "      <th></th>\n",
       "      <th>amount</th>\n",
       "      <th>oldbalanceOrg</th>\n",
       "      <th>newbalanceOrig</th>\n",
       "      <th>oldbalanceDest</th>\n",
       "      <th>newbalanceDest</th>\n",
       "      <th>isFraud</th>\n",
       "      <th>isFlaggedFraud</th>\n",
       "      <th>type_CASH_OUT</th>\n",
       "      <th>type_DEBIT</th>\n",
       "      <th>type_PAYMENT</th>\n",
       "      <th>type_TRANSFER</th>\n",
       "    </tr>\n",
       "  </thead>\n",
       "  <tbody>\n",
       "    <tr>\n",
       "      <th>0</th>\n",
       "      <td>9839.64</td>\n",
       "      <td>170136.00</td>\n",
       "      <td>160296.36</td>\n",
       "      <td>0.00</td>\n",
       "      <td>0.00</td>\n",
       "      <td>0</td>\n",
       "      <td>0</td>\n",
       "      <td>0</td>\n",
       "      <td>0</td>\n",
       "      <td>1</td>\n",
       "      <td>0</td>\n",
       "    </tr>\n",
       "    <tr>\n",
       "      <th>1</th>\n",
       "      <td>1864.28</td>\n",
       "      <td>21249.00</td>\n",
       "      <td>19384.72</td>\n",
       "      <td>0.00</td>\n",
       "      <td>0.00</td>\n",
       "      <td>0</td>\n",
       "      <td>0</td>\n",
       "      <td>0</td>\n",
       "      <td>0</td>\n",
       "      <td>1</td>\n",
       "      <td>0</td>\n",
       "    </tr>\n",
       "    <tr>\n",
       "      <th>2</th>\n",
       "      <td>181.00</td>\n",
       "      <td>181.00</td>\n",
       "      <td>0.00</td>\n",
       "      <td>0.00</td>\n",
       "      <td>0.00</td>\n",
       "      <td>1</td>\n",
       "      <td>0</td>\n",
       "      <td>0</td>\n",
       "      <td>0</td>\n",
       "      <td>0</td>\n",
       "      <td>1</td>\n",
       "    </tr>\n",
       "    <tr>\n",
       "      <th>3</th>\n",
       "      <td>181.00</td>\n",
       "      <td>181.00</td>\n",
       "      <td>0.00</td>\n",
       "      <td>21182.00</td>\n",
       "      <td>0.00</td>\n",
       "      <td>1</td>\n",
       "      <td>0</td>\n",
       "      <td>1</td>\n",
       "      <td>0</td>\n",
       "      <td>0</td>\n",
       "      <td>0</td>\n",
       "    </tr>\n",
       "    <tr>\n",
       "      <th>4</th>\n",
       "      <td>11668.14</td>\n",
       "      <td>41554.00</td>\n",
       "      <td>29885.86</td>\n",
       "      <td>0.00</td>\n",
       "      <td>0.00</td>\n",
       "      <td>0</td>\n",
       "      <td>0</td>\n",
       "      <td>0</td>\n",
       "      <td>0</td>\n",
       "      <td>1</td>\n",
       "      <td>0</td>\n",
       "    </tr>\n",
       "    <tr>\n",
       "      <th>...</th>\n",
       "      <td>...</td>\n",
       "      <td>...</td>\n",
       "      <td>...</td>\n",
       "      <td>...</td>\n",
       "      <td>...</td>\n",
       "      <td>...</td>\n",
       "      <td>...</td>\n",
       "      <td>...</td>\n",
       "      <td>...</td>\n",
       "      <td>...</td>\n",
       "      <td>...</td>\n",
       "    </tr>\n",
       "    <tr>\n",
       "      <th>6362615</th>\n",
       "      <td>339682.13</td>\n",
       "      <td>339682.13</td>\n",
       "      <td>0.00</td>\n",
       "      <td>0.00</td>\n",
       "      <td>339682.13</td>\n",
       "      <td>1</td>\n",
       "      <td>0</td>\n",
       "      <td>1</td>\n",
       "      <td>0</td>\n",
       "      <td>0</td>\n",
       "      <td>0</td>\n",
       "    </tr>\n",
       "    <tr>\n",
       "      <th>6362616</th>\n",
       "      <td>6311409.28</td>\n",
       "      <td>6311409.28</td>\n",
       "      <td>0.00</td>\n",
       "      <td>0.00</td>\n",
       "      <td>0.00</td>\n",
       "      <td>1</td>\n",
       "      <td>0</td>\n",
       "      <td>0</td>\n",
       "      <td>0</td>\n",
       "      <td>0</td>\n",
       "      <td>1</td>\n",
       "    </tr>\n",
       "    <tr>\n",
       "      <th>6362617</th>\n",
       "      <td>6311409.28</td>\n",
       "      <td>6311409.28</td>\n",
       "      <td>0.00</td>\n",
       "      <td>68488.84</td>\n",
       "      <td>6379898.11</td>\n",
       "      <td>1</td>\n",
       "      <td>0</td>\n",
       "      <td>1</td>\n",
       "      <td>0</td>\n",
       "      <td>0</td>\n",
       "      <td>0</td>\n",
       "    </tr>\n",
       "    <tr>\n",
       "      <th>6362618</th>\n",
       "      <td>850002.52</td>\n",
       "      <td>850002.52</td>\n",
       "      <td>0.00</td>\n",
       "      <td>0.00</td>\n",
       "      <td>0.00</td>\n",
       "      <td>1</td>\n",
       "      <td>0</td>\n",
       "      <td>0</td>\n",
       "      <td>0</td>\n",
       "      <td>0</td>\n",
       "      <td>1</td>\n",
       "    </tr>\n",
       "    <tr>\n",
       "      <th>6362619</th>\n",
       "      <td>850002.52</td>\n",
       "      <td>850002.52</td>\n",
       "      <td>0.00</td>\n",
       "      <td>6510099.11</td>\n",
       "      <td>7360101.63</td>\n",
       "      <td>1</td>\n",
       "      <td>0</td>\n",
       "      <td>1</td>\n",
       "      <td>0</td>\n",
       "      <td>0</td>\n",
       "      <td>0</td>\n",
       "    </tr>\n",
       "  </tbody>\n",
       "</table></div>"
      ],
      "text/plain": [
       "             amount  oldbalanceOrg  newbalanceOrig  oldbalanceDest  \\\n",
       "0           9839.64      170136.00       160296.36            0.00   \n",
       "1           1864.28       21249.00        19384.72            0.00   \n",
       "2            181.00         181.00            0.00            0.00   \n",
       "3            181.00         181.00            0.00        21182.00   \n",
       "4          11668.14       41554.00        29885.86            0.00   \n",
       "...             ...            ...             ...             ...   \n",
       "6362615   339682.13      339682.13            0.00            0.00   \n",
       "6362616  6311409.28     6311409.28            0.00            0.00   \n",
       "6362617  6311409.28     6311409.28            0.00        68488.84   \n",
       "6362618   850002.52      850002.52            0.00            0.00   \n",
       "6362619   850002.52      850002.52            0.00      6510099.11   \n",
       "\n",
       "         newbalanceDest  isFraud  isFlaggedFraud  type_CASH_OUT  type_DEBIT  \\\n",
       "0                  0.00        0               0              0           0   \n",
       "1                  0.00        0               0              0           0   \n",
       "2                  0.00        1               0              0           0   \n",
       "3                  0.00        1               0              1           0   \n",
       "4                  0.00        0               0              0           0   \n",
       "...                 ...      ...             ...            ...         ...   \n",
       "6362615       339682.13        1               0              1           0   \n",
       "6362616            0.00        1               0              0           0   \n",
       "6362617      6379898.11        1               0              1           0   \n",
       "6362618            0.00        1               0              0           0   \n",
       "6362619      7360101.63        1               0              1           0   \n",
       "\n",
       "         type_PAYMENT  type_TRANSFER  \n",
       "0                   1              0  \n",
       "1                   1              0  \n",
       "2                   0              1  \n",
       "3                   0              0  \n",
       "4                   1              0  \n",
       "...               ...            ...  \n",
       "6362615             0              0  \n",
       "6362616             0              1  \n",
       "6362617             0              0  \n",
       "6362618             0              1  \n",
       "6362619             0              0  \n",
       "\n",
       "[6362620 rows x 11 columns]"
      ]
     },
     "execution_count": 23,
     "metadata": {},
     "output_type": "execute_result"
    }
   ],
   "source": [
    "df"
   ]
  },
  {
   "cell_type": "markdown",
   "id": "09486c3f-8644-41a1-82c7-2c94c6823770",
   "metadata": {},
   "source": [
    "# creating a df to test get prediction"
   ]
  },
  {
   "cell_type": "code",
   "execution_count": 71,
   "id": "9600eddb-650c-432e-97b4-ef1132da955f",
   "metadata": {},
   "outputs": [],
   "source": [
    "test_df= pd.read_csv(r'C:\\Users\\yokau\\Downloads\\Fraud.csv')\n",
    "# Deleted columns isFraud\n",
    "test_df.drop(['isFraud'], axis=1, inplace=True)"
   ]
  },
  {
   "cell_type": "markdown",
   "id": "b043495d-e47d-4b17-8a0f-06df6bc45270",
   "metadata": {},
   "source": [
    "# dropping columns not needed for test_df\n"
   ]
  },
  {
   "cell_type": "code",
   "execution_count": 72,
   "id": "a6b7a643-e019-4754-a812-89c596bed2b6",
   "metadata": {},
   "outputs": [],
   "source": [
    "test_df.drop(['nameOrig', 'nameDest','step' ], axis=1 ,inplace=True)"
   ]
  },
  {
   "cell_type": "markdown",
   "id": "41b2a0f1-356c-4868-9fcb-b089a389fbba",
   "metadata": {},
   "source": [
    "# applying pd dummies for test_df"
   ]
  },
  {
   "cell_type": "code",
   "execution_count": 73,
   "id": "46ad6ab7-7641-4e08-998e-dffeb324f730",
   "metadata": {},
   "outputs": [],
   "source": [
    "test_df=pd.get_dummies(test_df,drop_first=True)"
   ]
  },
  {
   "cell_type": "code",
   "execution_count": 74,
   "id": "988cd0f5-dfce-4e45-bc02-140fd55b3ef4",
   "metadata": {},
   "outputs": [
    {
     "data": {
      "text/html": [
       "<div><div id=a5e26e9a-44eb-465b-ae16-6ae1b0a64737 style=\"display:none; background-color:#9D6CFF; color:white; width:200px; height:30px; padding-left:5px; border-radius:4px; flex-direction:row; justify-content:space-around; align-items:center;\" onmouseover=\"this.style.backgroundColor='#BA9BF8'\" onmouseout=\"this.style.backgroundColor='#9D6CFF'\" onclick=\"window.commands?.execute('create-mitosheet-from-dataframe-output');\">See Full Dataframe in Mito</div> <script> if (window.commands?.hasCommand('create-mitosheet-from-dataframe-output')) document.getElementById('a5e26e9a-44eb-465b-ae16-6ae1b0a64737').style.display = 'flex' </script> <table border=\"1\" class=\"dataframe\">\n",
       "  <thead>\n",
       "    <tr style=\"text-align: right;\">\n",
       "      <th></th>\n",
       "      <th>amount</th>\n",
       "      <th>oldbalanceOrg</th>\n",
       "      <th>newbalanceOrig</th>\n",
       "      <th>oldbalanceDest</th>\n",
       "      <th>newbalanceDest</th>\n",
       "      <th>isFlaggedFraud</th>\n",
       "      <th>type_CASH_OUT</th>\n",
       "      <th>type_DEBIT</th>\n",
       "      <th>type_PAYMENT</th>\n",
       "      <th>type_TRANSFER</th>\n",
       "    </tr>\n",
       "  </thead>\n",
       "  <tbody>\n",
       "    <tr>\n",
       "      <th>0</th>\n",
       "      <td>9839.64</td>\n",
       "      <td>170136.00</td>\n",
       "      <td>160296.36</td>\n",
       "      <td>0.00</td>\n",
       "      <td>0.00</td>\n",
       "      <td>0</td>\n",
       "      <td>0</td>\n",
       "      <td>0</td>\n",
       "      <td>1</td>\n",
       "      <td>0</td>\n",
       "    </tr>\n",
       "    <tr>\n",
       "      <th>1</th>\n",
       "      <td>1864.28</td>\n",
       "      <td>21249.00</td>\n",
       "      <td>19384.72</td>\n",
       "      <td>0.00</td>\n",
       "      <td>0.00</td>\n",
       "      <td>0</td>\n",
       "      <td>0</td>\n",
       "      <td>0</td>\n",
       "      <td>1</td>\n",
       "      <td>0</td>\n",
       "    </tr>\n",
       "    <tr>\n",
       "      <th>2</th>\n",
       "      <td>181.00</td>\n",
       "      <td>181.00</td>\n",
       "      <td>0.00</td>\n",
       "      <td>0.00</td>\n",
       "      <td>0.00</td>\n",
       "      <td>0</td>\n",
       "      <td>0</td>\n",
       "      <td>0</td>\n",
       "      <td>0</td>\n",
       "      <td>1</td>\n",
       "    </tr>\n",
       "    <tr>\n",
       "      <th>3</th>\n",
       "      <td>181.00</td>\n",
       "      <td>181.00</td>\n",
       "      <td>0.00</td>\n",
       "      <td>21182.00</td>\n",
       "      <td>0.00</td>\n",
       "      <td>0</td>\n",
       "      <td>1</td>\n",
       "      <td>0</td>\n",
       "      <td>0</td>\n",
       "      <td>0</td>\n",
       "    </tr>\n",
       "    <tr>\n",
       "      <th>4</th>\n",
       "      <td>11668.14</td>\n",
       "      <td>41554.00</td>\n",
       "      <td>29885.86</td>\n",
       "      <td>0.00</td>\n",
       "      <td>0.00</td>\n",
       "      <td>0</td>\n",
       "      <td>0</td>\n",
       "      <td>0</td>\n",
       "      <td>1</td>\n",
       "      <td>0</td>\n",
       "    </tr>\n",
       "    <tr>\n",
       "      <th>...</th>\n",
       "      <td>...</td>\n",
       "      <td>...</td>\n",
       "      <td>...</td>\n",
       "      <td>...</td>\n",
       "      <td>...</td>\n",
       "      <td>...</td>\n",
       "      <td>...</td>\n",
       "      <td>...</td>\n",
       "      <td>...</td>\n",
       "      <td>...</td>\n",
       "    </tr>\n",
       "    <tr>\n",
       "      <th>6362615</th>\n",
       "      <td>339682.13</td>\n",
       "      <td>339682.13</td>\n",
       "      <td>0.00</td>\n",
       "      <td>0.00</td>\n",
       "      <td>339682.13</td>\n",
       "      <td>0</td>\n",
       "      <td>1</td>\n",
       "      <td>0</td>\n",
       "      <td>0</td>\n",
       "      <td>0</td>\n",
       "    </tr>\n",
       "    <tr>\n",
       "      <th>6362616</th>\n",
       "      <td>6311409.28</td>\n",
       "      <td>6311409.28</td>\n",
       "      <td>0.00</td>\n",
       "      <td>0.00</td>\n",
       "      <td>0.00</td>\n",
       "      <td>0</td>\n",
       "      <td>0</td>\n",
       "      <td>0</td>\n",
       "      <td>0</td>\n",
       "      <td>1</td>\n",
       "    </tr>\n",
       "    <tr>\n",
       "      <th>6362617</th>\n",
       "      <td>6311409.28</td>\n",
       "      <td>6311409.28</td>\n",
       "      <td>0.00</td>\n",
       "      <td>68488.84</td>\n",
       "      <td>6379898.11</td>\n",
       "      <td>0</td>\n",
       "      <td>1</td>\n",
       "      <td>0</td>\n",
       "      <td>0</td>\n",
       "      <td>0</td>\n",
       "    </tr>\n",
       "    <tr>\n",
       "      <th>6362618</th>\n",
       "      <td>850002.52</td>\n",
       "      <td>850002.52</td>\n",
       "      <td>0.00</td>\n",
       "      <td>0.00</td>\n",
       "      <td>0.00</td>\n",
       "      <td>0</td>\n",
       "      <td>0</td>\n",
       "      <td>0</td>\n",
       "      <td>0</td>\n",
       "      <td>1</td>\n",
       "    </tr>\n",
       "    <tr>\n",
       "      <th>6362619</th>\n",
       "      <td>850002.52</td>\n",
       "      <td>850002.52</td>\n",
       "      <td>0.00</td>\n",
       "      <td>6510099.11</td>\n",
       "      <td>7360101.63</td>\n",
       "      <td>0</td>\n",
       "      <td>1</td>\n",
       "      <td>0</td>\n",
       "      <td>0</td>\n",
       "      <td>0</td>\n",
       "    </tr>\n",
       "  </tbody>\n",
       "</table></div>"
      ],
      "text/plain": [
       "             amount  oldbalanceOrg  newbalanceOrig  oldbalanceDest  \\\n",
       "0           9839.64      170136.00       160296.36            0.00   \n",
       "1           1864.28       21249.00        19384.72            0.00   \n",
       "2            181.00         181.00            0.00            0.00   \n",
       "3            181.00         181.00            0.00        21182.00   \n",
       "4          11668.14       41554.00        29885.86            0.00   \n",
       "...             ...            ...             ...             ...   \n",
       "6362615   339682.13      339682.13            0.00            0.00   \n",
       "6362616  6311409.28     6311409.28            0.00            0.00   \n",
       "6362617  6311409.28     6311409.28            0.00        68488.84   \n",
       "6362618   850002.52      850002.52            0.00            0.00   \n",
       "6362619   850002.52      850002.52            0.00      6510099.11   \n",
       "\n",
       "         newbalanceDest  isFlaggedFraud  type_CASH_OUT  type_DEBIT  \\\n",
       "0                  0.00               0              0           0   \n",
       "1                  0.00               0              0           0   \n",
       "2                  0.00               0              0           0   \n",
       "3                  0.00               0              1           0   \n",
       "4                  0.00               0              0           0   \n",
       "...                 ...             ...            ...         ...   \n",
       "6362615       339682.13               0              1           0   \n",
       "6362616            0.00               0              0           0   \n",
       "6362617      6379898.11               0              1           0   \n",
       "6362618            0.00               0              0           0   \n",
       "6362619      7360101.63               0              1           0   \n",
       "\n",
       "         type_PAYMENT  type_TRANSFER  \n",
       "0                   1              0  \n",
       "1                   1              0  \n",
       "2                   0              1  \n",
       "3                   0              0  \n",
       "4                   1              0  \n",
       "...               ...            ...  \n",
       "6362615             0              0  \n",
       "6362616             0              1  \n",
       "6362617             0              0  \n",
       "6362618             0              1  \n",
       "6362619             0              0  \n",
       "\n",
       "[6362620 rows x 10 columns]"
      ]
     },
     "execution_count": 74,
     "metadata": {},
     "output_type": "execute_result"
    }
   ],
   "source": [
    "test_df"
   ]
  },
  {
   "cell_type": "markdown",
   "id": "866cc706-9329-481a-a9b4-a7cd8d615753",
   "metadata": {},
   "source": [
    "#### Selecting Features using Correlation"
   ]
  },
  {
   "cell_type": "code",
   "execution_count": 16,
   "id": "7cf254a0-31d3-430c-9acd-3381e83e24bd",
   "metadata": {},
   "outputs": [
    {
     "name": "stdout",
     "output_type": "stream",
     "text": [
      "Features with high correlation  ['newbalanceOrig', 'newbalanceDest']\n"
     ]
    }
   ],
   "source": [
    "def correlation(dataset, threshold):\n",
    "    col_corr = set()\n",
    "    corr_matrix = dataset.corr()   # correlation matrix\n",
    "    for i in range(len(corr_matrix.columns)):  # i is the index\n",
    "        for j in range(i):\n",
    "            if(corr_matrix.iloc[i,j]) > threshold:\n",
    "                colname = corr_matrix.columns[i]\n",
    "                col_corr.add(colname)\n",
    "    return list(col_corr)\n",
    "\n",
    "corr_features = correlation(df, 0.85)\n",
    "print(\"Features with high correlation \", corr_features)"
   ]
  },
  {
   "cell_type": "code",
   "execution_count": 25,
   "id": "07942bea-195f-4a5e-9560-b95cbc4bc26e",
   "metadata": {},
   "outputs": [
    {
     "name": "stdout",
     "output_type": "stream",
     "text": [
      "2\n"
     ]
    }
   ],
   "source": [
    "print(len(corr_features))"
   ]
  },
  {
   "cell_type": "code",
   "execution_count": 17,
   "id": "5c5ed692-4fab-44d9-8d6a-feab630fa225",
   "metadata": {},
   "outputs": [
    {
     "name": "stdout",
     "output_type": "stream",
     "text": [
      "(6362620, 9)\n"
     ]
    }
   ],
   "source": [
    "df.drop(columns=corr_features, axis=1, inplace=True)\n",
    "print(df.shape)"
   ]
  },
  {
   "cell_type": "code",
   "execution_count": 81,
   "id": "3eaff599-69ec-42b1-aec2-a129a7196143",
   "metadata": {},
   "outputs": [
    {
     "name": "stdout",
     "output_type": "stream",
     "text": [
      "(6362620, 8)\n"
     ]
    }
   ],
   "source": [
    "\n",
    "test_df.drop(columns=corr_features, axis=1, inplace=True)\n",
    "\n",
    "print(test_df.shape)"
   ]
  },
  {
   "cell_type": "markdown",
   "id": "1bd1983e-5280-436c-a32a-607b3a39b912",
   "metadata": {},
   "source": [
    "#### Select the Dependent and Independent Features"
   ]
  },
  {
   "cell_type": "code",
   "execution_count": 76,
   "id": "9f37fd3b-d389-449c-8b24-62cfae4e352d",
   "metadata": {},
   "outputs": [
    {
     "name": "stdout",
     "output_type": "stream",
     "text": [
      "<class 'pandas.core.frame.DataFrame'>\n",
      "<class 'pandas.core.series.Series'>\n",
      "(6362620, 8) (6362620,)\n"
     ]
    }
   ],
   "source": [
    "x = df.drop('isFraud',axis=1)  # dataframe\n",
    "y = df['isFraud']              # series\n",
    "print(type(x))\n",
    "print(type(y))\n",
    "print(x.shape,y.shape)"
   ]
  },
  {
   "cell_type": "code",
   "execution_count": 28,
   "id": "a8bfd0cd-07fc-4d5a-9c7c-f9dc27d78fde",
   "metadata": {},
   "outputs": [
    {
     "data": {
      "text/html": [
       "<div><div id=370b5aef-bd45-43db-a0d0-ad2199132159 style=\"display:none; background-color:#9D6CFF; color:white; width:200px; height:30px; padding-left:5px; border-radius:4px; flex-direction:row; justify-content:space-around; align-items:center;\" onmouseover=\"this.style.backgroundColor='#BA9BF8'\" onmouseout=\"this.style.backgroundColor='#9D6CFF'\" onclick=\"window.commands?.execute('create-mitosheet-from-dataframe-output');\">See Full Dataframe in Mito</div> <script> if (window.commands?.hasCommand('create-mitosheet-from-dataframe-output')) document.getElementById('370b5aef-bd45-43db-a0d0-ad2199132159').style.display = 'flex' </script> <table border=\"1\" class=\"dataframe\">\n",
       "  <thead>\n",
       "    <tr style=\"text-align: right;\">\n",
       "      <th></th>\n",
       "      <th>amount</th>\n",
       "      <th>oldbalanceOrg</th>\n",
       "      <th>oldbalanceDest</th>\n",
       "      <th>isFlaggedFraud</th>\n",
       "      <th>type_CASH_OUT</th>\n",
       "      <th>type_DEBIT</th>\n",
       "      <th>type_PAYMENT</th>\n",
       "      <th>type_TRANSFER</th>\n",
       "    </tr>\n",
       "  </thead>\n",
       "  <tbody>\n",
       "    <tr>\n",
       "      <th>0</th>\n",
       "      <td>9839.64</td>\n",
       "      <td>170136.00</td>\n",
       "      <td>0.00</td>\n",
       "      <td>0</td>\n",
       "      <td>0</td>\n",
       "      <td>0</td>\n",
       "      <td>1</td>\n",
       "      <td>0</td>\n",
       "    </tr>\n",
       "    <tr>\n",
       "      <th>1</th>\n",
       "      <td>1864.28</td>\n",
       "      <td>21249.00</td>\n",
       "      <td>0.00</td>\n",
       "      <td>0</td>\n",
       "      <td>0</td>\n",
       "      <td>0</td>\n",
       "      <td>1</td>\n",
       "      <td>0</td>\n",
       "    </tr>\n",
       "    <tr>\n",
       "      <th>2</th>\n",
       "      <td>181.00</td>\n",
       "      <td>181.00</td>\n",
       "      <td>0.00</td>\n",
       "      <td>0</td>\n",
       "      <td>0</td>\n",
       "      <td>0</td>\n",
       "      <td>0</td>\n",
       "      <td>1</td>\n",
       "    </tr>\n",
       "    <tr>\n",
       "      <th>3</th>\n",
       "      <td>181.00</td>\n",
       "      <td>181.00</td>\n",
       "      <td>21182.00</td>\n",
       "      <td>0</td>\n",
       "      <td>1</td>\n",
       "      <td>0</td>\n",
       "      <td>0</td>\n",
       "      <td>0</td>\n",
       "    </tr>\n",
       "    <tr>\n",
       "      <th>4</th>\n",
       "      <td>11668.14</td>\n",
       "      <td>41554.00</td>\n",
       "      <td>0.00</td>\n",
       "      <td>0</td>\n",
       "      <td>0</td>\n",
       "      <td>0</td>\n",
       "      <td>1</td>\n",
       "      <td>0</td>\n",
       "    </tr>\n",
       "    <tr>\n",
       "      <th>...</th>\n",
       "      <td>...</td>\n",
       "      <td>...</td>\n",
       "      <td>...</td>\n",
       "      <td>...</td>\n",
       "      <td>...</td>\n",
       "      <td>...</td>\n",
       "      <td>...</td>\n",
       "      <td>...</td>\n",
       "    </tr>\n",
       "    <tr>\n",
       "      <th>6362615</th>\n",
       "      <td>339682.13</td>\n",
       "      <td>339682.13</td>\n",
       "      <td>0.00</td>\n",
       "      <td>0</td>\n",
       "      <td>1</td>\n",
       "      <td>0</td>\n",
       "      <td>0</td>\n",
       "      <td>0</td>\n",
       "    </tr>\n",
       "    <tr>\n",
       "      <th>6362616</th>\n",
       "      <td>6311409.28</td>\n",
       "      <td>6311409.28</td>\n",
       "      <td>0.00</td>\n",
       "      <td>0</td>\n",
       "      <td>0</td>\n",
       "      <td>0</td>\n",
       "      <td>0</td>\n",
       "      <td>1</td>\n",
       "    </tr>\n",
       "    <tr>\n",
       "      <th>6362617</th>\n",
       "      <td>6311409.28</td>\n",
       "      <td>6311409.28</td>\n",
       "      <td>68488.84</td>\n",
       "      <td>0</td>\n",
       "      <td>1</td>\n",
       "      <td>0</td>\n",
       "      <td>0</td>\n",
       "      <td>0</td>\n",
       "    </tr>\n",
       "    <tr>\n",
       "      <th>6362618</th>\n",
       "      <td>850002.52</td>\n",
       "      <td>850002.52</td>\n",
       "      <td>0.00</td>\n",
       "      <td>0</td>\n",
       "      <td>0</td>\n",
       "      <td>0</td>\n",
       "      <td>0</td>\n",
       "      <td>1</td>\n",
       "    </tr>\n",
       "    <tr>\n",
       "      <th>6362619</th>\n",
       "      <td>850002.52</td>\n",
       "      <td>850002.52</td>\n",
       "      <td>6510099.11</td>\n",
       "      <td>0</td>\n",
       "      <td>1</td>\n",
       "      <td>0</td>\n",
       "      <td>0</td>\n",
       "      <td>0</td>\n",
       "    </tr>\n",
       "  </tbody>\n",
       "</table></div>"
      ],
      "text/plain": [
       "             amount  oldbalanceOrg  oldbalanceDest  isFlaggedFraud  \\\n",
       "0           9839.64      170136.00            0.00               0   \n",
       "1           1864.28       21249.00            0.00               0   \n",
       "2            181.00         181.00            0.00               0   \n",
       "3            181.00         181.00        21182.00               0   \n",
       "4          11668.14       41554.00            0.00               0   \n",
       "...             ...            ...             ...             ...   \n",
       "6362615   339682.13      339682.13            0.00               0   \n",
       "6362616  6311409.28     6311409.28            0.00               0   \n",
       "6362617  6311409.28     6311409.28        68488.84               0   \n",
       "6362618   850002.52      850002.52            0.00               0   \n",
       "6362619   850002.52      850002.52      6510099.11               0   \n",
       "\n",
       "         type_CASH_OUT  type_DEBIT  type_PAYMENT  type_TRANSFER  \n",
       "0                    0           0             1              0  \n",
       "1                    0           0             1              0  \n",
       "2                    0           0             0              1  \n",
       "3                    1           0             0              0  \n",
       "4                    0           0             1              0  \n",
       "...                ...         ...           ...            ...  \n",
       "6362615              1           0             0              0  \n",
       "6362616              0           0             0              1  \n",
       "6362617              1           0             0              0  \n",
       "6362618              0           0             0              1  \n",
       "6362619              1           0             0              0  \n",
       "\n",
       "[6362620 rows x 8 columns]"
      ]
     },
     "execution_count": 28,
     "metadata": {},
     "output_type": "execute_result"
    }
   ],
   "source": [
    "x"
   ]
  },
  {
   "cell_type": "code",
   "execution_count": 29,
   "id": "b5e05bb3-b61b-4b14-ae2d-86a807f493ba",
   "metadata": {},
   "outputs": [
    {
     "data": {
      "text/plain": [
       "0          0\n",
       "1          0\n",
       "2          1\n",
       "3          1\n",
       "4          0\n",
       "          ..\n",
       "6362615    1\n",
       "6362616    1\n",
       "6362617    1\n",
       "6362618    1\n",
       "6362619    1\n",
       "Name: isFraud, Length: 6362620, dtype: int64"
      ]
     },
     "execution_count": 29,
     "metadata": {},
     "output_type": "execute_result"
    }
   ],
   "source": [
    "y"
   ]
  },
  {
   "cell_type": "markdown",
   "id": "bf3a4fea-d23d-4eab-a155-e2f725fa759f",
   "metadata": {},
   "source": [
    "#### Dividing the data into training and testing data"
   ]
  },
  {
   "cell_type": "code",
   "execution_count": 30,
   "id": "2bb76745-8176-4a20-a667-d74ba1f696bc",
   "metadata": {},
   "outputs": [],
   "source": [
    "from sklearn.model_selection import train_test_split"
   ]
  },
  {
   "cell_type": "code",
   "execution_count": 77,
   "id": "05c8b29a-2a2f-4948-b603-c54b80a2bae2",
   "metadata": {},
   "outputs": [
    {
     "name": "stdout",
     "output_type": "stream",
     "text": [
      "(4771965, 8)\n",
      "(1590655, 8)\n",
      "(4771965,)\n",
      "(1590655,)\n"
     ]
    }
   ],
   "source": [
    "x_train,x_test,y_train,y_test = train_test_split(x,y,test_size=0.25,random_state=42)\n",
    "print(x_train.shape)\n",
    "print(x_test.shape)\n",
    "print(y_train.shape)\n",
    "print(y_test.shape)"
   ]
  },
  {
   "cell_type": "markdown",
   "id": "9e523f8b-706b-46a6-8240-e4d0d26a91eb",
   "metadata": {},
   "source": [
    "#### Creating Functions to generate confusion matrix, classification report, accuracy score, ROC_AUC Score and to compute Training and the Testing Score"
   ]
  },
  {
   "cell_type": "code",
   "execution_count": 32,
   "id": "edebe789-ca70-4a98-b918-6c24819301e6",
   "metadata": {},
   "outputs": [],
   "source": [
    "from sklearn.metrics import confusion_matrix,classification_report,accuracy_score\n",
    "from sklearn.metrics import roc_auc_score,roc_curve, auc"
   ]
  },
  {
   "cell_type": "code",
   "execution_count": 33,
   "id": "9d8ccb74-49a8-45a8-baf9-b1e03a5919d4",
   "metadata": {},
   "outputs": [],
   "source": [
    "d = {'Model':[],'TP':[],'FN':[],'FP':[],'TN':[],'Acc':[],'AUC':[]}\n",
    "\n",
    "def eval_model(model,model_name,x_test,ytest,ypred):\n",
    "    cm = confusion_matrix(ytest,ypred)\n",
    "    acc = accuracy_score(ytest,ypred)\n",
    "    cls_rep = classification_report(ytest,ypred,zero_division=0)\n",
    "    auc_score = roc_auc_score(y_test,model.predict_proba(x_test)[:,1])\n",
    "    print('Confusion Matrix\\n',cm)\n",
    "    print('Accuracy Score',acc)\n",
    "    print('AUC Score',auc_score)\n",
    "    print('Classification Report\\n',cls_rep)\n",
    "    d['Model'].append(model_name)\n",
    "    d['TP'].append(cm[0,0])\n",
    "    d['FN'].append(cm[0,1])\n",
    "    d['FP'].append(cm[1,0])\n",
    "    d['TN'].append(cm[1,1])\n",
    "    d['Acc'].append(acc)\n",
    "    d['AUC'].append(auc_score)\n",
    "    \n",
    "    \n",
    "def plot_roc_auc(model,ytest):\n",
    "    fpr,tpr,thresh = roc_curve(y_test,model.predict_proba(x_test)[:,1])\n",
    "    auc_score = roc_auc_score(y_test,model.predict_proba(x_test)[:,1])\n",
    "    print('Area Under Curve',auc_score)\n",
    "    plt.plot(fpr,tpr,color='orange')\n",
    "    plt.plot([0,1],[0,1],label='TPR=FPR')\n",
    "    plt.title('ROC_AUC Curve')\n",
    "    plt.xlabel('FPR')\n",
    "    plt.ylabel('TPR')\n",
    "    plt.grid()\n",
    "    plt.legend()\n",
    "    plt.show()\n",
    "    \n",
    "def mscore(model):\n",
    "    print('Training Score',model.score(x_train,y_train))  # Training dataset Accuracy\n",
    "    print('Testing Score',model.score(x_test,y_test))     # Testing dataset accuracy"
   ]
  },
  {
   "cell_type": "markdown",
   "id": "21245486-dbb4-4e21-8bd3-46535a08cea1",
   "metadata": {},
   "source": [
    "#### 1) Applying Logistic Regression"
   ]
  },
  {
   "cell_type": "code",
   "execution_count": 34,
   "id": "f7258947-33d0-4856-a60b-ad3795223798",
   "metadata": {},
   "outputs": [],
   "source": [
    "# importing LogReg library\n",
    "from sklearn.linear_model import LogisticRegression"
   ]
  },
  {
   "cell_type": "code",
   "execution_count": 35,
   "id": "52d9dcd3-aa60-4a74-bc3f-ba6b5887cbfb",
   "metadata": {},
   "outputs": [
    {
     "data": {
      "text/html": [
       "<style>#sk-container-id-1 {color: black;background-color: white;}#sk-container-id-1 pre{padding: 0;}#sk-container-id-1 div.sk-toggleable {background-color: white;}#sk-container-id-1 label.sk-toggleable__label {cursor: pointer;display: block;width: 100%;margin-bottom: 0;padding: 0.3em;box-sizing: border-box;text-align: center;}#sk-container-id-1 label.sk-toggleable__label-arrow:before {content: \"▸\";float: left;margin-right: 0.25em;color: #696969;}#sk-container-id-1 label.sk-toggleable__label-arrow:hover:before {color: black;}#sk-container-id-1 div.sk-estimator:hover label.sk-toggleable__label-arrow:before {color: black;}#sk-container-id-1 div.sk-toggleable__content {max-height: 0;max-width: 0;overflow: hidden;text-align: left;background-color: #f0f8ff;}#sk-container-id-1 div.sk-toggleable__content pre {margin: 0.2em;color: black;border-radius: 0.25em;background-color: #f0f8ff;}#sk-container-id-1 input.sk-toggleable__control:checked~div.sk-toggleable__content {max-height: 200px;max-width: 100%;overflow: auto;}#sk-container-id-1 input.sk-toggleable__control:checked~label.sk-toggleable__label-arrow:before {content: \"▾\";}#sk-container-id-1 div.sk-estimator input.sk-toggleable__control:checked~label.sk-toggleable__label {background-color: #d4ebff;}#sk-container-id-1 div.sk-label input.sk-toggleable__control:checked~label.sk-toggleable__label {background-color: #d4ebff;}#sk-container-id-1 input.sk-hidden--visually {border: 0;clip: rect(1px 1px 1px 1px);clip: rect(1px, 1px, 1px, 1px);height: 1px;margin: -1px;overflow: hidden;padding: 0;position: absolute;width: 1px;}#sk-container-id-1 div.sk-estimator {font-family: monospace;background-color: #f0f8ff;border: 1px dotted black;border-radius: 0.25em;box-sizing: border-box;margin-bottom: 0.5em;}#sk-container-id-1 div.sk-estimator:hover {background-color: #d4ebff;}#sk-container-id-1 div.sk-parallel-item::after {content: \"\";width: 100%;border-bottom: 1px solid gray;flex-grow: 1;}#sk-container-id-1 div.sk-label:hover label.sk-toggleable__label {background-color: #d4ebff;}#sk-container-id-1 div.sk-serial::before {content: \"\";position: absolute;border-left: 1px solid gray;box-sizing: border-box;top: 0;bottom: 0;left: 50%;z-index: 0;}#sk-container-id-1 div.sk-serial {display: flex;flex-direction: column;align-items: center;background-color: white;padding-right: 0.2em;padding-left: 0.2em;position: relative;}#sk-container-id-1 div.sk-item {position: relative;z-index: 1;}#sk-container-id-1 div.sk-parallel {display: flex;align-items: stretch;justify-content: center;background-color: white;position: relative;}#sk-container-id-1 div.sk-item::before, #sk-container-id-1 div.sk-parallel-item::before {content: \"\";position: absolute;border-left: 1px solid gray;box-sizing: border-box;top: 0;bottom: 0;left: 50%;z-index: -1;}#sk-container-id-1 div.sk-parallel-item {display: flex;flex-direction: column;z-index: 1;position: relative;background-color: white;}#sk-container-id-1 div.sk-parallel-item:first-child::after {align-self: flex-end;width: 50%;}#sk-container-id-1 div.sk-parallel-item:last-child::after {align-self: flex-start;width: 50%;}#sk-container-id-1 div.sk-parallel-item:only-child::after {width: 0;}#sk-container-id-1 div.sk-dashed-wrapped {border: 1px dashed gray;margin: 0 0.4em 0.5em 0.4em;box-sizing: border-box;padding-bottom: 0.4em;background-color: white;}#sk-container-id-1 div.sk-label label {font-family: monospace;font-weight: bold;display: inline-block;line-height: 1.2em;}#sk-container-id-1 div.sk-label-container {text-align: center;}#sk-container-id-1 div.sk-container {/* jupyter's `normalize.less` sets `[hidden] { display: none; }` but bootstrap.min.css set `[hidden] { display: none !important; }` so we also need the `!important` here to be able to override the default hidden behavior on the sphinx rendered scikit-learn.org. See: https://github.com/scikit-learn/scikit-learn/issues/21755 */display: inline-block !important;position: relative;}#sk-container-id-1 div.sk-text-repr-fallback {display: none;}</style><div id=\"sk-container-id-1\" class=\"sk-top-container\"><div class=\"sk-text-repr-fallback\"><pre>LogisticRegression(max_iter=100000, solver=&#x27;liblinear&#x27;)</pre><b>In a Jupyter environment, please rerun this cell to show the HTML representation or trust the notebook. <br />On GitHub, the HTML representation is unable to render, please try loading this page with nbviewer.org.</b></div><div class=\"sk-container\" hidden><div class=\"sk-item\"><div class=\"sk-estimator sk-toggleable\"><input class=\"sk-toggleable__control sk-hidden--visually\" id=\"sk-estimator-id-1\" type=\"checkbox\" checked><label for=\"sk-estimator-id-1\" class=\"sk-toggleable__label sk-toggleable__label-arrow\">LogisticRegression</label><div class=\"sk-toggleable__content\"><pre>LogisticRegression(max_iter=100000, solver=&#x27;liblinear&#x27;)</pre></div></div></div></div></div>"
      ],
      "text/plain": [
       "LogisticRegression(max_iter=100000, solver='liblinear')"
      ]
     },
     "execution_count": 35,
     "metadata": {},
     "output_type": "execute_result"
    }
   ],
   "source": [
    "# Building the LogReg model\n",
    "log_reg = LogisticRegression(max_iter=100000,solver='liblinear')\n",
    "log_reg.fit(x_train,y_train)"
   ]
  },
  {
   "cell_type": "code",
   "execution_count": 36,
   "id": "c91d7bd2-2327-4a4e-baca-1a12d20acefa",
   "metadata": {},
   "outputs": [
    {
     "name": "stdout",
     "output_type": "stream",
     "text": [
      "Training Score 0.9987074507042696\n",
      "Testing Score 0.9987143660944705\n"
     ]
    }
   ],
   "source": [
    "# Computing Training and testing score\n",
    "mscore(log_reg)"
   ]
  },
  {
   "cell_type": "code",
   "execution_count": 37,
   "id": "4b364d3e-4aa7-424a-80b6-b1c5274e1b3d",
   "metadata": {},
   "outputs": [
    {
     "name": "stdout",
     "output_type": "stream",
     "text": [
      "[0 0 0 ... 0 0 0]\n"
     ]
    }
   ],
   "source": [
    "# Generating prediction\n",
    "ypred_logreg = log_reg.predict(x_test)\n",
    "print(ypred_logreg)"
   ]
  },
  {
   "cell_type": "code",
   "execution_count": 38,
   "id": "571cd880-ccc8-4069-87b6-5d3662a4326f",
   "metadata": {},
   "outputs": [
    {
     "name": "stdout",
     "output_type": "stream",
     "text": [
      "Confusion Matrix\n",
      " [[1588610       0]\n",
      " [   2045       0]]\n",
      "Accuracy Score 0.9987143660944705\n",
      "AUC Score 0.42949579870603616\n",
      "Classification Report\n",
      "               precision    recall  f1-score   support\n",
      "\n",
      "           0       1.00      1.00      1.00   1588610\n",
      "           1       0.00      0.00      0.00      2045\n",
      "\n",
      "    accuracy                           1.00   1590655\n",
      "   macro avg       0.50      0.50      0.50   1590655\n",
      "weighted avg       1.00      1.00      1.00   1590655\n",
      "\n"
     ]
    }
   ],
   "source": [
    "# Evaluate the model - confusion matrix, clasification Report, AUC Score, Accuaracy\n",
    "eval_model(log_reg,'Log_Reg',x_test,y_test,ypred_logreg)"
   ]
  },
  {
   "cell_type": "code",
   "execution_count": 39,
   "id": "2395e8f0-779c-4290-8b62-4ece7e181c0d",
   "metadata": {},
   "outputs": [
    {
     "name": "stdout",
     "output_type": "stream",
     "text": [
      "Area Under Curve 0.42949579870603616\n"
     ]
    },
    {
     "data": {
      "image/png": "[encoded data removed]",
      "text/plain": [
       "<Figure size 640x480 with 1 Axes>"
      ]
     },
     "metadata": {},
     "output_type": "display_data"
    }
   ],
   "source": [
    "# Plotting ROC AUC Curve\n",
    "plot_roc_auc(log_reg,y_test)"
   ]
  },
  {
   "cell_type": "markdown",
   "id": "f5a6b7b1-29f3-442a-b73f-50c74be7f646",
   "metadata": {},
   "source": [
    "#### Applying Decision Tree Classifier"
   ]
  },
  {
   "cell_type": "code",
   "execution_count": 40,
   "id": "c42864d4-3374-42c1-8104-33a91709ce14",
   "metadata": {},
   "outputs": [],
   "source": [
    "# importing DT library\n",
    "from sklearn.tree import DecisionTreeClassifier"
   ]
  },
  {
   "cell_type": "code",
   "execution_count": 41,
   "id": "9999c8c6-2996-476e-bb3b-119d6594c5c0",
   "metadata": {},
   "outputs": [
    {
     "data": {
      "text/html": [
       "<style>#sk-container-id-2 {color: black;background-color: white;}#sk-container-id-2 pre{padding: 0;}#sk-container-id-2 div.sk-toggleable {background-color: white;}#sk-container-id-2 label.sk-toggleable__label {cursor: pointer;display: block;width: 100%;margin-bottom: 0;padding: 0.3em;box-sizing: border-box;text-align: center;}#sk-container-id-2 label.sk-toggleable__label-arrow:before {content: \"▸\";float: left;margin-right: 0.25em;color: #696969;}#sk-container-id-2 label.sk-toggleable__label-arrow:hover:before {color: black;}#sk-container-id-2 div.sk-estimator:hover label.sk-toggleable__label-arrow:before {color: black;}#sk-container-id-2 div.sk-toggleable__content {max-height: 0;max-width: 0;overflow: hidden;text-align: left;background-color: #f0f8ff;}#sk-container-id-2 div.sk-toggleable__content pre {margin: 0.2em;color: black;border-radius: 0.25em;background-color: #f0f8ff;}#sk-container-id-2 input.sk-toggleable__control:checked~div.sk-toggleable__content {max-height: 200px;max-width: 100%;overflow: auto;}#sk-container-id-2 input.sk-toggleable__control:checked~label.sk-toggleable__label-arrow:before {content: \"▾\";}#sk-container-id-2 div.sk-estimator input.sk-toggleable__control:checked~label.sk-toggleable__label {background-color: #d4ebff;}#sk-container-id-2 div.sk-label input.sk-toggleable__control:checked~label.sk-toggleable__label {background-color: #d4ebff;}#sk-container-id-2 input.sk-hidden--visually {border: 0;clip: rect(1px 1px 1px 1px);clip: rect(1px, 1px, 1px, 1px);height: 1px;margin: -1px;overflow: hidden;padding: 0;position: absolute;width: 1px;}#sk-container-id-2 div.sk-estimator {font-family: monospace;background-color: #f0f8ff;border: 1px dotted black;border-radius: 0.25em;box-sizing: border-box;margin-bottom: 0.5em;}#sk-container-id-2 div.sk-estimator:hover {background-color: #d4ebff;}#sk-container-id-2 div.sk-parallel-item::after {content: \"\";width: 100%;border-bottom: 1px solid gray;flex-grow: 1;}#sk-container-id-2 div.sk-label:hover label.sk-toggleable__label {background-color: #d4ebff;}#sk-container-id-2 div.sk-serial::before {content: \"\";position: absolute;border-left: 1px solid gray;box-sizing: border-box;top: 0;bottom: 0;left: 50%;z-index: 0;}#sk-container-id-2 div.sk-serial {display: flex;flex-direction: column;align-items: center;background-color: white;padding-right: 0.2em;padding-left: 0.2em;position: relative;}#sk-container-id-2 div.sk-item {position: relative;z-index: 1;}#sk-container-id-2 div.sk-parallel {display: flex;align-items: stretch;justify-content: center;background-color: white;position: relative;}#sk-container-id-2 div.sk-item::before, #sk-container-id-2 div.sk-parallel-item::before {content: \"\";position: absolute;border-left: 1px solid gray;box-sizing: border-box;top: 0;bottom: 0;left: 50%;z-index: -1;}#sk-container-id-2 div.sk-parallel-item {display: flex;flex-direction: column;z-index: 1;position: relative;background-color: white;}#sk-container-id-2 div.sk-parallel-item:first-child::after {align-self: flex-end;width: 50%;}#sk-container-id-2 div.sk-parallel-item:last-child::after {align-self: flex-start;width: 50%;}#sk-container-id-2 div.sk-parallel-item:only-child::after {width: 0;}#sk-container-id-2 div.sk-dashed-wrapped {border: 1px dashed gray;margin: 0 0.4em 0.5em 0.4em;box-sizing: border-box;padding-bottom: 0.4em;background-color: white;}#sk-container-id-2 div.sk-label label {font-family: monospace;font-weight: bold;display: inline-block;line-height: 1.2em;}#sk-container-id-2 div.sk-label-container {text-align: center;}#sk-container-id-2 div.sk-container {/* jupyter's `normalize.less` sets `[hidden] { display: none; }` but bootstrap.min.css set `[hidden] { display: none !important; }` so we also need the `!important` here to be able to override the default hidden behavior on the sphinx rendered scikit-learn.org. See: https://github.com/scikit-learn/scikit-learn/issues/21755 */display: inline-block !important;position: relative;}#sk-container-id-2 div.sk-text-repr-fallback {display: none;}</style><div id=\"sk-container-id-2\" class=\"sk-top-container\"><div class=\"sk-text-repr-fallback\"><pre>DecisionTreeClassifier(max_depth=10, min_samples_split=50)</pre><b>In a Jupyter environment, please rerun this cell to show the HTML representation or trust the notebook. <br />On GitHub, the HTML representation is unable to render, please try loading this page with nbviewer.org.</b></div><div class=\"sk-container\" hidden><div class=\"sk-item\"><div class=\"sk-estimator sk-toggleable\"><input class=\"sk-toggleable__control sk-hidden--visually\" id=\"sk-estimator-id-2\" type=\"checkbox\" checked><label for=\"sk-estimator-id-2\" class=\"sk-toggleable__label sk-toggleable__label-arrow\">DecisionTreeClassifier</label><div class=\"sk-toggleable__content\"><pre>DecisionTreeClassifier(max_depth=10, min_samples_split=50)</pre></div></div></div></div></div>"
      ],
      "text/plain": [
       "DecisionTreeClassifier(max_depth=10, min_samples_split=50)"
      ]
     },
     "execution_count": 41,
     "metadata": {},
     "output_type": "execute_result"
    }
   ],
   "source": [
    "# Building the Decition Tree model\n",
    "dt = DecisionTreeClassifier(criterion='gini',min_samples_split=50,max_depth=10)\n",
    "dt.fit(x_train,y_train)"
   ]
  },
  {
   "cell_type": "code",
   "execution_count": 42,
   "id": "c7734711-fb1c-4cae-b6f6-78058f5c6762",
   "metadata": {},
   "outputs": [
    {
     "name": "stdout",
     "output_type": "stream",
     "text": [
      "Training Score 0.9992598436912258\n",
      "Testing Score 0.9992449651244298\n"
     ]
    }
   ],
   "source": [
    "# Training and the Testing Score\n",
    "mscore(dt)"
   ]
  },
  {
   "cell_type": "code",
   "execution_count": 43,
   "id": "a8d722cc-01e5-4f8c-ba17-8a340abf21fa",
   "metadata": {},
   "outputs": [],
   "source": [
    "# Generating the predictions\n",
    "ypred_dt = dt.predict(x_test)"
   ]
  },
  {
   "cell_type": "code",
   "execution_count": 44,
   "id": "3d2c66ba-e3a5-4b1f-967e-74527e2c4d8a",
   "metadata": {},
   "outputs": [
    {
     "name": "stdout",
     "output_type": "stream",
     "text": [
      "Confusion Matrix\n",
      " [[1588404     206]\n",
      " [    995    1050]]\n",
      "Accuracy Score 0.9992449651244298\n",
      "AUC Score 0.9926724810201054\n",
      "Classification Report\n",
      "               precision    recall  f1-score   support\n",
      "\n",
      "           0       1.00      1.00      1.00   1588610\n",
      "           1       0.84      0.51      0.64      2045\n",
      "\n",
      "    accuracy                           1.00   1590655\n",
      "   macro avg       0.92      0.76      0.82   1590655\n",
      "weighted avg       1.00      1.00      1.00   1590655\n",
      "\n"
     ]
    }
   ],
   "source": [
    "# Evaluate the model - confusion matrix, classification Report, AUC Score, Accuaracy\n",
    "eval_model(dt,'DT',x_test,y_test,ypred_dt)"
   ]
  },
  {
   "cell_type": "code",
   "execution_count": 45,
   "id": "cecd38dc-a9b5-444c-8533-9f7de156e68a",
   "metadata": {},
   "outputs": [
    {
     "name": "stdout",
     "output_type": "stream",
     "text": [
      "Area Under Curve 0.9926724810201054\n"
     ]
    },
    {
     "data": {
      "image/png": "[encoded data removed]",
      "text/plain": [
       "<Figure size 640x480 with 1 Axes>"
      ]
     },
     "metadata": {},
     "output_type": "display_data"
    }
   ],
   "source": [
    "# Plotting ROC_AUC Curve\n",
    "plot_roc_auc(dt,y_test)"
   ]
  },
  {
   "cell_type": "markdown",
   "id": "7c079c28-d5b0-4980-86ed-91cb3ea5a5bf",
   "metadata": {},
   "source": [
    "#### Applying RandomForest Classifier"
   ]
  },
  {
   "cell_type": "code",
   "execution_count": 46,
   "id": "de70db62-c131-47f6-b0c5-a735f2454b8e",
   "metadata": {},
   "outputs": [],
   "source": [
    "# Import random Forest library\n",
    "from sklearn.ensemble import RandomForestClassifier"
   ]
  },
  {
   "cell_type": "code",
   "execution_count": 47,
   "id": "828a895d-9dab-41e7-b63d-09ef0f862a5e",
   "metadata": {},
   "outputs": [
    {
     "data": {
      "text/html": [
       "<style>#sk-container-id-3 {color: black;background-color: white;}#sk-container-id-3 pre{padding: 0;}#sk-container-id-3 div.sk-toggleable {background-color: white;}#sk-container-id-3 label.sk-toggleable__label {cursor: pointer;display: block;width: 100%;margin-bottom: 0;padding: 0.3em;box-sizing: border-box;text-align: center;}#sk-container-id-3 label.sk-toggleable__label-arrow:before {content: \"▸\";float: left;margin-right: 0.25em;color: #696969;}#sk-container-id-3 label.sk-toggleable__label-arrow:hover:before {color: black;}#sk-container-id-3 div.sk-estimator:hover label.sk-toggleable__label-arrow:before {color: black;}#sk-container-id-3 div.sk-toggleable__content {max-height: 0;max-width: 0;overflow: hidden;text-align: left;background-color: #f0f8ff;}#sk-container-id-3 div.sk-toggleable__content pre {margin: 0.2em;color: black;border-radius: 0.25em;background-color: #f0f8ff;}#sk-container-id-3 input.sk-toggleable__control:checked~div.sk-toggleable__content {max-height: 200px;max-width: 100%;overflow: auto;}#sk-container-id-3 input.sk-toggleable__control:checked~label.sk-toggleable__label-arrow:before {content: \"▾\";}#sk-container-id-3 div.sk-estimator input.sk-toggleable__control:checked~label.sk-toggleable__label {background-color: #d4ebff;}#sk-container-id-3 div.sk-label input.sk-toggleable__control:checked~label.sk-toggleable__label {background-color: #d4ebff;}#sk-container-id-3 input.sk-hidden--visually {border: 0;clip: rect(1px 1px 1px 1px);clip: rect(1px, 1px, 1px, 1px);height: 1px;margin: -1px;overflow: hidden;padding: 0;position: absolute;width: 1px;}#sk-container-id-3 div.sk-estimator {font-family: monospace;background-color: #f0f8ff;border: 1px dotted black;border-radius: 0.25em;box-sizing: border-box;margin-bottom: 0.5em;}#sk-container-id-3 div.sk-estimator:hover {background-color: #d4ebff;}#sk-container-id-3 div.sk-parallel-item::after {content: \"\";width: 100%;border-bottom: 1px solid gray;flex-grow: 1;}#sk-container-id-3 div.sk-label:hover label.sk-toggleable__label {background-color: #d4ebff;}#sk-container-id-3 div.sk-serial::before {content: \"\";position: absolute;border-left: 1px solid gray;box-sizing: border-box;top: 0;bottom: 0;left: 50%;z-index: 0;}#sk-container-id-3 div.sk-serial {display: flex;flex-direction: column;align-items: center;background-color: white;padding-right: 0.2em;padding-left: 0.2em;position: relative;}#sk-container-id-3 div.sk-item {position: relative;z-index: 1;}#sk-container-id-3 div.sk-parallel {display: flex;align-items: stretch;justify-content: center;background-color: white;position: relative;}#sk-container-id-3 div.sk-item::before, #sk-container-id-3 div.sk-parallel-item::before {content: \"\";position: absolute;border-left: 1px solid gray;box-sizing: border-box;top: 0;bottom: 0;left: 50%;z-index: -1;}#sk-container-id-3 div.sk-parallel-item {display: flex;flex-direction: column;z-index: 1;position: relative;background-color: white;}#sk-container-id-3 div.sk-parallel-item:first-child::after {align-self: flex-end;width: 50%;}#sk-container-id-3 div.sk-parallel-item:last-child::after {align-self: flex-start;width: 50%;}#sk-container-id-3 div.sk-parallel-item:only-child::after {width: 0;}#sk-container-id-3 div.sk-dashed-wrapped {border: 1px dashed gray;margin: 0 0.4em 0.5em 0.4em;box-sizing: border-box;padding-bottom: 0.4em;background-color: white;}#sk-container-id-3 div.sk-label label {font-family: monospace;font-weight: bold;display: inline-block;line-height: 1.2em;}#sk-container-id-3 div.sk-label-container {text-align: center;}#sk-container-id-3 div.sk-container {/* jupyter's `normalize.less` sets `[hidden] { display: none; }` but bootstrap.min.css set `[hidden] { display: none !important; }` so we also need the `!important` here to be able to override the default hidden behavior on the sphinx rendered scikit-learn.org. See: https://github.com/scikit-learn/scikit-learn/issues/21755 */display: inline-block !important;position: relative;}#sk-container-id-3 div.sk-text-repr-fallback {display: none;}</style><div id=\"sk-container-id-3\" class=\"sk-top-container\"><div class=\"sk-text-repr-fallback\"><pre>RandomForestClassifier(max_depth=10, min_samples_split=50, n_estimators=80)</pre><b>In a Jupyter environment, please rerun this cell to show the HTML representation or trust the notebook. <br />On GitHub, the HTML representation is unable to render, please try loading this page with nbviewer.org.</b></div><div class=\"sk-container\" hidden><div class=\"sk-item\"><div class=\"sk-estimator sk-toggleable\"><input class=\"sk-toggleable__control sk-hidden--visually\" id=\"sk-estimator-id-3\" type=\"checkbox\" checked><label for=\"sk-estimator-id-3\" class=\"sk-toggleable__label sk-toggleable__label-arrow\">RandomForestClassifier</label><div class=\"sk-toggleable__content\"><pre>RandomForestClassifier(max_depth=10, min_samples_split=50, n_estimators=80)</pre></div></div></div></div></div>"
      ],
      "text/plain": [
       "RandomForestClassifier(max_depth=10, min_samples_split=50, n_estimators=80)"
      ]
     },
     "execution_count": 47,
     "metadata": {},
     "output_type": "execute_result"
    }
   ],
   "source": [
    "# Building the RF Model\n",
    "rf = RandomForestClassifier(n_estimators=80,criterion='gini',min_samples_split=50,max_depth=10)\n",
    "rf.fit(x_train,y_train)"
   ]
  },
  {
   "cell_type": "code",
   "execution_count": 48,
   "id": "65964e3c-dfe5-4dd9-b728-284a6a0fa862",
   "metadata": {},
   "outputs": [
    {
     "name": "stdout",
     "output_type": "stream",
     "text": [
      "Training Score 0.9991997007522059\n",
      "Testing Score 0.9991965573930236\n"
     ]
    }
   ],
   "source": [
    "# Training and the testing Score\n",
    "mscore(rf)"
   ]
  },
  {
   "cell_type": "code",
   "execution_count": 49,
   "id": "a3ecbd74-24d5-497a-83cf-129d2b4e5479",
   "metadata": {},
   "outputs": [],
   "source": [
    "# Generating the predictions\n",
    "ypred_rf = rf.predict(x_test)"
   ]
  },
  {
   "cell_type": "code",
   "execution_count": 50,
   "id": "5451c416-da15-4dc4-ae21-8d5b075c0ec3",
   "metadata": {},
   "outputs": [
    {
     "name": "stdout",
     "output_type": "stream",
     "text": [
      "Confusion Matrix\n",
      " [[1588598      12]\n",
      " [   1266     779]]\n",
      "Accuracy Score 0.9991965573930236\n",
      "AUC Score 0.9914682861025237\n",
      "Classification Report\n",
      "               precision    recall  f1-score   support\n",
      "\n",
      "           0       1.00      1.00      1.00   1588610\n",
      "           1       0.98      0.38      0.55      2045\n",
      "\n",
      "    accuracy                           1.00   1590655\n",
      "   macro avg       0.99      0.69      0.77   1590655\n",
      "weighted avg       1.00      1.00      1.00   1590655\n",
      "\n"
     ]
    }
   ],
   "source": [
    "# Evaluate the model - confusion matrix, classification Report, AUC Score, Accuaracy\n",
    "eval_model(rf,'Random Forest',x_test,y_test,ypred_rf)"
   ]
  },
  {
   "cell_type": "code",
   "execution_count": 51,
   "id": "e759391d-861a-470b-bb22-073ba342172f",
   "metadata": {},
   "outputs": [
    {
     "name": "stdout",
     "output_type": "stream",
     "text": [
      "Area Under Curve 0.9914682861025237\n"
     ]
    },
    {
     "data": {
      "image/png": "[encoded data removed]",
      "text/plain": [
       "<Figure size 640x480 with 1 Axes>"
      ]
     },
     "metadata": {},
     "output_type": "display_data"
    }
   ],
   "source": [
    "# Plotting ROC_AUC Curve\n",
    "plot_roc_auc(rf,y_test)"
   ]
  },
  {
   "cell_type": "markdown",
   "id": "b9ccacb5-009d-4ed8-8c0c-f5fcada1d406",
   "metadata": {},
   "source": [
    "#### Applying Ensemble Learning"
   ]
  },
  {
   "cell_type": "code",
   "execution_count": 52,
   "id": "7c2813da-3f34-45d4-a297-039f8d252bba",
   "metadata": {},
   "outputs": [],
   "source": [
    "# Importing the  AdaBoost Classifier library\n",
    "from sklearn.ensemble import AdaBoostClassifier"
   ]
  },
  {
   "cell_type": "code",
   "execution_count": 53,
   "id": "edbe0bce-8353-49b8-aa02-f0ebf0f1ed28",
   "metadata": {},
   "outputs": [
    {
     "data": {
      "text/html": [
       "<style>#sk-container-id-4 {color: black;background-color: white;}#sk-container-id-4 pre{padding: 0;}#sk-container-id-4 div.sk-toggleable {background-color: white;}#sk-container-id-4 label.sk-toggleable__label {cursor: pointer;display: block;width: 100%;margin-bottom: 0;padding: 0.3em;box-sizing: border-box;text-align: center;}#sk-container-id-4 label.sk-toggleable__label-arrow:before {content: \"▸\";float: left;margin-right: 0.25em;color: #696969;}#sk-container-id-4 label.sk-toggleable__label-arrow:hover:before {color: black;}#sk-container-id-4 div.sk-estimator:hover label.sk-toggleable__label-arrow:before {color: black;}#sk-container-id-4 div.sk-toggleable__content {max-height: 0;max-width: 0;overflow: hidden;text-align: left;background-color: #f0f8ff;}#sk-container-id-4 div.sk-toggleable__content pre {margin: 0.2em;color: black;border-radius: 0.25em;background-color: #f0f8ff;}#sk-container-id-4 input.sk-toggleable__control:checked~div.sk-toggleable__content {max-height: 200px;max-width: 100%;overflow: auto;}#sk-container-id-4 input.sk-toggleable__control:checked~label.sk-toggleable__label-arrow:before {content: \"▾\";}#sk-container-id-4 div.sk-estimator input.sk-toggleable__control:checked~label.sk-toggleable__label {background-color: #d4ebff;}#sk-container-id-4 div.sk-label input.sk-toggleable__control:checked~label.sk-toggleable__label {background-color: #d4ebff;}#sk-container-id-4 input.sk-hidden--visually {border: 0;clip: rect(1px 1px 1px 1px);clip: rect(1px, 1px, 1px, 1px);height: 1px;margin: -1px;overflow: hidden;padding: 0;position: absolute;width: 1px;}#sk-container-id-4 div.sk-estimator {font-family: monospace;background-color: #f0f8ff;border: 1px dotted black;border-radius: 0.25em;box-sizing: border-box;margin-bottom: 0.5em;}#sk-container-id-4 div.sk-estimator:hover {background-color: #d4ebff;}#sk-container-id-4 div.sk-parallel-item::after {content: \"\";width: 100%;border-bottom: 1px solid gray;flex-grow: 1;}#sk-container-id-4 div.sk-label:hover label.sk-toggleable__label {background-color: #d4ebff;}#sk-container-id-4 div.sk-serial::before {content: \"\";position: absolute;border-left: 1px solid gray;box-sizing: border-box;top: 0;bottom: 0;left: 50%;z-index: 0;}#sk-container-id-4 div.sk-serial {display: flex;flex-direction: column;align-items: center;background-color: white;padding-right: 0.2em;padding-left: 0.2em;position: relative;}#sk-container-id-4 div.sk-item {position: relative;z-index: 1;}#sk-container-id-4 div.sk-parallel {display: flex;align-items: stretch;justify-content: center;background-color: white;position: relative;}#sk-container-id-4 div.sk-item::before, #sk-container-id-4 div.sk-parallel-item::before {content: \"\";position: absolute;border-left: 1px solid gray;box-sizing: border-box;top: 0;bottom: 0;left: 50%;z-index: -1;}#sk-container-id-4 div.sk-parallel-item {display: flex;flex-direction: column;z-index: 1;position: relative;background-color: white;}#sk-container-id-4 div.sk-parallel-item:first-child::after {align-self: flex-end;width: 50%;}#sk-container-id-4 div.sk-parallel-item:last-child::after {align-self: flex-start;width: 50%;}#sk-container-id-4 div.sk-parallel-item:only-child::after {width: 0;}#sk-container-id-4 div.sk-dashed-wrapped {border: 1px dashed gray;margin: 0 0.4em 0.5em 0.4em;box-sizing: border-box;padding-bottom: 0.4em;background-color: white;}#sk-container-id-4 div.sk-label label {font-family: monospace;font-weight: bold;display: inline-block;line-height: 1.2em;}#sk-container-id-4 div.sk-label-container {text-align: center;}#sk-container-id-4 div.sk-container {/* jupyter's `normalize.less` sets `[hidden] { display: none; }` but bootstrap.min.css set `[hidden] { display: none !important; }` so we also need the `!important` here to be able to override the default hidden behavior on the sphinx rendered scikit-learn.org. See: https://github.com/scikit-learn/scikit-learn/issues/21755 */display: inline-block !important;position: relative;}#sk-container-id-4 div.sk-text-repr-fallback {display: none;}</style><div id=\"sk-container-id-4\" class=\"sk-top-container\"><div class=\"sk-text-repr-fallback\"><pre>AdaBoostClassifier(n_estimators=70)</pre><b>In a Jupyter environment, please rerun this cell to show the HTML representation or trust the notebook. <br />On GitHub, the HTML representation is unable to render, please try loading this page with nbviewer.org.</b></div><div class=\"sk-container\" hidden><div class=\"sk-item\"><div class=\"sk-estimator sk-toggleable\"><input class=\"sk-toggleable__control sk-hidden--visually\" id=\"sk-estimator-id-4\" type=\"checkbox\" checked><label for=\"sk-estimator-id-4\" class=\"sk-toggleable__label sk-toggleable__label-arrow\">AdaBoostClassifier</label><div class=\"sk-toggleable__content\"><pre>AdaBoostClassifier(n_estimators=70)</pre></div></div></div></div></div>"
      ],
      "text/plain": [
       "AdaBoostClassifier(n_estimators=70)"
      ]
     },
     "execution_count": 53,
     "metadata": {},
     "output_type": "execute_result"
    }
   ],
   "source": [
    "# Builing the Adaboost model\n",
    "adab = AdaBoostClassifier(n_estimators=70)\n",
    "adab.fit(x_train,y_train)"
   ]
  },
  {
   "cell_type": "code",
   "execution_count": 54,
   "id": "1a1cec8a-73a4-4fe2-b131-e0c56c80daf3",
   "metadata": {},
   "outputs": [
    {
     "name": "stdout",
     "output_type": "stream",
     "text": [
      "Training Score 0.9988413578054324\n",
      "Testing Score 0.9988470158519603\n"
     ]
    }
   ],
   "source": [
    "# Computing the Training and Testing Score\n",
    "mscore(adab)"
   ]
  },
  {
   "cell_type": "code",
   "execution_count": 55,
   "id": "63848a2b-d335-49f3-bff9-95639f938d15",
   "metadata": {},
   "outputs": [],
   "source": [
    "# Generating the predictions\n",
    "ypred_adab = adab.predict(x_test)"
   ]
  },
  {
   "cell_type": "code",
   "execution_count": 56,
   "id": "7f937a00-bcf3-49fe-afd1-995cc3869f25",
   "metadata": {},
   "outputs": [
    {
     "name": "stdout",
     "output_type": "stream",
     "text": [
      "Confusion Matrix\n",
      " [[1588518      92]\n",
      " [   1742     303]]\n",
      "Accuracy Score 0.9988470158519603\n",
      "AUC Score 0.9804183400693712\n",
      "Classification Report\n",
      "               precision    recall  f1-score   support\n",
      "\n",
      "           0       1.00      1.00      1.00   1588610\n",
      "           1       0.77      0.15      0.25      2045\n",
      "\n",
      "    accuracy                           1.00   1590655\n",
      "   macro avg       0.88      0.57      0.62   1590655\n",
      "weighted avg       1.00      1.00      1.00   1590655\n",
      "\n"
     ]
    }
   ],
   "source": [
    "# Evaluate the model - confusion matrix, classification Report, AUC Score, Accuaracy\n",
    "eval_model(adab,'AdaBoost',x_test,y_test,ypred_adab)"
   ]
  },
  {
   "cell_type": "code",
   "execution_count": 57,
   "id": "15d204ea-2649-42a3-991a-28b8490effee",
   "metadata": {},
   "outputs": [
    {
     "name": "stdout",
     "output_type": "stream",
     "text": [
      "Area Under Curve 0.9804183400693712\n"
     ]
    },
    {
     "data": {
      "image/png": "[encoded data removed]",
      "text/plain": [
       "<Figure size 640x480 with 1 Axes>"
      ]
     },
     "metadata": {},
     "output_type": "display_data"
    }
   ],
   "source": [
    "# Plotting the ROC_AUC Curve\n",
    "plot_roc_auc(adab,y_test)"
   ]
  },
  {
   "cell_type": "markdown",
   "id": "f8281660-fe14-4973-ae04-7f0070abef20",
   "metadata": {},
   "source": [
    "#### Comparing different Classification Models"
   ]
  },
  {
   "cell_type": "code",
   "execution_count": 58,
   "id": "ae234922-1766-4a0b-9113-58f43508fafe",
   "metadata": {},
   "outputs": [
    {
     "name": "stdout",
     "output_type": "stream",
     "text": [
      "{'Model': ['Log_Reg', 'DT', 'Random Forest', 'AdaBoost'], 'TP': [1588610, 1588404, 1588598, 1588518], 'FN': [0, 206, 12, 92], 'FP': [2045, 995, 1266, 1742], 'TN': [0, 1050, 779, 303], 'Acc': [0.9987143660944705, 0.9992449651244298, 0.9991965573930236, 0.9988470158519603], 'AUC': [0.42949579870603616, 0.9926724810201054, 0.9914682861025237, 0.9804183400693712]}\n"
     ]
    }
   ],
   "source": [
    "print(d)"
   ]
  },
  {
   "cell_type": "code",
   "execution_count": 59,
   "id": "3734efe6-125b-4d54-b81c-d1b334e958b5",
   "metadata": {},
   "outputs": [
    {
     "data": {
      "text/html": [
       "<div><div id=3be0cb66-3410-4fa5-93ac-8f509da1d75f style=\"display:none; background-color:#9D6CFF; color:white; width:200px; height:30px; padding-left:5px; border-radius:4px; flex-direction:row; justify-content:space-around; align-items:center;\" onmouseover=\"this.style.backgroundColor='#BA9BF8'\" onmouseout=\"this.style.backgroundColor='#9D6CFF'\" onclick=\"window.commands?.execute('create-mitosheet-from-dataframe-output');\">See Full Dataframe in Mito</div> <script> if (window.commands?.hasCommand('create-mitosheet-from-dataframe-output')) document.getElementById('3be0cb66-3410-4fa5-93ac-8f509da1d75f').style.display = 'flex' </script> <table border=\"1\" class=\"dataframe\">\n",
       "  <thead>\n",
       "    <tr style=\"text-align: right;\">\n",
       "      <th></th>\n",
       "      <th>Model</th>\n",
       "      <th>TP</th>\n",
       "      <th>FN</th>\n",
       "      <th>FP</th>\n",
       "      <th>TN</th>\n",
       "      <th>Acc</th>\n",
       "      <th>AUC</th>\n",
       "    </tr>\n",
       "  </thead>\n",
       "  <tbody>\n",
       "    <tr>\n",
       "      <th>0</th>\n",
       "      <td>Log_Reg</td>\n",
       "      <td>1588610</td>\n",
       "      <td>0</td>\n",
       "      <td>2045</td>\n",
       "      <td>0</td>\n",
       "      <td>0.998714</td>\n",
       "      <td>0.429496</td>\n",
       "    </tr>\n",
       "    <tr>\n",
       "      <th>1</th>\n",
       "      <td>DT</td>\n",
       "      <td>1588404</td>\n",
       "      <td>206</td>\n",
       "      <td>995</td>\n",
       "      <td>1050</td>\n",
       "      <td>0.999245</td>\n",
       "      <td>0.992672</td>\n",
       "    </tr>\n",
       "    <tr>\n",
       "      <th>2</th>\n",
       "      <td>Random Forest</td>\n",
       "      <td>1588598</td>\n",
       "      <td>12</td>\n",
       "      <td>1266</td>\n",
       "      <td>779</td>\n",
       "      <td>0.999197</td>\n",
       "      <td>0.991468</td>\n",
       "    </tr>\n",
       "    <tr>\n",
       "      <th>3</th>\n",
       "      <td>AdaBoost</td>\n",
       "      <td>1588518</td>\n",
       "      <td>92</td>\n",
       "      <td>1742</td>\n",
       "      <td>303</td>\n",
       "      <td>0.998847</td>\n",
       "      <td>0.980418</td>\n",
       "    </tr>\n",
       "  </tbody>\n",
       "</table></div>"
      ],
      "text/plain": [
       "           Model       TP   FN    FP    TN       Acc       AUC\n",
       "0        Log_Reg  1588610    0  2045     0  0.998714  0.429496\n",
       "1             DT  1588404  206   995  1050  0.999245  0.992672\n",
       "2  Random Forest  1588598   12  1266   779  0.999197  0.991468\n",
       "3       AdaBoost  1588518   92  1742   303  0.998847  0.980418"
      ]
     },
     "execution_count": 59,
     "metadata": {},
     "output_type": "execute_result"
    }
   ],
   "source": [
    "model_performance = pd.DataFrame(d)\n",
    "model_performance"
   ]
  },
  {
   "cell_type": "markdown",
   "id": "012c99b1-274b-49dc-a6cf-c8366c1b621a",
   "metadata": {},
   "source": [
    "#### Generating Predictions on Test data using Random Forest"
   ]
  },
  {
   "cell_type": "code",
   "execution_count": 60,
   "id": "746fd032-fa2d-44b8-a9b2-d6eafdca6179",
   "metadata": {},
   "outputs": [
    {
     "name": "stdout",
     "output_type": "stream",
     "text": [
      "(4771965, 8)\n",
      "(1590655, 8)\n",
      "(6362620, 8)\n",
      "(6362620,)\n"
     ]
    }
   ],
   "source": [
    "print(x_train.shape)\n",
    "print(x_test.shape)\n",
    "print(x.shape)\n",
    "print(y.shape)"
   ]
  },
  {
   "cell_type": "markdown",
   "id": "205d2678-4e03-4579-b697-a990d505e7b8",
   "metadata": {},
   "source": [
    "#### Final model (Random Forest Classifier) based on Evaluation from model_performance dataframe"
   ]
  },
  {
   "cell_type": "code",
   "execution_count": 61,
   "id": "51f6154c-a9da-49ae-82ba-ea9f2fa6cdaf",
   "metadata": {},
   "outputs": [
    {
     "data": {
      "text/html": [
       "<style>#sk-container-id-5 {color: black;background-color: white;}#sk-container-id-5 pre{padding: 0;}#sk-container-id-5 div.sk-toggleable {background-color: white;}#sk-container-id-5 label.sk-toggleable__label {cursor: pointer;display: block;width: 100%;margin-bottom: 0;padding: 0.3em;box-sizing: border-box;text-align: center;}#sk-container-id-5 label.sk-toggleable__label-arrow:before {content: \"▸\";float: left;margin-right: 0.25em;color: #696969;}#sk-container-id-5 label.sk-toggleable__label-arrow:hover:before {color: black;}#sk-container-id-5 div.sk-estimator:hover label.sk-toggleable__label-arrow:before {color: black;}#sk-container-id-5 div.sk-toggleable__content {max-height: 0;max-width: 0;overflow: hidden;text-align: left;background-color: #f0f8ff;}#sk-container-id-5 div.sk-toggleable__content pre {margin: 0.2em;color: black;border-radius: 0.25em;background-color: #f0f8ff;}#sk-container-id-5 input.sk-toggleable__control:checked~div.sk-toggleable__content {max-height: 200px;max-width: 100%;overflow: auto;}#sk-container-id-5 input.sk-toggleable__control:checked~label.sk-toggleable__label-arrow:before {content: \"▾\";}#sk-container-id-5 div.sk-estimator input.sk-toggleable__control:checked~label.sk-toggleable__label {background-color: #d4ebff;}#sk-container-id-5 div.sk-label input.sk-toggleable__control:checked~label.sk-toggleable__label {background-color: #d4ebff;}#sk-container-id-5 input.sk-hidden--visually {border: 0;clip: rect(1px 1px 1px 1px);clip: rect(1px, 1px, 1px, 1px);height: 1px;margin: -1px;overflow: hidden;padding: 0;position: absolute;width: 1px;}#sk-container-id-5 div.sk-estimator {font-family: monospace;background-color: #f0f8ff;border: 1px dotted black;border-radius: 0.25em;box-sizing: border-box;margin-bottom: 0.5em;}#sk-container-id-5 div.sk-estimator:hover {background-color: #d4ebff;}#sk-container-id-5 div.sk-parallel-item::after {content: \"\";width: 100%;border-bottom: 1px solid gray;flex-grow: 1;}#sk-container-id-5 div.sk-label:hover label.sk-toggleable__label {background-color: #d4ebff;}#sk-container-id-5 div.sk-serial::before {content: \"\";position: absolute;border-left: 1px solid gray;box-sizing: border-box;top: 0;bottom: 0;left: 50%;z-index: 0;}#sk-container-id-5 div.sk-serial {display: flex;flex-direction: column;align-items: center;background-color: white;padding-right: 0.2em;padding-left: 0.2em;position: relative;}#sk-container-id-5 div.sk-item {position: relative;z-index: 1;}#sk-container-id-5 div.sk-parallel {display: flex;align-items: stretch;justify-content: center;background-color: white;position: relative;}#sk-container-id-5 div.sk-item::before, #sk-container-id-5 div.sk-parallel-item::before {content: \"\";position: absolute;border-left: 1px solid gray;box-sizing: border-box;top: 0;bottom: 0;left: 50%;z-index: -1;}#sk-container-id-5 div.sk-parallel-item {display: flex;flex-direction: column;z-index: 1;position: relative;background-color: white;}#sk-container-id-5 div.sk-parallel-item:first-child::after {align-self: flex-end;width: 50%;}#sk-container-id-5 div.sk-parallel-item:last-child::after {align-self: flex-start;width: 50%;}#sk-container-id-5 div.sk-parallel-item:only-child::after {width: 0;}#sk-container-id-5 div.sk-dashed-wrapped {border: 1px dashed gray;margin: 0 0.4em 0.5em 0.4em;box-sizing: border-box;padding-bottom: 0.4em;background-color: white;}#sk-container-id-5 div.sk-label label {font-family: monospace;font-weight: bold;display: inline-block;line-height: 1.2em;}#sk-container-id-5 div.sk-label-container {text-align: center;}#sk-container-id-5 div.sk-container {/* jupyter's `normalize.less` sets `[hidden] { display: none; }` but bootstrap.min.css set `[hidden] { display: none !important; }` so we also need the `!important` here to be able to override the default hidden behavior on the sphinx rendered scikit-learn.org. See: https://github.com/scikit-learn/scikit-learn/issues/21755 */display: inline-block !important;position: relative;}#sk-container-id-5 div.sk-text-repr-fallback {display: none;}</style><div id=\"sk-container-id-5\" class=\"sk-top-container\"><div class=\"sk-text-repr-fallback\"><pre>RandomForestClassifier(n_estimators=70)</pre><b>In a Jupyter environment, please rerun this cell to show the HTML representation or trust the notebook. <br />On GitHub, the HTML representation is unable to render, please try loading this page with nbviewer.org.</b></div><div class=\"sk-container\" hidden><div class=\"sk-item\"><div class=\"sk-estimator sk-toggleable\"><input class=\"sk-toggleable__control sk-hidden--visually\" id=\"sk-estimator-id-5\" type=\"checkbox\" checked><label for=\"sk-estimator-id-5\" class=\"sk-toggleable__label sk-toggleable__label-arrow\">RandomForestClassifier</label><div class=\"sk-toggleable__content\"><pre>RandomForestClassifier(n_estimators=70)</pre></div></div></div></div></div>"
      ],
      "text/plain": [
       "RandomForestClassifier(n_estimators=70)"
      ]
     },
     "execution_count": 61,
     "metadata": {},
     "output_type": "execute_result"
    }
   ],
   "source": [
    "model = RandomForestClassifier(n_estimators=70)\n",
    "model.fit(x,y)  # x and y is from train_df"
   ]
  },
  {
   "cell_type": "code",
   "execution_count": 78,
   "id": "d4d254aa-b008-44af-a4b7-786ca7d08040",
   "metadata": {},
   "outputs": [
    {
     "data": {
      "text/plain": [
       "(6362620, 10)"
      ]
     },
     "execution_count": 78,
     "metadata": {},
     "output_type": "execute_result"
    }
   ],
   "source": [
    "test_df.shape"
   ]
  },
  {
   "cell_type": "markdown",
   "id": "6e63261f-1fe8-4579-958d-5aecfbc95cb2",
   "metadata": {},
   "source": [
    "#### Generating Predictions on the test_df"
   ]
  },
  {
   "cell_type": "code",
   "execution_count": 82,
   "id": "fbeecf88-2996-46b4-97fd-6f3e6f2db034",
   "metadata": {},
   "outputs": [],
   "source": [
    "ypred = model.predict(test_df)"
   ]
  },
  {
   "cell_type": "code",
   "execution_count": 88,
   "id": "0bab7adc-8a6b-4235-b8e8-2b3b47bff0ab",
   "metadata": {},
   "outputs": [
    {
     "data": {
      "text/plain": [
       "array([0, 0, 1, ..., 1, 1, 1], dtype=int64)"
      ]
     },
     "execution_count": 88,
     "metadata": {},
     "output_type": "execute_result"
    }
   ],
   "source": [
    "ypred"
   ]
  },
  {
   "cell_type": "markdown",
   "id": "56cf56e4-92f3-422d-81da-092d8411773f",
   "metadata": {},
   "source": [
    "# BINNARY CLASSIFICATION with pycaret\n"
   ]
  },
  {
   "cell_type": "code",
   "execution_count": 18,
   "id": "e1956a20-6cdb-4004-889d-013c69fa4f4d",
   "metadata": {},
   "outputs": [],
   "source": [
    "from pycaret.datasets import get_data"
   ]
  },
  {
   "cell_type": "markdown",
   "id": "33292e65-22b7-487c-ad46-13e5b40ed2de",
   "metadata": {},
   "source": [
    "# spilting data for train"
   ]
  },
  {
   "cell_type": "code",
   "execution_count": 19,
   "id": "25936293-984e-441f-8a9b-eebdac33e70d",
   "metadata": {},
   "outputs": [],
   "source": [
    "data_train = df.sample(frac= 0.9, random_state=786)"
   ]
  },
  {
   "cell_type": "code",
   "execution_count": null,
   "id": "27f8fe13-a3cd-41de-af47-f5cd81253cd4",
   "metadata": {},
   "outputs": [],
   "source": [
    "data_train"
   ]
  },
  {
   "cell_type": "code",
   "execution_count": 20,
   "id": "dff3f276-6095-4c71-8f87-de5065ff1368",
   "metadata": {},
   "outputs": [
    {
     "data": {
      "text/plain": [
       "(5726358, 9)"
      ]
     },
     "execution_count": 20,
     "metadata": {},
     "output_type": "execute_result"
    }
   ],
   "source": [
    "\n",
    "data_train.shape"
   ]
  },
  {
   "cell_type": "markdown",
   "id": "9a7a5ec4-878c-432b-b661-acd10b99c2cd",
   "metadata": {},
   "source": [
    "# spilting data for test"
   ]
  },
  {
   "cell_type": "code",
   "execution_count": 21,
   "id": "fa3d8aa4-031e-49ac-869f-99181f73fe5a",
   "metadata": {},
   "outputs": [],
   "source": [
    "data_test = df.drop(data_train. index)"
   ]
  },
  {
   "cell_type": "code",
   "execution_count": 22,
   "id": "157278d2-47ed-482c-bdc9-ad9ce44a4550",
   "metadata": {},
   "outputs": [
    {
     "data": {
      "text/plain": [
       "(636262, 9)"
      ]
     },
     "execution_count": 22,
     "metadata": {},
     "output_type": "execute_result"
    }
   ],
   "source": [
    "data_test.shape"
   ]
  },
  {
   "cell_type": "markdown",
   "id": "765320e8-99a0-4566-8f17-e46b93666305",
   "metadata": {},
   "source": [
    " # arranging dataset accordingly for data_train"
   ]
  },
  {
   "cell_type": "code",
   "execution_count": 23,
   "id": "62293b5f-ff60-4420-9597-488de8fee61d",
   "metadata": {},
   "outputs": [],
   "source": [
    "data_train.reset_index(inplace=True,drop=True)"
   ]
  },
  {
   "cell_type": "markdown",
   "id": "90533c5e-ff18-432a-b47e-c56f95a51400",
   "metadata": {},
   "source": [
    "# arranging dataset accordingly for data_test"
   ]
  },
  {
   "cell_type": "code",
   "execution_count": 24,
   "id": "28b7c6e7-0251-4776-845f-abb320338864",
   "metadata": {},
   "outputs": [],
   "source": [
    "data_test.reset_index(inplace=True,drop=True)"
   ]
  },
  {
   "cell_type": "markdown",
   "id": "6ad7fe85-7926-4981-be90-93865be8d1ca",
   "metadata": {},
   "source": [
    "# implemenation of classification"
   ]
  },
  {
   "cell_type": "code",
   "execution_count": 25,
   "id": "afb6459f-49b8-461a-b080-7aa2c0c9a415",
   "metadata": {},
   "outputs": [],
   "source": [
    "from pycaret.classification import *"
   ]
  },
  {
   "cell_type": "code",
   "execution_count": 26,
   "id": "e3903d51-8e61-4776-a839-4a8cf42936a1",
   "metadata": {},
   "outputs": [
    {
     "data": {
      "text/html": [
       "<style type=\"text/css\">\n",
       "#T_00806_row44_col1 {\n",
       "  background-color: lightgreen;\n",
       "}\n",
       "</style>\n",
       "<table id=\"T_00806\">\n",
       "  <thead>\n",
       "    <tr>\n",
       "      <th class=\"blank level0\" >&nbsp;</th>\n",
       "      <th id=\"T_00806_level0_col0\" class=\"col_heading level0 col0\" >Description</th>\n",
       "      <th id=\"T_00806_level0_col1\" class=\"col_heading level0 col1\" >Value</th>\n",
       "    </tr>\n",
       "  </thead>\n",
       "  <tbody>\n",
       "    <tr>\n",
       "      <th id=\"T_00806_level0_row0\" class=\"row_heading level0 row0\" >0</th>\n",
       "      <td id=\"T_00806_row0_col0\" class=\"data row0 col0\" >session_id</td>\n",
       "      <td id=\"T_00806_row0_col1\" class=\"data row0 col1\" >123</td>\n",
       "    </tr>\n",
       "    <tr>\n",
       "      <th id=\"T_00806_level0_row1\" class=\"row_heading level0 row1\" >1</th>\n",
       "      <td id=\"T_00806_row1_col0\" class=\"data row1 col0\" >Target</td>\n",
       "      <td id=\"T_00806_row1_col1\" class=\"data row1 col1\" >isFraud</td>\n",
       "    </tr>\n",
       "    <tr>\n",
       "      <th id=\"T_00806_level0_row2\" class=\"row_heading level0 row2\" >2</th>\n",
       "      <td id=\"T_00806_row2_col0\" class=\"data row2 col0\" >Target Type</td>\n",
       "      <td id=\"T_00806_row2_col1\" class=\"data row2 col1\" >Binary</td>\n",
       "    </tr>\n",
       "    <tr>\n",
       "      <th id=\"T_00806_level0_row3\" class=\"row_heading level0 row3\" >3</th>\n",
       "      <td id=\"T_00806_row3_col0\" class=\"data row3 col0\" >Label Encoded</td>\n",
       "      <td id=\"T_00806_row3_col1\" class=\"data row3 col1\" >None</td>\n",
       "    </tr>\n",
       "    <tr>\n",
       "      <th id=\"T_00806_level0_row4\" class=\"row_heading level0 row4\" >4</th>\n",
       "      <td id=\"T_00806_row4_col0\" class=\"data row4 col0\" >Original Data</td>\n",
       "      <td id=\"T_00806_row4_col1\" class=\"data row4 col1\" >(5726358, 9)</td>\n",
       "    </tr>\n",
       "    <tr>\n",
       "      <th id=\"T_00806_level0_row5\" class=\"row_heading level0 row5\" >5</th>\n",
       "      <td id=\"T_00806_row5_col0\" class=\"data row5 col0\" >Missing Values</td>\n",
       "      <td id=\"T_00806_row5_col1\" class=\"data row5 col1\" >False</td>\n",
       "    </tr>\n",
       "    <tr>\n",
       "      <th id=\"T_00806_level0_row6\" class=\"row_heading level0 row6\" >6</th>\n",
       "      <td id=\"T_00806_row6_col0\" class=\"data row6 col0\" >Numeric Features</td>\n",
       "      <td id=\"T_00806_row6_col1\" class=\"data row6 col1\" >7</td>\n",
       "    </tr>\n",
       "    <tr>\n",
       "      <th id=\"T_00806_level0_row7\" class=\"row_heading level0 row7\" >7</th>\n",
       "      <td id=\"T_00806_row7_col0\" class=\"data row7 col0\" >Categorical Features</td>\n",
       "      <td id=\"T_00806_row7_col1\" class=\"data row7 col1\" >1</td>\n",
       "    </tr>\n",
       "    <tr>\n",
       "      <th id=\"T_00806_level0_row8\" class=\"row_heading level0 row8\" >8</th>\n",
       "      <td id=\"T_00806_row8_col0\" class=\"data row8 col0\" >Ordinal Features</td>\n",
       "      <td id=\"T_00806_row8_col1\" class=\"data row8 col1\" >False</td>\n",
       "    </tr>\n",
       "    <tr>\n",
       "      <th id=\"T_00806_level0_row9\" class=\"row_heading level0 row9\" >9</th>\n",
       "      <td id=\"T_00806_row9_col0\" class=\"data row9 col0\" >High Cardinality Features</td>\n",
       "      <td id=\"T_00806_row9_col1\" class=\"data row9 col1\" >False</td>\n",
       "    </tr>\n",
       "    <tr>\n",
       "      <th id=\"T_00806_level0_row10\" class=\"row_heading level0 row10\" >10</th>\n",
       "      <td id=\"T_00806_row10_col0\" class=\"data row10 col0\" >High Cardinality Method</td>\n",
       "      <td id=\"T_00806_row10_col1\" class=\"data row10 col1\" >None</td>\n",
       "    </tr>\n",
       "    <tr>\n",
       "      <th id=\"T_00806_level0_row11\" class=\"row_heading level0 row11\" >11</th>\n",
       "      <td id=\"T_00806_row11_col0\" class=\"data row11 col0\" >Transformed Train Set</td>\n",
       "      <td id=\"T_00806_row11_col1\" class=\"data row11 col1\" >(4008450, 8)</td>\n",
       "    </tr>\n",
       "    <tr>\n",
       "      <th id=\"T_00806_level0_row12\" class=\"row_heading level0 row12\" >12</th>\n",
       "      <td id=\"T_00806_row12_col0\" class=\"data row12 col0\" >Transformed Test Set</td>\n",
       "      <td id=\"T_00806_row12_col1\" class=\"data row12 col1\" >(1717908, 8)</td>\n",
       "    </tr>\n",
       "    <tr>\n",
       "      <th id=\"T_00806_level0_row13\" class=\"row_heading level0 row13\" >13</th>\n",
       "      <td id=\"T_00806_row13_col0\" class=\"data row13 col0\" >Shuffle Train-Test</td>\n",
       "      <td id=\"T_00806_row13_col1\" class=\"data row13 col1\" >True</td>\n",
       "    </tr>\n",
       "    <tr>\n",
       "      <th id=\"T_00806_level0_row14\" class=\"row_heading level0 row14\" >14</th>\n",
       "      <td id=\"T_00806_row14_col0\" class=\"data row14 col0\" >Stratify Train-Test</td>\n",
       "      <td id=\"T_00806_row14_col1\" class=\"data row14 col1\" >False</td>\n",
       "    </tr>\n",
       "    <tr>\n",
       "      <th id=\"T_00806_level0_row15\" class=\"row_heading level0 row15\" >15</th>\n",
       "      <td id=\"T_00806_row15_col0\" class=\"data row15 col0\" >Fold Generator</td>\n",
       "      <td id=\"T_00806_row15_col1\" class=\"data row15 col1\" >StratifiedKFold</td>\n",
       "    </tr>\n",
       "    <tr>\n",
       "      <th id=\"T_00806_level0_row16\" class=\"row_heading level0 row16\" >16</th>\n",
       "      <td id=\"T_00806_row16_col0\" class=\"data row16 col0\" >Fold Number</td>\n",
       "      <td id=\"T_00806_row16_col1\" class=\"data row16 col1\" >10</td>\n",
       "    </tr>\n",
       "    <tr>\n",
       "      <th id=\"T_00806_level0_row17\" class=\"row_heading level0 row17\" >17</th>\n",
       "      <td id=\"T_00806_row17_col0\" class=\"data row17 col0\" >CPU Jobs</td>\n",
       "      <td id=\"T_00806_row17_col1\" class=\"data row17 col1\" >-1</td>\n",
       "    </tr>\n",
       "    <tr>\n",
       "      <th id=\"T_00806_level0_row18\" class=\"row_heading level0 row18\" >18</th>\n",
       "      <td id=\"T_00806_row18_col0\" class=\"data row18 col0\" >Use GPU</td>\n",
       "      <td id=\"T_00806_row18_col1\" class=\"data row18 col1\" >False</td>\n",
       "    </tr>\n",
       "    <tr>\n",
       "      <th id=\"T_00806_level0_row19\" class=\"row_heading level0 row19\" >19</th>\n",
       "      <td id=\"T_00806_row19_col0\" class=\"data row19 col0\" >Log Experiment</td>\n",
       "      <td id=\"T_00806_row19_col1\" class=\"data row19 col1\" >False</td>\n",
       "    </tr>\n",
       "    <tr>\n",
       "      <th id=\"T_00806_level0_row20\" class=\"row_heading level0 row20\" >20</th>\n",
       "      <td id=\"T_00806_row20_col0\" class=\"data row20 col0\" >Experiment Name</td>\n",
       "      <td id=\"T_00806_row20_col1\" class=\"data row20 col1\" >clf-default-name</td>\n",
       "    </tr>\n",
       "    <tr>\n",
       "      <th id=\"T_00806_level0_row21\" class=\"row_heading level0 row21\" >21</th>\n",
       "      <td id=\"T_00806_row21_col0\" class=\"data row21 col0\" >USI</td>\n",
       "      <td id=\"T_00806_row21_col1\" class=\"data row21 col1\" >3eb2</td>\n",
       "    </tr>\n",
       "    <tr>\n",
       "      <th id=\"T_00806_level0_row22\" class=\"row_heading level0 row22\" >22</th>\n",
       "      <td id=\"T_00806_row22_col0\" class=\"data row22 col0\" >Imputation Type</td>\n",
       "      <td id=\"T_00806_row22_col1\" class=\"data row22 col1\" >simple</td>\n",
       "    </tr>\n",
       "    <tr>\n",
       "      <th id=\"T_00806_level0_row23\" class=\"row_heading level0 row23\" >23</th>\n",
       "      <td id=\"T_00806_row23_col0\" class=\"data row23 col0\" >Iterative Imputation Iteration</td>\n",
       "      <td id=\"T_00806_row23_col1\" class=\"data row23 col1\" >None</td>\n",
       "    </tr>\n",
       "    <tr>\n",
       "      <th id=\"T_00806_level0_row24\" class=\"row_heading level0 row24\" >24</th>\n",
       "      <td id=\"T_00806_row24_col0\" class=\"data row24 col0\" >Numeric Imputer</td>\n",
       "      <td id=\"T_00806_row24_col1\" class=\"data row24 col1\" >mean</td>\n",
       "    </tr>\n",
       "    <tr>\n",
       "      <th id=\"T_00806_level0_row25\" class=\"row_heading level0 row25\" >25</th>\n",
       "      <td id=\"T_00806_row25_col0\" class=\"data row25 col0\" >Iterative Imputation Numeric Model</td>\n",
       "      <td id=\"T_00806_row25_col1\" class=\"data row25 col1\" >None</td>\n",
       "    </tr>\n",
       "    <tr>\n",
       "      <th id=\"T_00806_level0_row26\" class=\"row_heading level0 row26\" >26</th>\n",
       "      <td id=\"T_00806_row26_col0\" class=\"data row26 col0\" >Categorical Imputer</td>\n",
       "      <td id=\"T_00806_row26_col1\" class=\"data row26 col1\" >constant</td>\n",
       "    </tr>\n",
       "    <tr>\n",
       "      <th id=\"T_00806_level0_row27\" class=\"row_heading level0 row27\" >27</th>\n",
       "      <td id=\"T_00806_row27_col0\" class=\"data row27 col0\" >Iterative Imputation Categorical Model</td>\n",
       "      <td id=\"T_00806_row27_col1\" class=\"data row27 col1\" >None</td>\n",
       "    </tr>\n",
       "    <tr>\n",
       "      <th id=\"T_00806_level0_row28\" class=\"row_heading level0 row28\" >28</th>\n",
       "      <td id=\"T_00806_row28_col0\" class=\"data row28 col0\" >Unknown Categoricals Handling</td>\n",
       "      <td id=\"T_00806_row28_col1\" class=\"data row28 col1\" >least_frequent</td>\n",
       "    </tr>\n",
       "    <tr>\n",
       "      <th id=\"T_00806_level0_row29\" class=\"row_heading level0 row29\" >29</th>\n",
       "      <td id=\"T_00806_row29_col0\" class=\"data row29 col0\" >Normalize</td>\n",
       "      <td id=\"T_00806_row29_col1\" class=\"data row29 col1\" >False</td>\n",
       "    </tr>\n",
       "    <tr>\n",
       "      <th id=\"T_00806_level0_row30\" class=\"row_heading level0 row30\" >30</th>\n",
       "      <td id=\"T_00806_row30_col0\" class=\"data row30 col0\" >Normalize Method</td>\n",
       "      <td id=\"T_00806_row30_col1\" class=\"data row30 col1\" >None</td>\n",
       "    </tr>\n",
       "    <tr>\n",
       "      <th id=\"T_00806_level0_row31\" class=\"row_heading level0 row31\" >31</th>\n",
       "      <td id=\"T_00806_row31_col0\" class=\"data row31 col0\" >Transformation</td>\n",
       "      <td id=\"T_00806_row31_col1\" class=\"data row31 col1\" >False</td>\n",
       "    </tr>\n",
       "    <tr>\n",
       "      <th id=\"T_00806_level0_row32\" class=\"row_heading level0 row32\" >32</th>\n",
       "      <td id=\"T_00806_row32_col0\" class=\"data row32 col0\" >Transformation Method</td>\n",
       "      <td id=\"T_00806_row32_col1\" class=\"data row32 col1\" >None</td>\n",
       "    </tr>\n",
       "    <tr>\n",
       "      <th id=\"T_00806_level0_row33\" class=\"row_heading level0 row33\" >33</th>\n",
       "      <td id=\"T_00806_row33_col0\" class=\"data row33 col0\" >PCA</td>\n",
       "      <td id=\"T_00806_row33_col1\" class=\"data row33 col1\" >False</td>\n",
       "    </tr>\n",
       "    <tr>\n",
       "      <th id=\"T_00806_level0_row34\" class=\"row_heading level0 row34\" >34</th>\n",
       "      <td id=\"T_00806_row34_col0\" class=\"data row34 col0\" >PCA Method</td>\n",
       "      <td id=\"T_00806_row34_col1\" class=\"data row34 col1\" >None</td>\n",
       "    </tr>\n",
       "    <tr>\n",
       "      <th id=\"T_00806_level0_row35\" class=\"row_heading level0 row35\" >35</th>\n",
       "      <td id=\"T_00806_row35_col0\" class=\"data row35 col0\" >PCA Components</td>\n",
       "      <td id=\"T_00806_row35_col1\" class=\"data row35 col1\" >None</td>\n",
       "    </tr>\n",
       "    <tr>\n",
       "      <th id=\"T_00806_level0_row36\" class=\"row_heading level0 row36\" >36</th>\n",
       "      <td id=\"T_00806_row36_col0\" class=\"data row36 col0\" >Ignore Low Variance</td>\n",
       "      <td id=\"T_00806_row36_col1\" class=\"data row36 col1\" >False</td>\n",
       "    </tr>\n",
       "    <tr>\n",
       "      <th id=\"T_00806_level0_row37\" class=\"row_heading level0 row37\" >37</th>\n",
       "      <td id=\"T_00806_row37_col0\" class=\"data row37 col0\" >Combine Rare Levels</td>\n",
       "      <td id=\"T_00806_row37_col1\" class=\"data row37 col1\" >False</td>\n",
       "    </tr>\n",
       "    <tr>\n",
       "      <th id=\"T_00806_level0_row38\" class=\"row_heading level0 row38\" >38</th>\n",
       "      <td id=\"T_00806_row38_col0\" class=\"data row38 col0\" >Rare Level Threshold</td>\n",
       "      <td id=\"T_00806_row38_col1\" class=\"data row38 col1\" >None</td>\n",
       "    </tr>\n",
       "    <tr>\n",
       "      <th id=\"T_00806_level0_row39\" class=\"row_heading level0 row39\" >39</th>\n",
       "      <td id=\"T_00806_row39_col0\" class=\"data row39 col0\" >Numeric Binning</td>\n",
       "      <td id=\"T_00806_row39_col1\" class=\"data row39 col1\" >False</td>\n",
       "    </tr>\n",
       "    <tr>\n",
       "      <th id=\"T_00806_level0_row40\" class=\"row_heading level0 row40\" >40</th>\n",
       "      <td id=\"T_00806_row40_col0\" class=\"data row40 col0\" >Remove Outliers</td>\n",
       "      <td id=\"T_00806_row40_col1\" class=\"data row40 col1\" >False</td>\n",
       "    </tr>\n",
       "    <tr>\n",
       "      <th id=\"T_00806_level0_row41\" class=\"row_heading level0 row41\" >41</th>\n",
       "      <td id=\"T_00806_row41_col0\" class=\"data row41 col0\" >Outliers Threshold</td>\n",
       "      <td id=\"T_00806_row41_col1\" class=\"data row41 col1\" >None</td>\n",
       "    </tr>\n",
       "    <tr>\n",
       "      <th id=\"T_00806_level0_row42\" class=\"row_heading level0 row42\" >42</th>\n",
       "      <td id=\"T_00806_row42_col0\" class=\"data row42 col0\" >Remove Multicollinearity</td>\n",
       "      <td id=\"T_00806_row42_col1\" class=\"data row42 col1\" >False</td>\n",
       "    </tr>\n",
       "    <tr>\n",
       "      <th id=\"T_00806_level0_row43\" class=\"row_heading level0 row43\" >43</th>\n",
       "      <td id=\"T_00806_row43_col0\" class=\"data row43 col0\" >Multicollinearity Threshold</td>\n",
       "      <td id=\"T_00806_row43_col1\" class=\"data row43 col1\" >None</td>\n",
       "    </tr>\n",
       "    <tr>\n",
       "      <th id=\"T_00806_level0_row44\" class=\"row_heading level0 row44\" >44</th>\n",
       "      <td id=\"T_00806_row44_col0\" class=\"data row44 col0\" >Remove Perfect Collinearity</td>\n",
       "      <td id=\"T_00806_row44_col1\" class=\"data row44 col1\" >True</td>\n",
       "    </tr>\n",
       "    <tr>\n",
       "      <th id=\"T_00806_level0_row45\" class=\"row_heading level0 row45\" >45</th>\n",
       "      <td id=\"T_00806_row45_col0\" class=\"data row45 col0\" >Clustering</td>\n",
       "      <td id=\"T_00806_row45_col1\" class=\"data row45 col1\" >False</td>\n",
       "    </tr>\n",
       "    <tr>\n",
       "      <th id=\"T_00806_level0_row46\" class=\"row_heading level0 row46\" >46</th>\n",
       "      <td id=\"T_00806_row46_col0\" class=\"data row46 col0\" >Clustering Iteration</td>\n",
       "      <td id=\"T_00806_row46_col1\" class=\"data row46 col1\" >None</td>\n",
       "    </tr>\n",
       "    <tr>\n",
       "      <th id=\"T_00806_level0_row47\" class=\"row_heading level0 row47\" >47</th>\n",
       "      <td id=\"T_00806_row47_col0\" class=\"data row47 col0\" >Polynomial Features</td>\n",
       "      <td id=\"T_00806_row47_col1\" class=\"data row47 col1\" >False</td>\n",
       "    </tr>\n",
       "    <tr>\n",
       "      <th id=\"T_00806_level0_row48\" class=\"row_heading level0 row48\" >48</th>\n",
       "      <td id=\"T_00806_row48_col0\" class=\"data row48 col0\" >Polynomial Degree</td>\n",
       "      <td id=\"T_00806_row48_col1\" class=\"data row48 col1\" >None</td>\n",
       "    </tr>\n",
       "    <tr>\n",
       "      <th id=\"T_00806_level0_row49\" class=\"row_heading level0 row49\" >49</th>\n",
       "      <td id=\"T_00806_row49_col0\" class=\"data row49 col0\" >Trignometry Features</td>\n",
       "      <td id=\"T_00806_row49_col1\" class=\"data row49 col1\" >False</td>\n",
       "    </tr>\n",
       "    <tr>\n",
       "      <th id=\"T_00806_level0_row50\" class=\"row_heading level0 row50\" >50</th>\n",
       "      <td id=\"T_00806_row50_col0\" class=\"data row50 col0\" >Polynomial Threshold</td>\n",
       "      <td id=\"T_00806_row50_col1\" class=\"data row50 col1\" >None</td>\n",
       "    </tr>\n",
       "    <tr>\n",
       "      <th id=\"T_00806_level0_row51\" class=\"row_heading level0 row51\" >51</th>\n",
       "      <td id=\"T_00806_row51_col0\" class=\"data row51 col0\" >Group Features</td>\n",
       "      <td id=\"T_00806_row51_col1\" class=\"data row51 col1\" >False</td>\n",
       "    </tr>\n",
       "    <tr>\n",
       "      <th id=\"T_00806_level0_row52\" class=\"row_heading level0 row52\" >52</th>\n",
       "      <td id=\"T_00806_row52_col0\" class=\"data row52 col0\" >Feature Selection</td>\n",
       "      <td id=\"T_00806_row52_col1\" class=\"data row52 col1\" >False</td>\n",
       "    </tr>\n",
       "    <tr>\n",
       "      <th id=\"T_00806_level0_row53\" class=\"row_heading level0 row53\" >53</th>\n",
       "      <td id=\"T_00806_row53_col0\" class=\"data row53 col0\" >Feature Selection Method</td>\n",
       "      <td id=\"T_00806_row53_col1\" class=\"data row53 col1\" >classic</td>\n",
       "    </tr>\n",
       "    <tr>\n",
       "      <th id=\"T_00806_level0_row54\" class=\"row_heading level0 row54\" >54</th>\n",
       "      <td id=\"T_00806_row54_col0\" class=\"data row54 col0\" >Features Selection Threshold</td>\n",
       "      <td id=\"T_00806_row54_col1\" class=\"data row54 col1\" >None</td>\n",
       "    </tr>\n",
       "    <tr>\n",
       "      <th id=\"T_00806_level0_row55\" class=\"row_heading level0 row55\" >55</th>\n",
       "      <td id=\"T_00806_row55_col0\" class=\"data row55 col0\" >Feature Interaction</td>\n",
       "      <td id=\"T_00806_row55_col1\" class=\"data row55 col1\" >False</td>\n",
       "    </tr>\n",
       "    <tr>\n",
       "      <th id=\"T_00806_level0_row56\" class=\"row_heading level0 row56\" >56</th>\n",
       "      <td id=\"T_00806_row56_col0\" class=\"data row56 col0\" >Feature Ratio</td>\n",
       "      <td id=\"T_00806_row56_col1\" class=\"data row56 col1\" >False</td>\n",
       "    </tr>\n",
       "    <tr>\n",
       "      <th id=\"T_00806_level0_row57\" class=\"row_heading level0 row57\" >57</th>\n",
       "      <td id=\"T_00806_row57_col0\" class=\"data row57 col0\" >Interaction Threshold</td>\n",
       "      <td id=\"T_00806_row57_col1\" class=\"data row57 col1\" >None</td>\n",
       "    </tr>\n",
       "    <tr>\n",
       "      <th id=\"T_00806_level0_row58\" class=\"row_heading level0 row58\" >58</th>\n",
       "      <td id=\"T_00806_row58_col0\" class=\"data row58 col0\" >Fix Imbalance</td>\n",
       "      <td id=\"T_00806_row58_col1\" class=\"data row58 col1\" >False</td>\n",
       "    </tr>\n",
       "    <tr>\n",
       "      <th id=\"T_00806_level0_row59\" class=\"row_heading level0 row59\" >59</th>\n",
       "      <td id=\"T_00806_row59_col0\" class=\"data row59 col0\" >Fix Imbalance Method</td>\n",
       "      <td id=\"T_00806_row59_col1\" class=\"data row59 col1\" >SMOTE</td>\n",
       "    </tr>\n",
       "  </tbody>\n",
       "</table>\n"
      ],
      "text/plain": [
       "<pandas.io.formats.style.Styler at 0x214ad90a6d0>"
      ]
     },
     "metadata": {},
     "output_type": "display_data"
    }
   ],
   "source": [
    "\n",
    "cc = setup(data= data_train,\n",
    "target = \"isFraud\",\n",
    "session_id=123 )\n"
   ]
  },
  {
   "cell_type": "markdown",
   "id": "3486862a-9489-471e-b00c-e4669d3b2d68",
   "metadata": {},
   "source": [
    "# saving the best model in a variable"
   ]
  },
  {
   "cell_type": "code",
   "execution_count": 27,
   "id": "d4adfb42-f86f-45c1-adfe-381bb8e8b241",
   "metadata": {},
   "outputs": [
    {
     "data": {
      "text/html": [
       "<style type=\"text/css\">\n",
       "#T_e02d6 th {\n",
       "  text-align: left;\n",
       "}\n",
       "#T_e02d6_row0_col0, #T_e02d6_row0_col1, #T_e02d6_row0_col3, #T_e02d6_row0_col5, #T_e02d6_row0_col6, #T_e02d6_row0_col7, #T_e02d6_row1_col0, #T_e02d6_row1_col2, #T_e02d6_row1_col3, #T_e02d6_row1_col4, #T_e02d6_row1_col5, #T_e02d6_row1_col6, #T_e02d6_row1_col7, #T_e02d6_row2_col0, #T_e02d6_row2_col1, #T_e02d6_row2_col2, #T_e02d6_row2_col3, #T_e02d6_row2_col4, #T_e02d6_row2_col5, #T_e02d6_row2_col6, #T_e02d6_row2_col7, #T_e02d6_row3_col0, #T_e02d6_row3_col2, #T_e02d6_row3_col4, #T_e02d6_row4_col0, #T_e02d6_row4_col1, #T_e02d6_row4_col2, #T_e02d6_row4_col3, #T_e02d6_row4_col4, #T_e02d6_row4_col5, #T_e02d6_row4_col6, #T_e02d6_row4_col7, #T_e02d6_row5_col0, #T_e02d6_row5_col1, #T_e02d6_row5_col2, #T_e02d6_row5_col3, #T_e02d6_row5_col4, #T_e02d6_row5_col5, #T_e02d6_row5_col6, #T_e02d6_row5_col7, #T_e02d6_row6_col0, #T_e02d6_row6_col1, #T_e02d6_row6_col2, #T_e02d6_row6_col3, #T_e02d6_row6_col4, #T_e02d6_row6_col5, #T_e02d6_row6_col6, #T_e02d6_row6_col7, #T_e02d6_row7_col0, #T_e02d6_row7_col1, #T_e02d6_row7_col2, #T_e02d6_row7_col3, #T_e02d6_row7_col4, #T_e02d6_row7_col5, #T_e02d6_row7_col6, #T_e02d6_row7_col7, #T_e02d6_row8_col0, #T_e02d6_row8_col1, #T_e02d6_row8_col2, #T_e02d6_row8_col3, #T_e02d6_row8_col4, #T_e02d6_row8_col5, #T_e02d6_row8_col6, #T_e02d6_row8_col7, #T_e02d6_row9_col0, #T_e02d6_row9_col1, #T_e02d6_row9_col2, #T_e02d6_row9_col3, #T_e02d6_row9_col4, #T_e02d6_row9_col5, #T_e02d6_row9_col6, #T_e02d6_row9_col7, #T_e02d6_row10_col0, #T_e02d6_row10_col1, #T_e02d6_row10_col2, #T_e02d6_row10_col3, #T_e02d6_row10_col4, #T_e02d6_row10_col5, #T_e02d6_row10_col6, #T_e02d6_row10_col7, #T_e02d6_row11_col0, #T_e02d6_row11_col1, #T_e02d6_row11_col2, #T_e02d6_row11_col3, #T_e02d6_row11_col4, #T_e02d6_row11_col5, #T_e02d6_row11_col6, #T_e02d6_row11_col7 {\n",
       "  text-align: left;\n",
       "}\n",
       "#T_e02d6_row0_col2, #T_e02d6_row0_col4, #T_e02d6_row1_col1, #T_e02d6_row3_col1, #T_e02d6_row3_col3, #T_e02d6_row3_col5, #T_e02d6_row3_col6, #T_e02d6_row3_col7 {\n",
       "  text-align: left;\n",
       "  background-color: yellow;\n",
       "}\n",
       "#T_e02d6_row0_col8, #T_e02d6_row1_col8, #T_e02d6_row2_col8, #T_e02d6_row3_col8, #T_e02d6_row4_col8, #T_e02d6_row5_col8, #T_e02d6_row6_col8, #T_e02d6_row8_col8, #T_e02d6_row9_col8, #T_e02d6_row10_col8, #T_e02d6_row11_col8 {\n",
       "  text-align: left;\n",
       "  background-color: lightgrey;\n",
       "}\n",
       "#T_e02d6_row7_col8 {\n",
       "  text-align: left;\n",
       "  background-color: yellow;\n",
       "  background-color: lightgrey;\n",
       "}\n",
       "</style>\n",
       "<table id=\"T_e02d6\">\n",
       "  <thead>\n",
       "    <tr>\n",
       "      <th class=\"blank level0\" >&nbsp;</th>\n",
       "      <th id=\"T_e02d6_level0_col0\" class=\"col_heading level0 col0\" >Model</th>\n",
       "      <th id=\"T_e02d6_level0_col1\" class=\"col_heading level0 col1\" >Accuracy</th>\n",
       "      <th id=\"T_e02d6_level0_col2\" class=\"col_heading level0 col2\" >AUC</th>\n",
       "      <th id=\"T_e02d6_level0_col3\" class=\"col_heading level0 col3\" >Recall</th>\n",
       "      <th id=\"T_e02d6_level0_col4\" class=\"col_heading level0 col4\" >Prec.</th>\n",
       "      <th id=\"T_e02d6_level0_col5\" class=\"col_heading level0 col5\" >F1</th>\n",
       "      <th id=\"T_e02d6_level0_col6\" class=\"col_heading level0 col6\" >Kappa</th>\n",
       "      <th id=\"T_e02d6_level0_col7\" class=\"col_heading level0 col7\" >MCC</th>\n",
       "      <th id=\"T_e02d6_level0_col8\" class=\"col_heading level0 col8\" >TT (Sec)</th>\n",
       "    </tr>\n",
       "  </thead>\n",
       "  <tbody>\n",
       "    <tr>\n",
       "      <th id=\"T_e02d6_level0_row0\" class=\"row_heading level0 row0\" >ada</th>\n",
       "      <td id=\"T_e02d6_row0_col0\" class=\"data row0 col0\" >Ada Boost Classifier</td>\n",
       "      <td id=\"T_e02d6_row0_col1\" class=\"data row0 col1\" >0.9988</td>\n",
       "      <td id=\"T_e02d6_row0_col2\" class=\"data row0 col2\" >0.9797</td>\n",
       "      <td id=\"T_e02d6_row0_col3\" class=\"data row0 col3\" >0.1342</td>\n",
       "      <td id=\"T_e02d6_row0_col4\" class=\"data row0 col4\" >0.8325</td>\n",
       "      <td id=\"T_e02d6_row0_col5\" class=\"data row0 col5\" >0.2288</td>\n",
       "      <td id=\"T_e02d6_row0_col6\" class=\"data row0 col6\" >0.2286</td>\n",
       "      <td id=\"T_e02d6_row0_col7\" class=\"data row0 col7\" >0.3306</td>\n",
       "      <td id=\"T_e02d6_row0_col8\" class=\"data row0 col8\" >27.7670</td>\n",
       "    </tr>\n",
       "    <tr>\n",
       "      <th id=\"T_e02d6_level0_row1\" class=\"row_heading level0 row1\" >knn</th>\n",
       "      <td id=\"T_e02d6_row1_col0\" class=\"data row1 col0\" >K Neighbors Classifier</td>\n",
       "      <td id=\"T_e02d6_row1_col1\" class=\"data row1 col1\" >0.9994</td>\n",
       "      <td id=\"T_e02d6_row1_col2\" class=\"data row1 col2\" >0.9109</td>\n",
       "      <td id=\"T_e02d6_row1_col3\" class=\"data row1 col3\" >0.6879</td>\n",
       "      <td id=\"T_e02d6_row1_col4\" class=\"data row1 col4\" >0.7985</td>\n",
       "      <td id=\"T_e02d6_row1_col5\" class=\"data row1 col5\" >0.7389</td>\n",
       "      <td id=\"T_e02d6_row1_col6\" class=\"data row1 col6\" >0.7386</td>\n",
       "      <td id=\"T_e02d6_row1_col7\" class=\"data row1 col7\" >0.7408</td>\n",
       "      <td id=\"T_e02d6_row1_col8\" class=\"data row1 col8\" >439.3250</td>\n",
       "    </tr>\n",
       "    <tr>\n",
       "      <th id=\"T_e02d6_level0_row2\" class=\"row_heading level0 row2\" >lda</th>\n",
       "      <td id=\"T_e02d6_row2_col0\" class=\"data row2 col0\" >Linear Discriminant Analysis</td>\n",
       "      <td id=\"T_e02d6_row2_col1\" class=\"data row2 col1\" >0.9940</td>\n",
       "      <td id=\"T_e02d6_row2_col2\" class=\"data row2 col2\" >0.8917</td>\n",
       "      <td id=\"T_e02d6_row2_col3\" class=\"data row2 col3\" >0.1646</td>\n",
       "      <td id=\"T_e02d6_row2_col4\" class=\"data row2 col4\" >0.0414</td>\n",
       "      <td id=\"T_e02d6_row2_col5\" class=\"data row2 col5\" >0.0662</td>\n",
       "      <td id=\"T_e02d6_row2_col6\" class=\"data row2 col6\" >0.0642</td>\n",
       "      <td id=\"T_e02d6_row2_col7\" class=\"data row2 col7\" >0.0802</td>\n",
       "      <td id=\"T_e02d6_row2_col8\" class=\"data row2 col8\" >1.8190</td>\n",
       "    </tr>\n",
       "    <tr>\n",
       "      <th id=\"T_e02d6_level0_row3\" class=\"row_heading level0 row3\" >dt</th>\n",
       "      <td id=\"T_e02d6_row3_col0\" class=\"data row3 col0\" >Decision Tree Classifier</td>\n",
       "      <td id=\"T_e02d6_row3_col1\" class=\"data row3 col1\" >0.9994</td>\n",
       "      <td id=\"T_e02d6_row3_col2\" class=\"data row3 col2\" >0.8832</td>\n",
       "      <td id=\"T_e02d6_row3_col3\" class=\"data row3 col3\" >0.7667</td>\n",
       "      <td id=\"T_e02d6_row3_col4\" class=\"data row3 col4\" >0.7552</td>\n",
       "      <td id=\"T_e02d6_row3_col5\" class=\"data row3 col5\" >0.7608</td>\n",
       "      <td id=\"T_e02d6_row3_col6\" class=\"data row3 col6\" >0.7605</td>\n",
       "      <td id=\"T_e02d6_row3_col7\" class=\"data row3 col7\" >0.7606</td>\n",
       "      <td id=\"T_e02d6_row3_col8\" class=\"data row3 col8\" >3.1210</td>\n",
       "    </tr>\n",
       "    <tr>\n",
       "      <th id=\"T_e02d6_level0_row4\" class=\"row_heading level0 row4\" >nb</th>\n",
       "      <td id=\"T_e02d6_row4_col0\" class=\"data row4 col0\" >Naive Bayes</td>\n",
       "      <td id=\"T_e02d6_row4_col1\" class=\"data row4 col1\" >0.9900</td>\n",
       "      <td id=\"T_e02d6_row4_col2\" class=\"data row4 col2\" >0.7225</td>\n",
       "      <td id=\"T_e02d6_row4_col3\" class=\"data row4 col3\" >0.1652</td>\n",
       "      <td id=\"T_e02d6_row4_col4\" class=\"data row4 col4\" >0.0235</td>\n",
       "      <td id=\"T_e02d6_row4_col5\" class=\"data row4 col5\" >0.0412</td>\n",
       "      <td id=\"T_e02d6_row4_col6\" class=\"data row4 col6\" >0.0390</td>\n",
       "      <td id=\"T_e02d6_row4_col7\" class=\"data row4 col7\" >0.0592</td>\n",
       "      <td id=\"T_e02d6_row4_col8\" class=\"data row4 col8\" >0.6100</td>\n",
       "    </tr>\n",
       "    <tr>\n",
       "      <th id=\"T_e02d6_level0_row5\" class=\"row_heading level0 row5\" >gbc</th>\n",
       "      <td id=\"T_e02d6_row5_col0\" class=\"data row5 col0\" >Gradient Boosting Classifier</td>\n",
       "      <td id=\"T_e02d6_row5_col1\" class=\"data row5 col1\" >0.9904</td>\n",
       "      <td id=\"T_e02d6_row5_col2\" class=\"data row5 col2\" >0.6631</td>\n",
       "      <td id=\"T_e02d6_row5_col3\" class=\"data row5 col3\" >0.0910</td>\n",
       "      <td id=\"T_e02d6_row5_col4\" class=\"data row5 col4\" >0.3589</td>\n",
       "      <td id=\"T_e02d6_row5_col5\" class=\"data row5 col5\" >0.0533</td>\n",
       "      <td id=\"T_e02d6_row5_col6\" class=\"data row5 col6\" >0.0525</td>\n",
       "      <td id=\"T_e02d6_row5_col7\" class=\"data row5 col7\" >0.0874</td>\n",
       "      <td id=\"T_e02d6_row5_col8\" class=\"data row5 col8\" >111.8080</td>\n",
       "    </tr>\n",
       "    <tr>\n",
       "      <th id=\"T_e02d6_level0_row6\" class=\"row_heading level0 row6\" >lr</th>\n",
       "      <td id=\"T_e02d6_row6_col0\" class=\"data row6 col0\" >Logistic Regression</td>\n",
       "      <td id=\"T_e02d6_row6_col1\" class=\"data row6 col1\" >0.9987</td>\n",
       "      <td id=\"T_e02d6_row6_col2\" class=\"data row6 col2\" >0.6489</td>\n",
       "      <td id=\"T_e02d6_row6_col3\" class=\"data row6 col3\" >0.0046</td>\n",
       "      <td id=\"T_e02d6_row6_col4\" class=\"data row6 col4\" >0.4375</td>\n",
       "      <td id=\"T_e02d6_row6_col5\" class=\"data row6 col5\" >0.0091</td>\n",
       "      <td id=\"T_e02d6_row6_col6\" class=\"data row6 col6\" >0.0091</td>\n",
       "      <td id=\"T_e02d6_row6_col7\" class=\"data row6 col7\" >0.0441</td>\n",
       "      <td id=\"T_e02d6_row6_col8\" class=\"data row6 col8\" >8.6550</td>\n",
       "    </tr>\n",
       "    <tr>\n",
       "      <th id=\"T_e02d6_level0_row7\" class=\"row_heading level0 row7\" >dummy</th>\n",
       "      <td id=\"T_e02d6_row7_col0\" class=\"data row7 col0\" >Dummy Classifier</td>\n",
       "      <td id=\"T_e02d6_row7_col1\" class=\"data row7 col1\" >0.9987</td>\n",
       "      <td id=\"T_e02d6_row7_col2\" class=\"data row7 col2\" >0.5000</td>\n",
       "      <td id=\"T_e02d6_row7_col3\" class=\"data row7 col3\" >0.0000</td>\n",
       "      <td id=\"T_e02d6_row7_col4\" class=\"data row7 col4\" >0.0000</td>\n",
       "      <td id=\"T_e02d6_row7_col5\" class=\"data row7 col5\" >0.0000</td>\n",
       "      <td id=\"T_e02d6_row7_col6\" class=\"data row7 col6\" >0.0000</td>\n",
       "      <td id=\"T_e02d6_row7_col7\" class=\"data row7 col7\" >0.0000</td>\n",
       "      <td id=\"T_e02d6_row7_col8\" class=\"data row7 col8\" >0.4800</td>\n",
       "    </tr>\n",
       "    <tr>\n",
       "      <th id=\"T_e02d6_level0_row8\" class=\"row_heading level0 row8\" >lightgbm</th>\n",
       "      <td id=\"T_e02d6_row8_col0\" class=\"data row8 col0\" >Light Gradient Boosting Machine</td>\n",
       "      <td id=\"T_e02d6_row8_col1\" class=\"data row8 col1\" >0.9973</td>\n",
       "      <td id=\"T_e02d6_row8_col2\" class=\"data row8 col2\" >0.4659</td>\n",
       "      <td id=\"T_e02d6_row8_col3\" class=\"data row8 col3\" >0.1492</td>\n",
       "      <td id=\"T_e02d6_row8_col4\" class=\"data row8 col4\" >0.2223</td>\n",
       "      <td id=\"T_e02d6_row8_col5\" class=\"data row8 col5\" >0.1625</td>\n",
       "      <td id=\"T_e02d6_row8_col6\" class=\"data row8 col6\" >0.1615</td>\n",
       "      <td id=\"T_e02d6_row8_col7\" class=\"data row8 col7\" >0.1721</td>\n",
       "      <td id=\"T_e02d6_row8_col8\" class=\"data row8 col8\" >4.9660</td>\n",
       "    </tr>\n",
       "    <tr>\n",
       "      <th id=\"T_e02d6_level0_row9\" class=\"row_heading level0 row9\" >svm</th>\n",
       "      <td id=\"T_e02d6_row9_col0\" class=\"data row9 col0\" >SVM - Linear Kernel</td>\n",
       "      <td id=\"T_e02d6_row9_col1\" class=\"data row9 col1\" >0.9987</td>\n",
       "      <td id=\"T_e02d6_row9_col2\" class=\"data row9 col2\" >0.0000</td>\n",
       "      <td id=\"T_e02d6_row9_col3\" class=\"data row9 col3\" >0.0000</td>\n",
       "      <td id=\"T_e02d6_row9_col4\" class=\"data row9 col4\" >0.0000</td>\n",
       "      <td id=\"T_e02d6_row9_col5\" class=\"data row9 col5\" >0.0000</td>\n",
       "      <td id=\"T_e02d6_row9_col6\" class=\"data row9 col6\" >0.0000</td>\n",
       "      <td id=\"T_e02d6_row9_col7\" class=\"data row9 col7\" >0.0000</td>\n",
       "      <td id=\"T_e02d6_row9_col8\" class=\"data row9 col8\" >11.3120</td>\n",
       "    </tr>\n",
       "    <tr>\n",
       "      <th id=\"T_e02d6_level0_row10\" class=\"row_heading level0 row10\" >ridge</th>\n",
       "      <td id=\"T_e02d6_row10_col0\" class=\"data row10 col0\" >Ridge Classifier</td>\n",
       "      <td id=\"T_e02d6_row10_col1\" class=\"data row10 col1\" >0.9987</td>\n",
       "      <td id=\"T_e02d6_row10_col2\" class=\"data row10 col2\" >0.0000</td>\n",
       "      <td id=\"T_e02d6_row10_col3\" class=\"data row10 col3\" >0.0019</td>\n",
       "      <td id=\"T_e02d6_row10_col4\" class=\"data row10 col4\" >0.6000</td>\n",
       "      <td id=\"T_e02d6_row10_col5\" class=\"data row10 col5\" >0.0038</td>\n",
       "      <td id=\"T_e02d6_row10_col6\" class=\"data row10 col6\" >0.0038</td>\n",
       "      <td id=\"T_e02d6_row10_col7\" class=\"data row10 col7\" >0.0332</td>\n",
       "      <td id=\"T_e02d6_row10_col8\" class=\"data row10 col8\" >0.6480</td>\n",
       "    </tr>\n",
       "    <tr>\n",
       "      <th id=\"T_e02d6_level0_row11\" class=\"row_heading level0 row11\" >qda</th>\n",
       "      <td id=\"T_e02d6_row11_col0\" class=\"data row11 col0\" >Quadratic Discriminant Analysis</td>\n",
       "      <td id=\"T_e02d6_row11_col1\" class=\"data row11 col1\" >0.9987</td>\n",
       "      <td id=\"T_e02d6_row11_col2\" class=\"data row11 col2\" >0.0000</td>\n",
       "      <td id=\"T_e02d6_row11_col3\" class=\"data row11 col3\" >0.0000</td>\n",
       "      <td id=\"T_e02d6_row11_col4\" class=\"data row11 col4\" >0.0000</td>\n",
       "      <td id=\"T_e02d6_row11_col5\" class=\"data row11 col5\" >0.0000</td>\n",
       "      <td id=\"T_e02d6_row11_col6\" class=\"data row11 col6\" >0.0000</td>\n",
       "      <td id=\"T_e02d6_row11_col7\" class=\"data row11 col7\" >0.0000</td>\n",
       "      <td id=\"T_e02d6_row11_col8\" class=\"data row11 col8\" >1.4180</td>\n",
       "    </tr>\n",
       "  </tbody>\n",
       "</table>\n"
      ],
      "text/plain": [
       "<pandas.io.formats.style.Styler at 0x214a9557dc0>"
      ]
     },
     "metadata": {},
     "output_type": "display_data"
    }
   ],
   "source": [
    "best_model=compare_models(sort='AUC')"
   ]
  },
  {
   "cell_type": "code",
   "execution_count": 29,
   "id": "4ab210fe-baf1-465c-af36-5613b29bf8ce",
   "metadata": {},
   "outputs": [
    {
     "name": "stdout",
     "output_type": "stream",
     "text": [
      "AdaBoostClassifier(algorithm='SAMME.R', base_estimator=None, learning_rate=1.0,\n",
      "                   n_estimators=50, random_state=123)\n"
     ]
    }
   ],
   "source": [
    "print(best_model)"
   ]
  },
  {
   "cell_type": "markdown",
   "id": "e4cdb536-d09f-4f18-87c6-43b54f7d40b0",
   "metadata": {},
   "source": [
    "# creating a \tAda Boost Classifier model"
   ]
  },
  {
   "cell_type": "code",
   "execution_count": 30,
   "id": "88ba1b92-88e9-4dc0-b26d-15f8ea9611ac",
   "metadata": {},
   "outputs": [
    {
     "data": {
      "text/html": [
       "<style type=\"text/css\">\n",
       "#T_f51b9_row10_col0, #T_f51b9_row10_col1, #T_f51b9_row10_col2, #T_f51b9_row10_col3, #T_f51b9_row10_col4, #T_f51b9_row10_col5, #T_f51b9_row10_col6 {\n",
       "  background: yellow;\n",
       "}\n",
       "</style>\n",
       "<table id=\"T_f51b9\">\n",
       "  <thead>\n",
       "    <tr>\n",
       "      <th class=\"blank level0\" >&nbsp;</th>\n",
       "      <th id=\"T_f51b9_level0_col0\" class=\"col_heading level0 col0\" >Accuracy</th>\n",
       "      <th id=\"T_f51b9_level0_col1\" class=\"col_heading level0 col1\" >AUC</th>\n",
       "      <th id=\"T_f51b9_level0_col2\" class=\"col_heading level0 col2\" >Recall</th>\n",
       "      <th id=\"T_f51b9_level0_col3\" class=\"col_heading level0 col3\" >Prec.</th>\n",
       "      <th id=\"T_f51b9_level0_col4\" class=\"col_heading level0 col4\" >F1</th>\n",
       "      <th id=\"T_f51b9_level0_col5\" class=\"col_heading level0 col5\" >Kappa</th>\n",
       "      <th id=\"T_f51b9_level0_col6\" class=\"col_heading level0 col6\" >MCC</th>\n",
       "    </tr>\n",
       "    <tr>\n",
       "      <th class=\"index_name level0\" >Fold</th>\n",
       "      <th class=\"blank col0\" >&nbsp;</th>\n",
       "      <th class=\"blank col1\" >&nbsp;</th>\n",
       "      <th class=\"blank col2\" >&nbsp;</th>\n",
       "      <th class=\"blank col3\" >&nbsp;</th>\n",
       "      <th class=\"blank col4\" >&nbsp;</th>\n",
       "      <th class=\"blank col5\" >&nbsp;</th>\n",
       "      <th class=\"blank col6\" >&nbsp;</th>\n",
       "    </tr>\n",
       "  </thead>\n",
       "  <tbody>\n",
       "    <tr>\n",
       "      <th id=\"T_f51b9_level0_row0\" class=\"row_heading level0 row0\" >0</th>\n",
       "      <td id=\"T_f51b9_row0_col0\" class=\"data row0 col0\" >0.9988</td>\n",
       "      <td id=\"T_f51b9_row0_col1\" class=\"data row0 col1\" >0.9790</td>\n",
       "      <td id=\"T_f51b9_row0_col2\" class=\"data row0 col2\" >0.1062</td>\n",
       "      <td id=\"T_f51b9_row0_col3\" class=\"data row0 col3\" >0.8333</td>\n",
       "      <td id=\"T_f51b9_row0_col4\" class=\"data row0 col4\" >0.1884</td>\n",
       "      <td id=\"T_f51b9_row0_col5\" class=\"data row0 col5\" >0.1881</td>\n",
       "      <td id=\"T_f51b9_row0_col6\" class=\"data row0 col6\" >0.2972</td>\n",
       "    </tr>\n",
       "    <tr>\n",
       "      <th id=\"T_f51b9_level0_row1\" class=\"row_heading level0 row1\" >1</th>\n",
       "      <td id=\"T_f51b9_row1_col0\" class=\"data row1 col0\" >0.9989</td>\n",
       "      <td id=\"T_f51b9_row1_col1\" class=\"data row1 col1\" >0.9794</td>\n",
       "      <td id=\"T_f51b9_row1_col2\" class=\"data row1 col2\" >0.1873</td>\n",
       "      <td id=\"T_f51b9_row1_col3\" class=\"data row1 col3\" >0.8509</td>\n",
       "      <td id=\"T_f51b9_row1_col4\" class=\"data row1 col4\" >0.3070</td>\n",
       "      <td id=\"T_f51b9_row1_col5\" class=\"data row1 col5\" >0.3066</td>\n",
       "      <td id=\"T_f51b9_row1_col6\" class=\"data row1 col6\" >0.3989</td>\n",
       "    </tr>\n",
       "    <tr>\n",
       "      <th id=\"T_f51b9_level0_row2\" class=\"row_heading level0 row2\" >2</th>\n",
       "      <td id=\"T_f51b9_row2_col0\" class=\"data row2 col0\" >0.9988</td>\n",
       "      <td id=\"T_f51b9_row2_col1\" class=\"data row2 col1\" >0.9804</td>\n",
       "      <td id=\"T_f51b9_row2_col2\" class=\"data row2 col2\" >0.1178</td>\n",
       "      <td id=\"T_f51b9_row2_col3\" class=\"data row2 col3\" >0.7922</td>\n",
       "      <td id=\"T_f51b9_row2_col4\" class=\"data row2 col4\" >0.2050</td>\n",
       "      <td id=\"T_f51b9_row2_col5\" class=\"data row2 col5\" >0.2048</td>\n",
       "      <td id=\"T_f51b9_row2_col6\" class=\"data row2 col6\" >0.3052</td>\n",
       "    </tr>\n",
       "    <tr>\n",
       "      <th id=\"T_f51b9_level0_row3\" class=\"row_heading level0 row3\" >3</th>\n",
       "      <td id=\"T_f51b9_row3_col0\" class=\"data row3 col0\" >0.9989</td>\n",
       "      <td id=\"T_f51b9_row3_col1\" class=\"data row3 col1\" >0.9784</td>\n",
       "      <td id=\"T_f51b9_row3_col2\" class=\"data row3 col2\" >0.1618</td>\n",
       "      <td id=\"T_f51b9_row3_col3\" class=\"data row3 col3\" >0.8077</td>\n",
       "      <td id=\"T_f51b9_row3_col4\" class=\"data row3 col4\" >0.2697</td>\n",
       "      <td id=\"T_f51b9_row3_col5\" class=\"data row3 col5\" >0.2693</td>\n",
       "      <td id=\"T_f51b9_row3_col6\" class=\"data row3 col6\" >0.3613</td>\n",
       "    </tr>\n",
       "    <tr>\n",
       "      <th id=\"T_f51b9_level0_row4\" class=\"row_heading level0 row4\" >4</th>\n",
       "      <td id=\"T_f51b9_row4_col0\" class=\"data row4 col0\" >0.9988</td>\n",
       "      <td id=\"T_f51b9_row4_col1\" class=\"data row4 col1\" >0.9799</td>\n",
       "      <td id=\"T_f51b9_row4_col2\" class=\"data row4 col2\" >0.1040</td>\n",
       "      <td id=\"T_f51b9_row4_col3\" class=\"data row4 col3\" >0.8710</td>\n",
       "      <td id=\"T_f51b9_row4_col4\" class=\"data row4 col4\" >0.1859</td>\n",
       "      <td id=\"T_f51b9_row4_col5\" class=\"data row4 col5\" >0.1857</td>\n",
       "      <td id=\"T_f51b9_row4_col6\" class=\"data row4 col6\" >0.3008</td>\n",
       "    </tr>\n",
       "    <tr>\n",
       "      <th id=\"T_f51b9_level0_row5\" class=\"row_heading level0 row5\" >5</th>\n",
       "      <td id=\"T_f51b9_row5_col0\" class=\"data row5 col0\" >0.9989</td>\n",
       "      <td id=\"T_f51b9_row5_col1\" class=\"data row5 col1\" >0.9791</td>\n",
       "      <td id=\"T_f51b9_row5_col2\" class=\"data row5 col2\" >0.1657</td>\n",
       "      <td id=\"T_f51b9_row5_col3\" class=\"data row5 col3\" >0.8866</td>\n",
       "      <td id=\"T_f51b9_row5_col4\" class=\"data row5 col4\" >0.2792</td>\n",
       "      <td id=\"T_f51b9_row5_col5\" class=\"data row5 col5\" >0.2789</td>\n",
       "      <td id=\"T_f51b9_row5_col6\" class=\"data row5 col6\" >0.3830</td>\n",
       "    </tr>\n",
       "    <tr>\n",
       "      <th id=\"T_f51b9_level0_row6\" class=\"row_heading level0 row6\" >6</th>\n",
       "      <td id=\"T_f51b9_row6_col0\" class=\"data row6 col0\" >0.9988</td>\n",
       "      <td id=\"T_f51b9_row6_col1\" class=\"data row6 col1\" >0.9799</td>\n",
       "      <td id=\"T_f51b9_row6_col2\" class=\"data row6 col2\" >0.0906</td>\n",
       "      <td id=\"T_f51b9_row6_col3\" class=\"data row6 col3\" >0.7966</td>\n",
       "      <td id=\"T_f51b9_row6_col4\" class=\"data row6 col4\" >0.1626</td>\n",
       "      <td id=\"T_f51b9_row6_col5\" class=\"data row6 col5\" >0.1624</td>\n",
       "      <td id=\"T_f51b9_row6_col6\" class=\"data row6 col6\" >0.2683</td>\n",
       "    </tr>\n",
       "    <tr>\n",
       "      <th id=\"T_f51b9_level0_row7\" class=\"row_heading level0 row7\" >7</th>\n",
       "      <td id=\"T_f51b9_row7_col0\" class=\"data row7 col0\" >0.9989</td>\n",
       "      <td id=\"T_f51b9_row7_col1\" class=\"data row7 col1\" >0.9807</td>\n",
       "      <td id=\"T_f51b9_row7_col2\" class=\"data row7 col2\" >0.1252</td>\n",
       "      <td id=\"T_f51b9_row7_col3\" class=\"data row7 col3\" >0.9420</td>\n",
       "      <td id=\"T_f51b9_row7_col4\" class=\"data row7 col4\" >0.2211</td>\n",
       "      <td id=\"T_f51b9_row7_col5\" class=\"data row7 col5\" >0.2209</td>\n",
       "      <td id=\"T_f51b9_row7_col6\" class=\"data row7 col6\" >0.3433</td>\n",
       "    </tr>\n",
       "    <tr>\n",
       "      <th id=\"T_f51b9_level0_row8\" class=\"row_heading level0 row8\" >8</th>\n",
       "      <td id=\"T_f51b9_row8_col0\" class=\"data row8 col0\" >0.9989</td>\n",
       "      <td id=\"T_f51b9_row8_col1\" class=\"data row8 col1\" >0.9801</td>\n",
       "      <td id=\"T_f51b9_row8_col2\" class=\"data row8 col2\" >0.1908</td>\n",
       "      <td id=\"T_f51b9_row8_col3\" class=\"data row8 col3\" >0.7444</td>\n",
       "      <td id=\"T_f51b9_row8_col4\" class=\"data row8 col4\" >0.3037</td>\n",
       "      <td id=\"T_f51b9_row8_col5\" class=\"data row8 col5\" >0.3033</td>\n",
       "      <td id=\"T_f51b9_row8_col6\" class=\"data row8 col6\" >0.3765</td>\n",
       "    </tr>\n",
       "    <tr>\n",
       "      <th id=\"T_f51b9_level0_row9\" class=\"row_heading level0 row9\" >9</th>\n",
       "      <td id=\"T_f51b9_row9_col0\" class=\"data row9 col0\" >0.9988</td>\n",
       "      <td id=\"T_f51b9_row9_col1\" class=\"data row9 col1\" >0.9802</td>\n",
       "      <td id=\"T_f51b9_row9_col2\" class=\"data row9 col2\" >0.0925</td>\n",
       "      <td id=\"T_f51b9_row9_col3\" class=\"data row9 col3\" >0.8000</td>\n",
       "      <td id=\"T_f51b9_row9_col4\" class=\"data row9 col4\" >0.1658</td>\n",
       "      <td id=\"T_f51b9_row9_col5\" class=\"data row9 col5\" >0.1656</td>\n",
       "      <td id=\"T_f51b9_row9_col6\" class=\"data row9 col6\" >0.2718</td>\n",
       "    </tr>\n",
       "    <tr>\n",
       "      <th id=\"T_f51b9_level0_row10\" class=\"row_heading level0 row10\" >Mean</th>\n",
       "      <td id=\"T_f51b9_row10_col0\" class=\"data row10 col0\" >0.9988</td>\n",
       "      <td id=\"T_f51b9_row10_col1\" class=\"data row10 col1\" >0.9797</td>\n",
       "      <td id=\"T_f51b9_row10_col2\" class=\"data row10 col2\" >0.1342</td>\n",
       "      <td id=\"T_f51b9_row10_col3\" class=\"data row10 col3\" >0.8325</td>\n",
       "      <td id=\"T_f51b9_row10_col4\" class=\"data row10 col4\" >0.2288</td>\n",
       "      <td id=\"T_f51b9_row10_col5\" class=\"data row10 col5\" >0.2286</td>\n",
       "      <td id=\"T_f51b9_row10_col6\" class=\"data row10 col6\" >0.3306</td>\n",
       "    </tr>\n",
       "    <tr>\n",
       "      <th id=\"T_f51b9_level0_row11\" class=\"row_heading level0 row11\" >Std</th>\n",
       "      <td id=\"T_f51b9_row11_col0\" class=\"data row11 col0\" >0.0000</td>\n",
       "      <td id=\"T_f51b9_row11_col1\" class=\"data row11 col1\" >0.0007</td>\n",
       "      <td id=\"T_f51b9_row11_col2\" class=\"data row11 col2\" >0.0367</td>\n",
       "      <td id=\"T_f51b9_row11_col3\" class=\"data row11 col3\" >0.0539</td>\n",
       "      <td id=\"T_f51b9_row11_col4\" class=\"data row11 col4\" >0.0533</td>\n",
       "      <td id=\"T_f51b9_row11_col5\" class=\"data row11 col5\" >0.0532</td>\n",
       "      <td id=\"T_f51b9_row11_col6\" class=\"data row11 col6\" >0.0454</td>\n",
       "    </tr>\n",
       "  </tbody>\n",
       "</table>\n"
      ],
      "text/plain": [
       "<pandas.io.formats.style.Styler at 0x214adb21b50>"
      ]
     },
     "metadata": {},
     "output_type": "display_data"
    }
   ],
   "source": [
    "ada=create_model('ada')"
   ]
  },
  {
   "cell_type": "markdown",
   "id": "07eb10b5-344a-4f18-a042-fd78a8ce1e7c",
   "metadata": {},
   "source": [
    "# tuning the ada model further for better results"
   ]
  },
  {
   "cell_type": "code",
   "execution_count": 31,
   "id": "7a80da52-daec-4ccc-af4a-9aa38490f6d3",
   "metadata": {},
   "outputs": [
    {
     "data": {
      "text/html": [
       "<style type=\"text/css\">\n",
       "#T_38bf3_row10_col0, #T_38bf3_row10_col1, #T_38bf3_row10_col2, #T_38bf3_row10_col3, #T_38bf3_row10_col4, #T_38bf3_row10_col5, #T_38bf3_row10_col6 {\n",
       "  background: yellow;\n",
       "}\n",
       "</style>\n",
       "<table id=\"T_38bf3\">\n",
       "  <thead>\n",
       "    <tr>\n",
       "      <th class=\"blank level0\" >&nbsp;</th>\n",
       "      <th id=\"T_38bf3_level0_col0\" class=\"col_heading level0 col0\" >Accuracy</th>\n",
       "      <th id=\"T_38bf3_level0_col1\" class=\"col_heading level0 col1\" >AUC</th>\n",
       "      <th id=\"T_38bf3_level0_col2\" class=\"col_heading level0 col2\" >Recall</th>\n",
       "      <th id=\"T_38bf3_level0_col3\" class=\"col_heading level0 col3\" >Prec.</th>\n",
       "      <th id=\"T_38bf3_level0_col4\" class=\"col_heading level0 col4\" >F1</th>\n",
       "      <th id=\"T_38bf3_level0_col5\" class=\"col_heading level0 col5\" >Kappa</th>\n",
       "      <th id=\"T_38bf3_level0_col6\" class=\"col_heading level0 col6\" >MCC</th>\n",
       "    </tr>\n",
       "    <tr>\n",
       "      <th class=\"index_name level0\" >Fold</th>\n",
       "      <th class=\"blank col0\" >&nbsp;</th>\n",
       "      <th class=\"blank col1\" >&nbsp;</th>\n",
       "      <th class=\"blank col2\" >&nbsp;</th>\n",
       "      <th class=\"blank col3\" >&nbsp;</th>\n",
       "      <th class=\"blank col4\" >&nbsp;</th>\n",
       "      <th class=\"blank col5\" >&nbsp;</th>\n",
       "      <th class=\"blank col6\" >&nbsp;</th>\n",
       "    </tr>\n",
       "  </thead>\n",
       "  <tbody>\n",
       "    <tr>\n",
       "      <th id=\"T_38bf3_level0_row0\" class=\"row_heading level0 row0\" >0</th>\n",
       "      <td id=\"T_38bf3_row0_col0\" class=\"data row0 col0\" >0.9988</td>\n",
       "      <td id=\"T_38bf3_row0_col1\" class=\"data row0 col1\" >0.9792</td>\n",
       "      <td id=\"T_38bf3_row0_col2\" class=\"data row0 col2\" >0.0386</td>\n",
       "      <td id=\"T_38bf3_row0_col3\" class=\"data row0 col3\" >0.9524</td>\n",
       "      <td id=\"T_38bf3_row0_col4\" class=\"data row0 col4\" >0.0742</td>\n",
       "      <td id=\"T_38bf3_row0_col5\" class=\"data row0 col5\" >0.0741</td>\n",
       "      <td id=\"T_38bf3_row0_col6\" class=\"data row0 col6\" >0.1916</td>\n",
       "    </tr>\n",
       "    <tr>\n",
       "      <th id=\"T_38bf3_level0_row1\" class=\"row_heading level0 row1\" >1</th>\n",
       "      <td id=\"T_38bf3_row1_col0\" class=\"data row1 col0\" >0.9988</td>\n",
       "      <td id=\"T_38bf3_row1_col1\" class=\"data row1 col1\" >0.9794</td>\n",
       "      <td id=\"T_38bf3_row1_col2\" class=\"data row1 col2\" >0.0483</td>\n",
       "      <td id=\"T_38bf3_row1_col3\" class=\"data row1 col3\" >1.0000</td>\n",
       "      <td id=\"T_38bf3_row1_col4\" class=\"data row1 col4\" >0.0921</td>\n",
       "      <td id=\"T_38bf3_row1_col5\" class=\"data row1 col5\" >0.0920</td>\n",
       "      <td id=\"T_38bf3_row1_col6\" class=\"data row1 col6\" >0.2196</td>\n",
       "    </tr>\n",
       "    <tr>\n",
       "      <th id=\"T_38bf3_level0_row2\" class=\"row_heading level0 row2\" >2</th>\n",
       "      <td id=\"T_38bf3_row2_col0\" class=\"data row2 col0\" >0.9988</td>\n",
       "      <td id=\"T_38bf3_row2_col1\" class=\"data row2 col1\" >0.9803</td>\n",
       "      <td id=\"T_38bf3_row2_col2\" class=\"data row2 col2\" >0.0579</td>\n",
       "      <td id=\"T_38bf3_row2_col3\" class=\"data row2 col3\" >1.0000</td>\n",
       "      <td id=\"T_38bf3_row2_col4\" class=\"data row2 col4\" >0.1095</td>\n",
       "      <td id=\"T_38bf3_row2_col5\" class=\"data row2 col5\" >0.1094</td>\n",
       "      <td id=\"T_38bf3_row2_col6\" class=\"data row2 col6\" >0.2405</td>\n",
       "    </tr>\n",
       "    <tr>\n",
       "      <th id=\"T_38bf3_level0_row3\" class=\"row_heading level0 row3\" >3</th>\n",
       "      <td id=\"T_38bf3_row3_col0\" class=\"data row3 col0\" >0.9988</td>\n",
       "      <td id=\"T_38bf3_row3_col1\" class=\"data row3 col1\" >0.9792</td>\n",
       "      <td id=\"T_38bf3_row3_col2\" class=\"data row3 col2\" >0.0462</td>\n",
       "      <td id=\"T_38bf3_row3_col3\" class=\"data row3 col3\" >0.9600</td>\n",
       "      <td id=\"T_38bf3_row3_col4\" class=\"data row3 col4\" >0.0882</td>\n",
       "      <td id=\"T_38bf3_row3_col5\" class=\"data row3 col5\" >0.0881</td>\n",
       "      <td id=\"T_38bf3_row3_col6\" class=\"data row3 col6\" >0.2106</td>\n",
       "    </tr>\n",
       "    <tr>\n",
       "      <th id=\"T_38bf3_level0_row4\" class=\"row_heading level0 row4\" >4</th>\n",
       "      <td id=\"T_38bf3_row4_col0\" class=\"data row4 col0\" >0.9987</td>\n",
       "      <td id=\"T_38bf3_row4_col1\" class=\"data row4 col1\" >0.9803</td>\n",
       "      <td id=\"T_38bf3_row4_col2\" class=\"data row4 col2\" >0.0000</td>\n",
       "      <td id=\"T_38bf3_row4_col3\" class=\"data row4 col3\" >0.0000</td>\n",
       "      <td id=\"T_38bf3_row4_col4\" class=\"data row4 col4\" >0.0000</td>\n",
       "      <td id=\"T_38bf3_row4_col5\" class=\"data row4 col5\" >0.0000</td>\n",
       "      <td id=\"T_38bf3_row4_col6\" class=\"data row4 col6\" >0.0000</td>\n",
       "    </tr>\n",
       "    <tr>\n",
       "      <th id=\"T_38bf3_level0_row5\" class=\"row_heading level0 row5\" >5</th>\n",
       "      <td id=\"T_38bf3_row5_col0\" class=\"data row5 col0\" >0.9988</td>\n",
       "      <td id=\"T_38bf3_row5_col1\" class=\"data row5 col1\" >0.9799</td>\n",
       "      <td id=\"T_38bf3_row5_col2\" class=\"data row5 col2\" >0.0520</td>\n",
       "      <td id=\"T_38bf3_row5_col3\" class=\"data row5 col3\" >0.9310</td>\n",
       "      <td id=\"T_38bf3_row5_col4\" class=\"data row5 col4\" >0.0985</td>\n",
       "      <td id=\"T_38bf3_row5_col5\" class=\"data row5 col5\" >0.0984</td>\n",
       "      <td id=\"T_38bf3_row5_col6\" class=\"data row5 col6\" >0.2199</td>\n",
       "    </tr>\n",
       "    <tr>\n",
       "      <th id=\"T_38bf3_level0_row6\" class=\"row_heading level0 row6\" >6</th>\n",
       "      <td id=\"T_38bf3_row6_col0\" class=\"data row6 col0\" >0.9987</td>\n",
       "      <td id=\"T_38bf3_row6_col1\" class=\"data row6 col1\" >0.9797</td>\n",
       "      <td id=\"T_38bf3_row6_col2\" class=\"data row6 col2\" >0.0000</td>\n",
       "      <td id=\"T_38bf3_row6_col3\" class=\"data row6 col3\" >0.0000</td>\n",
       "      <td id=\"T_38bf3_row6_col4\" class=\"data row6 col4\" >0.0000</td>\n",
       "      <td id=\"T_38bf3_row6_col5\" class=\"data row6 col5\" >-0.0000</td>\n",
       "      <td id=\"T_38bf3_row6_col6\" class=\"data row6 col6\" >-0.0001</td>\n",
       "    </tr>\n",
       "    <tr>\n",
       "      <th id=\"T_38bf3_level0_row7\" class=\"row_heading level0 row7\" >7</th>\n",
       "      <td id=\"T_38bf3_row7_col0\" class=\"data row7 col0\" >0.9987</td>\n",
       "      <td id=\"T_38bf3_row7_col1\" class=\"data row7 col1\" >0.9814</td>\n",
       "      <td id=\"T_38bf3_row7_col2\" class=\"data row7 col2\" >0.0000</td>\n",
       "      <td id=\"T_38bf3_row7_col3\" class=\"data row7 col3\" >0.0000</td>\n",
       "      <td id=\"T_38bf3_row7_col4\" class=\"data row7 col4\" >0.0000</td>\n",
       "      <td id=\"T_38bf3_row7_col5\" class=\"data row7 col5\" >-0.0000</td>\n",
       "      <td id=\"T_38bf3_row7_col6\" class=\"data row7 col6\" >-0.0001</td>\n",
       "    </tr>\n",
       "    <tr>\n",
       "      <th id=\"T_38bf3_level0_row8\" class=\"row_heading level0 row8\" >8</th>\n",
       "      <td id=\"T_38bf3_row8_col0\" class=\"data row8 col0\" >0.9988</td>\n",
       "      <td id=\"T_38bf3_row8_col1\" class=\"data row8 col1\" >0.9804</td>\n",
       "      <td id=\"T_38bf3_row8_col2\" class=\"data row8 col2\" >0.0674</td>\n",
       "      <td id=\"T_38bf3_row8_col3\" class=\"data row8 col3\" >1.0000</td>\n",
       "      <td id=\"T_38bf3_row8_col4\" class=\"data row8 col4\" >0.1264</td>\n",
       "      <td id=\"T_38bf3_row8_col5\" class=\"data row8 col5\" >0.1262</td>\n",
       "      <td id=\"T_38bf3_row8_col6\" class=\"data row8 col6\" >0.2595</td>\n",
       "    </tr>\n",
       "    <tr>\n",
       "      <th id=\"T_38bf3_level0_row9\" class=\"row_heading level0 row9\" >9</th>\n",
       "      <td id=\"T_38bf3_row9_col0\" class=\"data row9 col0\" >0.9987</td>\n",
       "      <td id=\"T_38bf3_row9_col1\" class=\"data row9 col1\" >0.9809</td>\n",
       "      <td id=\"T_38bf3_row9_col2\" class=\"data row9 col2\" >0.0000</td>\n",
       "      <td id=\"T_38bf3_row9_col3\" class=\"data row9 col3\" >0.0000</td>\n",
       "      <td id=\"T_38bf3_row9_col4\" class=\"data row9 col4\" >0.0000</td>\n",
       "      <td id=\"T_38bf3_row9_col5\" class=\"data row9 col5\" >0.0000</td>\n",
       "      <td id=\"T_38bf3_row9_col6\" class=\"data row9 col6\" >0.0000</td>\n",
       "    </tr>\n",
       "    <tr>\n",
       "      <th id=\"T_38bf3_level0_row10\" class=\"row_heading level0 row10\" >Mean</th>\n",
       "      <td id=\"T_38bf3_row10_col0\" class=\"data row10 col0\" >0.9987</td>\n",
       "      <td id=\"T_38bf3_row10_col1\" class=\"data row10 col1\" >0.9801</td>\n",
       "      <td id=\"T_38bf3_row10_col2\" class=\"data row10 col2\" >0.0310</td>\n",
       "      <td id=\"T_38bf3_row10_col3\" class=\"data row10 col3\" >0.5843</td>\n",
       "      <td id=\"T_38bf3_row10_col4\" class=\"data row10 col4\" >0.0589</td>\n",
       "      <td id=\"T_38bf3_row10_col5\" class=\"data row10 col5\" >0.0588</td>\n",
       "      <td id=\"T_38bf3_row10_col6\" class=\"data row10 col6\" >0.1342</td>\n",
       "    </tr>\n",
       "    <tr>\n",
       "      <th id=\"T_38bf3_level0_row11\" class=\"row_heading level0 row11\" >Std</th>\n",
       "      <td id=\"T_38bf3_row11_col0\" class=\"data row11 col0\" >0.0000</td>\n",
       "      <td id=\"T_38bf3_row11_col1\" class=\"data row11 col1\" >0.0007</td>\n",
       "      <td id=\"T_38bf3_row11_col2\" class=\"data row11 col2\" >0.0263</td>\n",
       "      <td id=\"T_38bf3_row11_col3\" class=\"data row11 col3\" >0.4776</td>\n",
       "      <td id=\"T_38bf3_row11_col4\" class=\"data row11 col4\" >0.0498</td>\n",
       "      <td id=\"T_38bf3_row11_col5\" class=\"data row11 col5\" >0.0497</td>\n",
       "      <td id=\"T_38bf3_row11_col6\" class=\"data row11 col6\" >0.1108</td>\n",
       "    </tr>\n",
       "  </tbody>\n",
       "</table>\n"
      ],
      "text/plain": [
       "<pandas.io.formats.style.Styler at 0x214ad91f250>"
      ]
     },
     "metadata": {},
     "output_type": "display_data"
    },
    {
     "name": "stdout",
     "output_type": "stream",
     "text": [
      "AdaBoostClassifier(algorithm='SAMME.R', base_estimator=None, learning_rate=0.2,\n",
      "                   n_estimators=230, random_state=123)\n"
     ]
    }
   ],
   "source": [
    "tuned_ada=tune_model(ada)\n",
    "print(tuned_ada)"
   ]
  },
  {
   "cell_type": "markdown",
   "id": "ff2ac5af-41f4-4141-a517-64836af39b2e",
   "metadata": {},
   "source": [
    "# plotting the r2 score"
   ]
  },
  {
   "cell_type": "code",
   "execution_count": 32,
   "id": "f3bfeb04-12c1-43b3-817c-57ef406dc48d",
   "metadata": {},
   "outputs": [
    {
     "data": {
      "image/png": "[encoded data removed]",
      "text/plain": [
       "<Figure size 800x550 with 1 Axes>"
      ]
     },
     "metadata": {},
     "output_type": "display_data"
    }
   ],
   "source": [
    "plot_model(tuned_ada)"
   ]
  },
  {
   "cell_type": "markdown",
   "id": "bf7b61cc-ec3c-492e-ac80-845e3af5f2b5",
   "metadata": {},
   "source": [
    "# plotting the error for Ada Boost Classifier "
   ]
  },
  {
   "cell_type": "code",
   "execution_count": 33,
   "id": "bfa0db17-e597-45ba-a902-9dfc66eed608",
   "metadata": {},
   "outputs": [
    {
     "data": {
      "image/png": "[encoded data removed]",
      "text/plain": [
       "<Figure size 800x550 with 1 Axes>"
      ]
     },
     "metadata": {},
     "output_type": "display_data"
    }
   ],
   "source": [
    "\n",
    "plot_model(tuned_ada, plot=\"error\")\n"
   ]
  },
  {
   "cell_type": "markdown",
   "id": "183a1252-668d-4eb6-b0fc-9d76264bf16c",
   "metadata": {},
   "source": [
    " # plotting all the important features for binary classification"
   ]
  },
  {
   "cell_type": "code",
   "execution_count": 34,
   "id": "595671d4-8359-4b32-b41c-dfc4593aee89",
   "metadata": {},
   "outputs": [
    {
     "data": {
      "image/png": "[encoded data removed]",
      "text/plain": [
       "<Figure size 800x500 with 1 Axes>"
      ]
     },
     "metadata": {},
     "output_type": "display_data"
    }
   ],
   "source": [
    "plot_model(tuned_ada, plot=\"feature\")\n"
   ]
  },
  {
   "cell_type": "markdown",
   "id": "a5aece14-395e-4411-8b83-a4691f74d798",
   "metadata": {},
   "source": [
    "# making prediction validation data"
   ]
  },
  {
   "cell_type": "code",
   "execution_count": 35,
   "id": "aa8c6d14-2338-4342-8ac5-2f2e7a9a0e59",
   "metadata": {},
   "outputs": [
    {
     "data": {
      "text/html": [
       "<style type=\"text/css\">\n",
       "</style>\n",
       "<table id=\"T_1ffaf\">\n",
       "  <thead>\n",
       "    <tr>\n",
       "      <th class=\"blank level0\" >&nbsp;</th>\n",
       "      <th id=\"T_1ffaf_level0_col0\" class=\"col_heading level0 col0\" >Model</th>\n",
       "      <th id=\"T_1ffaf_level0_col1\" class=\"col_heading level0 col1\" >Accuracy</th>\n",
       "      <th id=\"T_1ffaf_level0_col2\" class=\"col_heading level0 col2\" >AUC</th>\n",
       "      <th id=\"T_1ffaf_level0_col3\" class=\"col_heading level0 col3\" >Recall</th>\n",
       "      <th id=\"T_1ffaf_level0_col4\" class=\"col_heading level0 col4\" >Prec.</th>\n",
       "      <th id=\"T_1ffaf_level0_col5\" class=\"col_heading level0 col5\" >F1</th>\n",
       "      <th id=\"T_1ffaf_level0_col6\" class=\"col_heading level0 col6\" >Kappa</th>\n",
       "      <th id=\"T_1ffaf_level0_col7\" class=\"col_heading level0 col7\" >MCC</th>\n",
       "    </tr>\n",
       "  </thead>\n",
       "  <tbody>\n",
       "    <tr>\n",
       "      <th id=\"T_1ffaf_level0_row0\" class=\"row_heading level0 row0\" >0</th>\n",
       "      <td id=\"T_1ffaf_row0_col0\" class=\"data row0 col0\" >Ada Boost Classifier</td>\n",
       "      <td id=\"T_1ffaf_row0_col1\" class=\"data row0 col1\" >0.9988</td>\n",
       "      <td id=\"T_1ffaf_row0_col2\" class=\"data row0 col2\" >0.9804</td>\n",
       "      <td id=\"T_1ffaf_row0_col3\" class=\"data row0 col3\" >0.0454</td>\n",
       "      <td id=\"T_1ffaf_row0_col4\" class=\"data row0 col4\" >0.9712</td>\n",
       "      <td id=\"T_1ffaf_row0_col5\" class=\"data row0 col5\" >0.0867</td>\n",
       "      <td id=\"T_1ffaf_row0_col6\" class=\"data row0 col6\" >0.0866</td>\n",
       "      <td id=\"T_1ffaf_row0_col7\" class=\"data row0 col7\" >0.2098</td>\n",
       "    </tr>\n",
       "  </tbody>\n",
       "</table>\n"
      ],
      "text/plain": [
       "<pandas.io.formats.style.Styler at 0x214abab1580>"
      ]
     },
     "metadata": {},
     "output_type": "display_data"
    },
    {
     "data": {
      "text/html": [
       "<div>\n",
       "<style scoped>\n",
       "    .dataframe tbody tr th:only-of-type {\n",
       "        vertical-align: middle;\n",
       "    }\n",
       "\n",
       "    .dataframe tbody tr th {\n",
       "        vertical-align: top;\n",
       "    }\n",
       "\n",
       "    .dataframe thead th {\n",
       "        text-align: right;\n",
       "    }\n",
       "</style>\n",
       "<table border=\"1\" class=\"dataframe\">\n",
       "  <thead>\n",
       "    <tr style=\"text-align: right;\">\n",
       "      <th></th>\n",
       "      <th>amount</th>\n",
       "      <th>oldbalanceOrg</th>\n",
       "      <th>oldbalanceDest</th>\n",
       "      <th>type_CASH_OUT</th>\n",
       "      <th>type_DEBIT</th>\n",
       "      <th>type_PAYMENT</th>\n",
       "      <th>type_TRANSFER</th>\n",
       "      <th>isFlaggedFraud_0</th>\n",
       "      <th>isFraud</th>\n",
       "      <th>Label</th>\n",
       "      <th>Score</th>\n",
       "    </tr>\n",
       "  </thead>\n",
       "  <tbody>\n",
       "    <tr>\n",
       "      <th>0</th>\n",
       "      <td>1846.040039</td>\n",
       "      <td>3.143670e+05</td>\n",
       "      <td>3.197192e+05</td>\n",
       "      <td>1</td>\n",
       "      <td>0</td>\n",
       "      <td>0</td>\n",
       "      <td>0</td>\n",
       "      <td>1.0</td>\n",
       "      <td>0</td>\n",
       "      <td>0</td>\n",
       "      <td>0.5207</td>\n",
       "    </tr>\n",
       "    <tr>\n",
       "      <th>1</th>\n",
       "      <td>167575.218750</td>\n",
       "      <td>0.000000e+00</td>\n",
       "      <td>1.157624e+06</td>\n",
       "      <td>1</td>\n",
       "      <td>0</td>\n",
       "      <td>0</td>\n",
       "      <td>0</td>\n",
       "      <td>1.0</td>\n",
       "      <td>0</td>\n",
       "      <td>0</td>\n",
       "      <td>0.5639</td>\n",
       "    </tr>\n",
       "    <tr>\n",
       "      <th>2</th>\n",
       "      <td>2078.379883</td>\n",
       "      <td>3.106017e+06</td>\n",
       "      <td>1.908596e+05</td>\n",
       "      <td>0</td>\n",
       "      <td>0</td>\n",
       "      <td>0</td>\n",
       "      <td>0</td>\n",
       "      <td>1.0</td>\n",
       "      <td>0</td>\n",
       "      <td>0</td>\n",
       "      <td>0.5478</td>\n",
       "    </tr>\n",
       "    <tr>\n",
       "      <th>3</th>\n",
       "      <td>8917.540039</td>\n",
       "      <td>2.780013e+04</td>\n",
       "      <td>0.000000e+00</td>\n",
       "      <td>0</td>\n",
       "      <td>0</td>\n",
       "      <td>1</td>\n",
       "      <td>0</td>\n",
       "      <td>1.0</td>\n",
       "      <td>0</td>\n",
       "      <td>0</td>\n",
       "      <td>0.5981</td>\n",
       "    </tr>\n",
       "    <tr>\n",
       "      <th>4</th>\n",
       "      <td>15412.589844</td>\n",
       "      <td>5.292000e+03</td>\n",
       "      <td>0.000000e+00</td>\n",
       "      <td>0</td>\n",
       "      <td>0</td>\n",
       "      <td>1</td>\n",
       "      <td>0</td>\n",
       "      <td>1.0</td>\n",
       "      <td>0</td>\n",
       "      <td>0</td>\n",
       "      <td>0.6025</td>\n",
       "    </tr>\n",
       "    <tr>\n",
       "      <th>...</th>\n",
       "      <td>...</td>\n",
       "      <td>...</td>\n",
       "      <td>...</td>\n",
       "      <td>...</td>\n",
       "      <td>...</td>\n",
       "      <td>...</td>\n",
       "      <td>...</td>\n",
       "      <td>...</td>\n",
       "      <td>...</td>\n",
       "      <td>...</td>\n",
       "      <td>...</td>\n",
       "    </tr>\n",
       "    <tr>\n",
       "      <th>1717903</th>\n",
       "      <td>48692.929688</td>\n",
       "      <td>1.540000e+02</td>\n",
       "      <td>1.448500e+04</td>\n",
       "      <td>1</td>\n",
       "      <td>0</td>\n",
       "      <td>0</td>\n",
       "      <td>0</td>\n",
       "      <td>1.0</td>\n",
       "      <td>0</td>\n",
       "      <td>0</td>\n",
       "      <td>0.5482</td>\n",
       "    </tr>\n",
       "    <tr>\n",
       "      <th>1717904</th>\n",
       "      <td>295099.562500</td>\n",
       "      <td>1.107000e+04</td>\n",
       "      <td>4.858503e+04</td>\n",
       "      <td>1</td>\n",
       "      <td>0</td>\n",
       "      <td>0</td>\n",
       "      <td>0</td>\n",
       "      <td>1.0</td>\n",
       "      <td>0</td>\n",
       "      <td>0</td>\n",
       "      <td>0.5480</td>\n",
       "    </tr>\n",
       "    <tr>\n",
       "      <th>1717905</th>\n",
       "      <td>487133.218750</td>\n",
       "      <td>2.121600e+04</td>\n",
       "      <td>1.334439e+05</td>\n",
       "      <td>1</td>\n",
       "      <td>0</td>\n",
       "      <td>0</td>\n",
       "      <td>0</td>\n",
       "      <td>1.0</td>\n",
       "      <td>0</td>\n",
       "      <td>0</td>\n",
       "      <td>0.5463</td>\n",
       "    </tr>\n",
       "    <tr>\n",
       "      <th>1717906</th>\n",
       "      <td>11023.559570</td>\n",
       "      <td>2.115400e+04</td>\n",
       "      <td>0.000000e+00</td>\n",
       "      <td>0</td>\n",
       "      <td>0</td>\n",
       "      <td>1</td>\n",
       "      <td>0</td>\n",
       "      <td>1.0</td>\n",
       "      <td>0</td>\n",
       "      <td>0</td>\n",
       "      <td>0.6009</td>\n",
       "    </tr>\n",
       "    <tr>\n",
       "      <th>1717907</th>\n",
       "      <td>21172.810547</td>\n",
       "      <td>0.000000e+00</td>\n",
       "      <td>0.000000e+00</td>\n",
       "      <td>0</td>\n",
       "      <td>0</td>\n",
       "      <td>1</td>\n",
       "      <td>0</td>\n",
       "      <td>1.0</td>\n",
       "      <td>0</td>\n",
       "      <td>0</td>\n",
       "      <td>0.6156</td>\n",
       "    </tr>\n",
       "  </tbody>\n",
       "</table>\n",
       "<p>1717908 rows × 11 columns</p>\n",
       "</div>"
      ],
      "text/plain": [
       "                amount  oldbalanceOrg  oldbalanceDest  type_CASH_OUT  \\\n",
       "0          1846.040039   3.143670e+05    3.197192e+05              1   \n",
       "1        167575.218750   0.000000e+00    1.157624e+06              1   \n",
       "2          2078.379883   3.106017e+06    1.908596e+05              0   \n",
       "3          8917.540039   2.780013e+04    0.000000e+00              0   \n",
       "4         15412.589844   5.292000e+03    0.000000e+00              0   \n",
       "...                ...            ...             ...            ...   \n",
       "1717903   48692.929688   1.540000e+02    1.448500e+04              1   \n",
       "1717904  295099.562500   1.107000e+04    4.858503e+04              1   \n",
       "1717905  487133.218750   2.121600e+04    1.334439e+05              1   \n",
       "1717906   11023.559570   2.115400e+04    0.000000e+00              0   \n",
       "1717907   21172.810547   0.000000e+00    0.000000e+00              0   \n",
       "\n",
       "         type_DEBIT  type_PAYMENT  type_TRANSFER  isFlaggedFraud_0  isFraud  \\\n",
       "0                 0             0              0               1.0        0   \n",
       "1                 0             0              0               1.0        0   \n",
       "2                 0             0              0               1.0        0   \n",
       "3                 0             1              0               1.0        0   \n",
       "4                 0             1              0               1.0        0   \n",
       "...             ...           ...            ...               ...      ...   \n",
       "1717903           0             0              0               1.0        0   \n",
       "1717904           0             0              0               1.0        0   \n",
       "1717905           0             0              0               1.0        0   \n",
       "1717906           0             1              0               1.0        0   \n",
       "1717907           0             1              0               1.0        0   \n",
       "\n",
       "         Label   Score  \n",
       "0            0  0.5207  \n",
       "1            0  0.5639  \n",
       "2            0  0.5478  \n",
       "3            0  0.5981  \n",
       "4            0  0.6025  \n",
       "...        ...     ...  \n",
       "1717903      0  0.5482  \n",
       "1717904      0  0.5480  \n",
       "1717905      0  0.5463  \n",
       "1717906      0  0.6009  \n",
       "1717907      0  0.6156  \n",
       "\n",
       "[1717908 rows x 11 columns]"
      ]
     },
     "execution_count": 35,
     "metadata": {},
     "output_type": "execute_result"
    }
   ],
   "source": [
    "predict_model(tuned_ada)\n"
   ]
  },
  {
   "cell_type": "markdown",
   "id": "3a23741c-aa34-494d-bb73-266e60dffc0b",
   "metadata": {},
   "source": [
    "# saving the predicted value in a variable of [predict_model(tuned_lda)]"
   ]
  },
  {
   "cell_type": "code",
   "execution_count": 36,
   "id": "3054d977-c41d-4a3a-b8ca-92cfa39ca1c3",
   "metadata": {},
   "outputs": [
    {
     "data": {
      "text/html": [
       "<style type=\"text/css\">\n",
       "</style>\n",
       "<table id=\"T_db089\">\n",
       "  <thead>\n",
       "    <tr>\n",
       "      <th class=\"blank level0\" >&nbsp;</th>\n",
       "      <th id=\"T_db089_level0_col0\" class=\"col_heading level0 col0\" >Model</th>\n",
       "      <th id=\"T_db089_level0_col1\" class=\"col_heading level0 col1\" >Accuracy</th>\n",
       "      <th id=\"T_db089_level0_col2\" class=\"col_heading level0 col2\" >AUC</th>\n",
       "      <th id=\"T_db089_level0_col3\" class=\"col_heading level0 col3\" >Recall</th>\n",
       "      <th id=\"T_db089_level0_col4\" class=\"col_heading level0 col4\" >Prec.</th>\n",
       "      <th id=\"T_db089_level0_col5\" class=\"col_heading level0 col5\" >F1</th>\n",
       "      <th id=\"T_db089_level0_col6\" class=\"col_heading level0 col6\" >Kappa</th>\n",
       "      <th id=\"T_db089_level0_col7\" class=\"col_heading level0 col7\" >MCC</th>\n",
       "    </tr>\n",
       "  </thead>\n",
       "  <tbody>\n",
       "    <tr>\n",
       "      <th id=\"T_db089_level0_row0\" class=\"row_heading level0 row0\" >0</th>\n",
       "      <td id=\"T_db089_row0_col0\" class=\"data row0 col0\" >Ada Boost Classifier</td>\n",
       "      <td id=\"T_db089_row0_col1\" class=\"data row0 col1\" >0.9988</td>\n",
       "      <td id=\"T_db089_row0_col2\" class=\"data row0 col2\" >0.9795</td>\n",
       "      <td id=\"T_db089_row0_col3\" class=\"data row0 col3\" >0.0512</td>\n",
       "      <td id=\"T_db089_row0_col4\" class=\"data row0 col4\" >1.0000</td>\n",
       "      <td id=\"T_db089_row0_col5\" class=\"data row0 col5\" >0.0975</td>\n",
       "      <td id=\"T_db089_row0_col6\" class=\"data row0 col6\" >0.0974</td>\n",
       "      <td id=\"T_db089_row0_col7\" class=\"data row0 col7\" >0.2262</td>\n",
       "    </tr>\n",
       "  </tbody>\n",
       "</table>\n"
      ],
      "text/plain": [
       "<pandas.io.formats.style.Styler at 0x214adce7a00>"
      ]
     },
     "metadata": {},
     "output_type": "display_data"
    }
   ],
   "source": [
    "\n",
    "test_pred = predict_model(tuned_ada, data=data_test)\n"
   ]
  },
  {
   "cell_type": "code",
   "execution_count": 37,
   "id": "deed989c-5f3f-4220-86e0-5cbddd5a2c08",
   "metadata": {},
   "outputs": [
    {
     "data": {
      "text/html": [
       "<div>\n",
       "<style scoped>\n",
       "    .dataframe tbody tr th:only-of-type {\n",
       "        vertical-align: middle;\n",
       "    }\n",
       "\n",
       "    .dataframe tbody tr th {\n",
       "        vertical-align: top;\n",
       "    }\n",
       "\n",
       "    .dataframe thead th {\n",
       "        text-align: right;\n",
       "    }\n",
       "</style>\n",
       "<table border=\"1\" class=\"dataframe\">\n",
       "  <thead>\n",
       "    <tr style=\"text-align: right;\">\n",
       "      <th></th>\n",
       "      <th>amount</th>\n",
       "      <th>oldbalanceOrg</th>\n",
       "      <th>oldbalanceDest</th>\n",
       "      <th>isFraud</th>\n",
       "      <th>isFlaggedFraud</th>\n",
       "      <th>type_CASH_OUT</th>\n",
       "      <th>type_DEBIT</th>\n",
       "      <th>type_PAYMENT</th>\n",
       "      <th>type_TRANSFER</th>\n",
       "      <th>Label</th>\n",
       "      <th>Score</th>\n",
       "    </tr>\n",
       "  </thead>\n",
       "  <tbody>\n",
       "    <tr>\n",
       "      <th>0</th>\n",
       "      <td>4024.36</td>\n",
       "      <td>2671.00</td>\n",
       "      <td>0.00</td>\n",
       "      <td>0</td>\n",
       "      <td>0</td>\n",
       "      <td>0</td>\n",
       "      <td>0</td>\n",
       "      <td>1</td>\n",
       "      <td>0</td>\n",
       "      <td>0</td>\n",
       "      <td>0.6019</td>\n",
       "    </tr>\n",
       "    <tr>\n",
       "      <th>1</th>\n",
       "      <td>2560.74</td>\n",
       "      <td>5070.00</td>\n",
       "      <td>0.00</td>\n",
       "      <td>0</td>\n",
       "      <td>0</td>\n",
       "      <td>0</td>\n",
       "      <td>0</td>\n",
       "      <td>1</td>\n",
       "      <td>0</td>\n",
       "      <td>0</td>\n",
       "      <td>0.6012</td>\n",
       "    </tr>\n",
       "    <tr>\n",
       "      <th>2</th>\n",
       "      <td>11633.76</td>\n",
       "      <td>10127.00</td>\n",
       "      <td>0.00</td>\n",
       "      <td>0</td>\n",
       "      <td>0</td>\n",
       "      <td>0</td>\n",
       "      <td>0</td>\n",
       "      <td>1</td>\n",
       "      <td>0</td>\n",
       "      <td>0</td>\n",
       "      <td>0.6025</td>\n",
       "    </tr>\n",
       "    <tr>\n",
       "      <th>3</th>\n",
       "      <td>4098.78</td>\n",
       "      <td>503264.00</td>\n",
       "      <td>0.00</td>\n",
       "      <td>0</td>\n",
       "      <td>0</td>\n",
       "      <td>0</td>\n",
       "      <td>0</td>\n",
       "      <td>1</td>\n",
       "      <td>0</td>\n",
       "      <td>0</td>\n",
       "      <td>0.5815</td>\n",
       "    </tr>\n",
       "    <tr>\n",
       "      <th>4</th>\n",
       "      <td>229133.94</td>\n",
       "      <td>15325.00</td>\n",
       "      <td>5083.00</td>\n",
       "      <td>0</td>\n",
       "      <td>0</td>\n",
       "      <td>1</td>\n",
       "      <td>0</td>\n",
       "      <td>0</td>\n",
       "      <td>0</td>\n",
       "      <td>0</td>\n",
       "      <td>0.5445</td>\n",
       "    </tr>\n",
       "    <tr>\n",
       "      <th>...</th>\n",
       "      <td>...</td>\n",
       "      <td>...</td>\n",
       "      <td>...</td>\n",
       "      <td>...</td>\n",
       "      <td>...</td>\n",
       "      <td>...</td>\n",
       "      <td>...</td>\n",
       "      <td>...</td>\n",
       "      <td>...</td>\n",
       "      <td>...</td>\n",
       "      <td>...</td>\n",
       "    </tr>\n",
       "    <tr>\n",
       "      <th>636257</th>\n",
       "      <td>8116.53</td>\n",
       "      <td>8116.53</td>\n",
       "      <td>7638.26</td>\n",
       "      <td>1</td>\n",
       "      <td>0</td>\n",
       "      <td>1</td>\n",
       "      <td>0</td>\n",
       "      <td>0</td>\n",
       "      <td>0</td>\n",
       "      <td>0</td>\n",
       "      <td>0.5363</td>\n",
       "    </tr>\n",
       "    <tr>\n",
       "      <th>636258</th>\n",
       "      <td>194521.28</td>\n",
       "      <td>194521.28</td>\n",
       "      <td>7203373.74</td>\n",
       "      <td>1</td>\n",
       "      <td>0</td>\n",
       "      <td>1</td>\n",
       "      <td>0</td>\n",
       "      <td>0</td>\n",
       "      <td>0</td>\n",
       "      <td>0</td>\n",
       "      <td>0.5336</td>\n",
       "    </tr>\n",
       "    <tr>\n",
       "      <th>636259</th>\n",
       "      <td>1755647.81</td>\n",
       "      <td>1755647.81</td>\n",
       "      <td>2930014.23</td>\n",
       "      <td>1</td>\n",
       "      <td>0</td>\n",
       "      <td>1</td>\n",
       "      <td>0</td>\n",
       "      <td>0</td>\n",
       "      <td>0</td>\n",
       "      <td>0</td>\n",
       "      <td>0.5188</td>\n",
       "    </tr>\n",
       "    <tr>\n",
       "      <th>636260</th>\n",
       "      <td>54652.46</td>\n",
       "      <td>54652.46</td>\n",
       "      <td>0.00</td>\n",
       "      <td>1</td>\n",
       "      <td>0</td>\n",
       "      <td>1</td>\n",
       "      <td>0</td>\n",
       "      <td>0</td>\n",
       "      <td>0</td>\n",
       "      <td>0</td>\n",
       "      <td>0.5278</td>\n",
       "    </tr>\n",
       "    <tr>\n",
       "      <th>636261</th>\n",
       "      <td>303846.74</td>\n",
       "      <td>303846.74</td>\n",
       "      <td>0.00</td>\n",
       "      <td>1</td>\n",
       "      <td>0</td>\n",
       "      <td>0</td>\n",
       "      <td>0</td>\n",
       "      <td>0</td>\n",
       "      <td>1</td>\n",
       "      <td>0</td>\n",
       "      <td>0.5187</td>\n",
       "    </tr>\n",
       "  </tbody>\n",
       "</table>\n",
       "<p>636262 rows × 11 columns</p>\n",
       "</div>"
      ],
      "text/plain": [
       "            amount  oldbalanceOrg  oldbalanceDest  isFraud  isFlaggedFraud  \\\n",
       "0          4024.36        2671.00            0.00        0               0   \n",
       "1          2560.74        5070.00            0.00        0               0   \n",
       "2         11633.76       10127.00            0.00        0               0   \n",
       "3          4098.78      503264.00            0.00        0               0   \n",
       "4        229133.94       15325.00         5083.00        0               0   \n",
       "...            ...            ...             ...      ...             ...   \n",
       "636257     8116.53        8116.53         7638.26        1               0   \n",
       "636258   194521.28      194521.28      7203373.74        1               0   \n",
       "636259  1755647.81     1755647.81      2930014.23        1               0   \n",
       "636260    54652.46       54652.46            0.00        1               0   \n",
       "636261   303846.74      303846.74            0.00        1               0   \n",
       "\n",
       "        type_CASH_OUT  type_DEBIT  type_PAYMENT  type_TRANSFER  Label   Score  \n",
       "0                   0           0             1              0      0  0.6019  \n",
       "1                   0           0             1              0      0  0.6012  \n",
       "2                   0           0             1              0      0  0.6025  \n",
       "3                   0           0             1              0      0  0.5815  \n",
       "4                   1           0             0              0      0  0.5445  \n",
       "...               ...         ...           ...            ...    ...     ...  \n",
       "636257              1           0             0              0      0  0.5363  \n",
       "636258              1           0             0              0      0  0.5336  \n",
       "636259              1           0             0              0      0  0.5188  \n",
       "636260              1           0             0              0      0  0.5278  \n",
       "636261              0           0             0              1      0  0.5187  \n",
       "\n",
       "[636262 rows x 11 columns]"
      ]
     },
     "execution_count": 37,
     "metadata": {},
     "output_type": "execute_result"
    }
   ],
   "source": [
    "test_pred"
   ]
  },
  {
   "cell_type": "markdown",
   "id": "0af98ccf-b169-446a-9bab-91ec8cb81402",
   "metadata": {},
   "source": [
    "# saving the model"
   ]
  },
  {
   "cell_type": "code",
   "execution_count": 38,
   "id": "e386ffdc-2f50-422b-b49c-51db295858ea",
   "metadata": {},
   "outputs": [
    {
     "name": "stdout",
     "output_type": "stream",
     "text": [
      "Transformation Pipeline and Model Successfully Saved\n"
     ]
    },
    {
     "data": {
      "text/plain": [
       "(Pipeline(memory=None,\n",
       "          steps=[('dtypes',\n",
       "                  DataTypes_Auto_infer(categorical_features=[],\n",
       "                                       display_types=True, features_todrop=[],\n",
       "                                       id_columns=[],\n",
       "                                       ml_usecase='classification',\n",
       "                                       numerical_features=[], target='isFraud',\n",
       "                                       time_features=[])),\n",
       "                 ('imputer',\n",
       "                  Simple_Imputer(categorical_strategy='not_available',\n",
       "                                 fill_value_categorical=None,\n",
       "                                 fill_value_numerical=None,\n",
       "                                 numeric_stra...\n",
       "                 ('dummy', Dummify(target='isFraud')),\n",
       "                 ('fix_perfect', Remove_100(target='isFraud')),\n",
       "                 ('clean_names', Clean_Colum_Names()),\n",
       "                 ('feature_select', 'passthrough'), ('fix_multi', 'passthrough'),\n",
       "                 ('dfs', 'passthrough'), ('pca', 'passthrough'),\n",
       "                 ['trained_model',\n",
       "                  AdaBoostClassifier(algorithm='SAMME.R', base_estimator=None,\n",
       "                                     learning_rate=0.2, n_estimators=230,\n",
       "                                     random_state=123)]],\n",
       "          verbose=False),\n",
       " 'classification Model.pkl')"
      ]
     },
     "execution_count": 38,
     "metadata": {},
     "output_type": "execute_result"
    }
   ],
   "source": [
    "\n",
    "save_model(tuned_ada, \"classification Model\")\n"
   ]
  },
  {
   "cell_type": "markdown",
   "id": "98ef2b7f-6f38-4b54-8d73-3e96fb0c1ac8",
   "metadata": {},
   "source": [
    " # saving the model in variable"
   ]
  },
  {
   "cell_type": "code",
   "execution_count": 39,
   "id": "6f238a61-6cd9-46f2-9f84-a81d99f6e961",
   "metadata": {},
   "outputs": [
    {
     "name": "stdout",
     "output_type": "stream",
     "text": [
      "Transformation Pipeline and Model Successfully Loaded\n"
     ]
    }
   ],
   "source": [
    "\n",
    "saved_final_model = load_model(\"classification Model\")\n"
   ]
  },
  {
   "cell_type": "markdown",
   "id": "9916726f-1237-485c-8d2f-03605b4196b6",
   "metadata": {},
   "source": [
    "# making new prediction on saved_final_model\n",
    "\n"
   ]
  },
  {
   "cell_type": "code",
   "execution_count": 40,
   "id": "5f210bfc-6a7f-4931-a0f8-4d36e3ab962d",
   "metadata": {},
   "outputs": [
    {
     "data": {
      "text/html": [
       "<style type=\"text/css\">\n",
       "</style>\n",
       "<table id=\"T_00ae9\">\n",
       "  <thead>\n",
       "    <tr>\n",
       "      <th class=\"blank level0\" >&nbsp;</th>\n",
       "      <th id=\"T_00ae9_level0_col0\" class=\"col_heading level0 col0\" >Model</th>\n",
       "      <th id=\"T_00ae9_level0_col1\" class=\"col_heading level0 col1\" >Accuracy</th>\n",
       "      <th id=\"T_00ae9_level0_col2\" class=\"col_heading level0 col2\" >AUC</th>\n",
       "      <th id=\"T_00ae9_level0_col3\" class=\"col_heading level0 col3\" >Recall</th>\n",
       "      <th id=\"T_00ae9_level0_col4\" class=\"col_heading level0 col4\" >Prec.</th>\n",
       "      <th id=\"T_00ae9_level0_col5\" class=\"col_heading level0 col5\" >F1</th>\n",
       "      <th id=\"T_00ae9_level0_col6\" class=\"col_heading level0 col6\" >Kappa</th>\n",
       "      <th id=\"T_00ae9_level0_col7\" class=\"col_heading level0 col7\" >MCC</th>\n",
       "    </tr>\n",
       "  </thead>\n",
       "  <tbody>\n",
       "    <tr>\n",
       "      <th id=\"T_00ae9_level0_row0\" class=\"row_heading level0 row0\" >0</th>\n",
       "      <td id=\"T_00ae9_row0_col0\" class=\"data row0 col0\" >Ada Boost Classifier</td>\n",
       "      <td id=\"T_00ae9_row0_col1\" class=\"data row0 col1\" >0.9988</td>\n",
       "      <td id=\"T_00ae9_row0_col2\" class=\"data row0 col2\" >0.9795</td>\n",
       "      <td id=\"T_00ae9_row0_col3\" class=\"data row0 col3\" >0.0512</td>\n",
       "      <td id=\"T_00ae9_row0_col4\" class=\"data row0 col4\" >1.0000</td>\n",
       "      <td id=\"T_00ae9_row0_col5\" class=\"data row0 col5\" >0.0975</td>\n",
       "      <td id=\"T_00ae9_row0_col6\" class=\"data row0 col6\" >0.0974</td>\n",
       "      <td id=\"T_00ae9_row0_col7\" class=\"data row0 col7\" >0.2262</td>\n",
       "    </tr>\n",
       "  </tbody>\n",
       "</table>\n"
      ],
      "text/plain": [
       "<pandas.io.formats.style.Styler at 0x214ad91f0a0>"
      ]
     },
     "metadata": {},
     "output_type": "display_data"
    }
   ],
   "source": [
    "new_prediction = predict_model(saved_final_model, data=data_test)\n"
   ]
  },
  {
   "cell_type": "code",
   "execution_count": 41,
   "id": "5535e81c-74f6-4316-bc9b-6a6dd7aeab9b",
   "metadata": {},
   "outputs": [
    {
     "data": {
      "text/html": [
       "<div>\n",
       "<style scoped>\n",
       "    .dataframe tbody tr th:only-of-type {\n",
       "        vertical-align: middle;\n",
       "    }\n",
       "\n",
       "    .dataframe tbody tr th {\n",
       "        vertical-align: top;\n",
       "    }\n",
       "\n",
       "    .dataframe thead th {\n",
       "        text-align: right;\n",
       "    }\n",
       "</style>\n",
       "<table border=\"1\" class=\"dataframe\">\n",
       "  <thead>\n",
       "    <tr style=\"text-align: right;\">\n",
       "      <th></th>\n",
       "      <th>amount</th>\n",
       "      <th>oldbalanceOrg</th>\n",
       "      <th>oldbalanceDest</th>\n",
       "      <th>isFraud</th>\n",
       "      <th>isFlaggedFraud</th>\n",
       "      <th>type_CASH_OUT</th>\n",
       "      <th>type_DEBIT</th>\n",
       "      <th>type_PAYMENT</th>\n",
       "      <th>type_TRANSFER</th>\n",
       "      <th>Label</th>\n",
       "      <th>Score</th>\n",
       "    </tr>\n",
       "  </thead>\n",
       "  <tbody>\n",
       "    <tr>\n",
       "      <th>0</th>\n",
       "      <td>4024.36</td>\n",
       "      <td>2671.0</td>\n",
       "      <td>0.0</td>\n",
       "      <td>0</td>\n",
       "      <td>0</td>\n",
       "      <td>0</td>\n",
       "      <td>0</td>\n",
       "      <td>1</td>\n",
       "      <td>0</td>\n",
       "      <td>0</td>\n",
       "      <td>0.6019</td>\n",
       "    </tr>\n",
       "    <tr>\n",
       "      <th>1</th>\n",
       "      <td>2560.74</td>\n",
       "      <td>5070.0</td>\n",
       "      <td>0.0</td>\n",
       "      <td>0</td>\n",
       "      <td>0</td>\n",
       "      <td>0</td>\n",
       "      <td>0</td>\n",
       "      <td>1</td>\n",
       "      <td>0</td>\n",
       "      <td>0</td>\n",
       "      <td>0.6012</td>\n",
       "    </tr>\n",
       "    <tr>\n",
       "      <th>2</th>\n",
       "      <td>11633.76</td>\n",
       "      <td>10127.0</td>\n",
       "      <td>0.0</td>\n",
       "      <td>0</td>\n",
       "      <td>0</td>\n",
       "      <td>0</td>\n",
       "      <td>0</td>\n",
       "      <td>1</td>\n",
       "      <td>0</td>\n",
       "      <td>0</td>\n",
       "      <td>0.6025</td>\n",
       "    </tr>\n",
       "    <tr>\n",
       "      <th>3</th>\n",
       "      <td>4098.78</td>\n",
       "      <td>503264.0</td>\n",
       "      <td>0.0</td>\n",
       "      <td>0</td>\n",
       "      <td>0</td>\n",
       "      <td>0</td>\n",
       "      <td>0</td>\n",
       "      <td>1</td>\n",
       "      <td>0</td>\n",
       "      <td>0</td>\n",
       "      <td>0.5815</td>\n",
       "    </tr>\n",
       "    <tr>\n",
       "      <th>4</th>\n",
       "      <td>229133.94</td>\n",
       "      <td>15325.0</td>\n",
       "      <td>5083.0</td>\n",
       "      <td>0</td>\n",
       "      <td>0</td>\n",
       "      <td>1</td>\n",
       "      <td>0</td>\n",
       "      <td>0</td>\n",
       "      <td>0</td>\n",
       "      <td>0</td>\n",
       "      <td>0.5445</td>\n",
       "    </tr>\n",
       "  </tbody>\n",
       "</table>\n",
       "</div>"
      ],
      "text/plain": [
       "      amount  oldbalanceOrg  oldbalanceDest  isFraud  isFlaggedFraud  \\\n",
       "0    4024.36         2671.0             0.0        0               0   \n",
       "1    2560.74         5070.0             0.0        0               0   \n",
       "2   11633.76        10127.0             0.0        0               0   \n",
       "3    4098.78       503264.0             0.0        0               0   \n",
       "4  229133.94        15325.0          5083.0        0               0   \n",
       "\n",
       "   type_CASH_OUT  type_DEBIT  type_PAYMENT  type_TRANSFER  Label   Score  \n",
       "0              0           0             1              0      0  0.6019  \n",
       "1              0           0             1              0      0  0.6012  \n",
       "2              0           0             1              0      0  0.6025  \n",
       "3              0           0             1              0      0  0.5815  \n",
       "4              1           0             0              0      0  0.5445  "
      ]
     },
     "execution_count": 41,
     "metadata": {},
     "output_type": "execute_result"
    }
   ],
   "source": [
    "new_prediction.head()"
   ]
  },
  {
   "cell_type": "code",
   "execution_count": null,
   "id": "163adaa8-c375-4fea-aef2-335efed61c17",
   "metadata": {},
   "outputs": [],
   "source": []
  }
 ],
 "metadata": {
  "kernelspec": {
   "display_name": "Python 3 (ipykernel)",
   "language": "python",
   "name": "python3"
  },
  "language_info": {
   "codemirror_mode": {
    "name": "ipython",
    "version": 3
   },
   "file_extension": ".py",
   "mimetype": "text/x-python",
   "name": "python",
   "nbconvert_exporter": "python",
   "pygments_lexer": "ipython3",
   "version": "3.9.13"
  }
 },
 "nbformat": 4,
 "nbformat_minor": 5
}
